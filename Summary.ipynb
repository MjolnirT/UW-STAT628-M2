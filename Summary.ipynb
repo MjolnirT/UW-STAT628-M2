{
 "cells": [
  {
   "attachments": {},
   "cell_type": "markdown",
   "metadata": {},
   "source": [
    "<h1 style=\"text-align:center\">A easy way to get Bodyfat </h1>\n",
    "<h4 style=\"text-align:right\">Hao Qin, Jiacheng Mao, Qiaoyu Wang, Yuhan Meng </h4>\n",
    "\n",
    "# 1.Introduction\n",
    "\n",
    "Nowadays, the  physical health has become a serious concern in the modern society since excess storage of fat will lead to a variety range of disease and highly leave up the risk of coronary heart disease. To measure the fat of person, we also have developed several methods, including BMI index, which is the quotient of weight divided by height squared. \n",
    "In this article, we develop a sample method to measure the bodyfat percentage of one person, which only requires few easily accessible variables.\n",
    "## 1.1 Outliers Detection\n",
    "The data we have is BodyFat.csv file which includes **253** persons physical data in total **17** variables. In order to use these data to build the model, we use three different types of methods to detect not only the outliers, but also the influence points in the original dataset, \n",
    "which is Siri's equation, BMI formula and cook's distance. Those points will deviate from the line or the region on which most points are, \n",
    "thus, it is easy for us to detect them through graphics.\n",
    "### Siri's equation\n",
    "$$ \\text{Percentage of Body Fat} = \\dfrac{495}{\\text{Body Density(gm/cm^3)}} - 450$$\n",
    "### BMI equation\n",
    "$$ \\text{BMI} = \\dfrac{\\text{weight}}{\\text{hight}^2} $$\n",
    "### Data Diagnosis"
   ]
  },
  {
   "cell_type": "markdown",
   "metadata": {},
   "source": [
    "<img src=\"images\\siri_bmi_detection.png\" width=660, height = 250>"
   ]
  },
  {
   "cell_type": "markdown",
   "metadata": {},
   "source": [
    "The criteria we follow in the treatment are three clauses:\n",
    "**Retain**, **Impute** or **Exclude**. If the data have no abnormal variables comparing to the majority points, we keep it into the final model fitting process. On the contrary, if the data has been detected from one of above three methods, we assume that some components are gathering incorrectly and need to impute the wrong component to retain the imputation. However, the if the imputed data does not reasonable neither, we have to delete it from the dataset. For the high influence point, we prefer to delete those points."
   ]
  },
  {
   "cell_type": "markdown",
   "metadata": {},
   "source": [
    "<img src=\"images\\outliers.png\" width=720, height = 200>"
   ]
  },
  {
   "cell_type": "markdown",
   "metadata": {},
   "source": [
    "One obstacle in front of us is to detect which component should be responsible for the outliers. We select several normal points to compare the abnormal one, which they have many similar components with the outlier, thus we can assume the component does not match with each other should be corrected."
   ]
  },
  {
   "cell_type": "markdown",
   "metadata": {},
   "source": [
    "## 1.2 Final Checking"
   ]
  },
  {
   "cell_type": "markdown",
   "metadata": {},
   "source": [
    "# 2 Variable Selection and Model Fitting\n",
    "In this part, several methods have been applied, including stepwise aic and bic selection, lasso, mallow’s cp and Bess, which is a new proposed way to selecting variables. After applying these methods, since the total sample size is not large, we can use cross validation to measure the performance of each method, to decide which component should be treated as the independent variable in the final model. To be specific, the final model should be as a rule of thumb, which requires that the quantity of the independent variables should not exceed four."
   ]
  },
  {
   "cell_type": "markdown",
   "metadata": {},
   "source": [
    "<img src=\"images\\comparison_between_models.png\" width=650, height = 230>\n",
    "To be specific, any stepwise variable selection methods has been combined with the linear model such as AIC and BIC.\n",
    "\n",
    "When we calculate the mse of each model we select, cross validation has been applied to avoid outfitting. Thus, we should focus on whether the mse value of these models are same or deviating from each other since there will be a fluctuation in each time we calculate."
   ]
  },
  {
   "cell_type": "markdown",
   "metadata": {},
   "source": [
    "From Table 3, there is no significant difference in Mean squared error among those different methods except the situation of one variable. Considering the rule of thumb, we decide to choose a model within two variables, which is not a heavy sacrifice in accuracy. The variables we select are weight and abdomen, applied in the sample linear model."
   ]
  },
  {
   "cell_type": "markdown",
   "metadata": {},
   "source": [
    "# 3 Model Diagnostics\n",
    "After fitting the model, we need to exam the normality of the residual and if there exist any pattern.\n",
    "<img src=\"images\\diagnostic_after_model.jpg\" width=360, height = 240>\n",
    "Apparently, there is no significant pattern among those plots, and the normality of the residual can be guaranteed. The As for the Homoscedasticity and Influential points, there no significant points showing in the plot. Thus we can accept the fitted model."
   ]
  },
  {
   "cell_type": "markdown",
   "metadata": {},
   "source": [
    "# 4 Conclusion\n",
    "#### Advantage: \n",
    "**1.Rule of Thumb:** The model we use only include two variables, which it is easy for test person to acquire its bodyfat percentage quickly.\n",
    "\n",
    "**2.Simplicity:** The model only uses around 250 data to build a linear model, which is easy to handle for a modern computer.\n",
    "#### Disadvantage:\n",
    "**1.Not a well-founded model** This model is founded by about 250 person, which can hardly represent all of human since there might be some differences among different district.\n",
    "\n",
    "**2.Measurement error:** Since the abdomen has been included in the model, it is easily to be measured incorrectly for normal people."
   ]
  },
  {
   "attachments": {},
   "cell_type": "markdown",
   "metadata": {},
   "source": [
    "# 5 Contribution\n",
    "Hao Qin: BeSS model building, slide editing, jupytor file editing and pdf summary editing\n",
    "\n",
    "Qiaoyu Wang: Analyzing data with Mallow's Cp and Adjusted R square, integrating the ipynb and check the assumption by model diagnosis.\n",
    "\n",
    "Jiacheng Mao: Set up Lasso model and Shinny App\n",
    "\n",
    "Yuhan Meng: Data Cleaning, slide making, using stepwise variables selection model buidling method and drawing diagnostic plots"
   ]
  },
  {
   "cell_type": "markdown",
   "metadata": {},
   "source": [
    "# 6 Reference\n",
    "Centers for Disease Control and Prevention. (2011). Body mass index: considerations for practitioners. Cdc [Internet], 1-4.\n",
    "\n",
    "Fuller, N. J., & Elia, M. (1990). Calculation of body fat in the obese by Siri's formula. European journal of clinical nutrition, 44(2), 165.\n",
    "\n",
    "Wen, C., Zhang, A., Quan, S., & Wang, X. (2017). BeSS: An R Package for Best Subset Selection in Linear, Logistic and CoxPH Models. arXiv preprint arXiv:1709.06254."
   ]
  }
 ],
 "metadata": {
  "hide_input": false,
  "kernelspec": {
   "display_name": "R",
   "language": "R",
   "name": "ir"
  },
  "language_info": {
   "codemirror_mode": "r",
   "file_extension": ".r",
   "mimetype": "text/x-r-source",
   "name": "R",
   "pygments_lexer": "r",
   "version": "3.6.1"
  },
  "toc": {
   "base_numbering": 1,
   "nav_menu": {},
   "number_sections": true,
   "sideBar": true,
   "skip_h1_title": false,
   "title_cell": "Table of Contents",
   "title_sidebar": "Contents",
   "toc_cell": false,
   "toc_position": {},
   "toc_section_display": true,
   "toc_window_display": false
  }
 },
 "nbformat": 4,
 "nbformat_minor": 2
}
