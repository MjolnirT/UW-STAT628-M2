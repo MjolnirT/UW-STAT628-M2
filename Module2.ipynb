{
 "cells": [
  {
   "cell_type": "markdown",
   "metadata": {},
   "source": [
    "# 1 cleaning data"
   ]
  },
  {
   "cell_type": "markdown",
   "metadata": {},
   "source": [
    "## 1. 1 use siri equation to find outlier"
   ]
  },
  {
   "cell_type": "code",
   "execution_count": 1,
   "metadata": {
    "scrolled": false
   },
   "outputs": [
    {
     "data": {
      "text/html": [
       "<table>\n",
       "<caption>A data.frame: 6 × 17</caption>\n",
       "<thead>\n",
       "\t<tr><th scope=col>IDNO</th><th scope=col>BODYFAT</th><th scope=col>DENSITY</th><th scope=col>AGE</th><th scope=col>WEIGHT</th><th scope=col>HEIGHT</th><th scope=col>ADIPOSITY</th><th scope=col>NECK</th><th scope=col>CHEST</th><th scope=col>ABDOMEN</th><th scope=col>HIP</th><th scope=col>THIGH</th><th scope=col>KNEE</th><th scope=col>ANKLE</th><th scope=col>BICEPS</th><th scope=col>FOREARM</th><th scope=col>WRIST</th></tr>\n",
       "\t<tr><th scope=col>&lt;int&gt;</th><th scope=col>&lt;dbl&gt;</th><th scope=col>&lt;dbl&gt;</th><th scope=col>&lt;int&gt;</th><th scope=col>&lt;dbl&gt;</th><th scope=col>&lt;dbl&gt;</th><th scope=col>&lt;dbl&gt;</th><th scope=col>&lt;dbl&gt;</th><th scope=col>&lt;dbl&gt;</th><th scope=col>&lt;dbl&gt;</th><th scope=col>&lt;dbl&gt;</th><th scope=col>&lt;dbl&gt;</th><th scope=col>&lt;dbl&gt;</th><th scope=col>&lt;dbl&gt;</th><th scope=col>&lt;dbl&gt;</th><th scope=col>&lt;dbl&gt;</th><th scope=col>&lt;dbl&gt;</th></tr>\n",
       "</thead>\n",
       "<tbody>\n",
       "\t<tr><td>1</td><td>12.6</td><td>1.0708</td><td>23</td><td>154.25</td><td>67.75</td><td>23.7</td><td>36.2</td><td> 93.1</td><td> 85.2</td><td> 94.5</td><td>59.0</td><td>37.3</td><td>21.9</td><td>32.0</td><td>27.4</td><td>17.1</td></tr>\n",
       "\t<tr><td>2</td><td> 6.9</td><td>1.0853</td><td>22</td><td>173.25</td><td>72.25</td><td>23.4</td><td>38.5</td><td> 93.6</td><td> 83.0</td><td> 98.7</td><td>58.7</td><td>37.3</td><td>23.4</td><td>30.5</td><td>28.9</td><td>18.2</td></tr>\n",
       "\t<tr><td>3</td><td>24.6</td><td>1.0414</td><td>22</td><td>154.00</td><td>66.25</td><td>24.7</td><td>34.0</td><td> 95.8</td><td> 87.9</td><td> 99.2</td><td>59.6</td><td>38.9</td><td>24.0</td><td>28.8</td><td>25.2</td><td>16.6</td></tr>\n",
       "\t<tr><td>4</td><td>10.9</td><td>1.0751</td><td>26</td><td>184.75</td><td>72.25</td><td>24.9</td><td>37.4</td><td>101.8</td><td> 86.4</td><td>101.2</td><td>60.1</td><td>37.3</td><td>22.8</td><td>32.4</td><td>29.4</td><td>18.2</td></tr>\n",
       "\t<tr><td>5</td><td>27.8</td><td>1.0340</td><td>24</td><td>184.25</td><td>71.25</td><td>25.6</td><td>34.4</td><td> 97.3</td><td>100.0</td><td>101.9</td><td>63.2</td><td>42.2</td><td>24.0</td><td>32.2</td><td>27.7</td><td>17.7</td></tr>\n",
       "\t<tr><td>6</td><td>20.6</td><td>1.0502</td><td>24</td><td>210.25</td><td>74.75</td><td>26.5</td><td>39.0</td><td>104.5</td><td> 94.4</td><td>107.8</td><td>66.0</td><td>42.0</td><td>25.6</td><td>35.7</td><td>30.6</td><td>18.8</td></tr>\n",
       "</tbody>\n",
       "</table>\n"
      ],
      "text/latex": [
       "A data.frame: 6 × 17\n",
       "\\begin{tabular}{r|lllllllllllllllll}\n",
       " IDNO & BODYFAT & DENSITY & AGE & WEIGHT & HEIGHT & ADIPOSITY & NECK & CHEST & ABDOMEN & HIP & THIGH & KNEE & ANKLE & BICEPS & FOREARM & WRIST\\\\\n",
       " <int> & <dbl> & <dbl> & <int> & <dbl> & <dbl> & <dbl> & <dbl> & <dbl> & <dbl> & <dbl> & <dbl> & <dbl> & <dbl> & <dbl> & <dbl> & <dbl>\\\\\n",
       "\\hline\n",
       "\t 1 & 12.6 & 1.0708 & 23 & 154.25 & 67.75 & 23.7 & 36.2 &  93.1 &  85.2 &  94.5 & 59.0 & 37.3 & 21.9 & 32.0 & 27.4 & 17.1\\\\\n",
       "\t 2 &  6.9 & 1.0853 & 22 & 173.25 & 72.25 & 23.4 & 38.5 &  93.6 &  83.0 &  98.7 & 58.7 & 37.3 & 23.4 & 30.5 & 28.9 & 18.2\\\\\n",
       "\t 3 & 24.6 & 1.0414 & 22 & 154.00 & 66.25 & 24.7 & 34.0 &  95.8 &  87.9 &  99.2 & 59.6 & 38.9 & 24.0 & 28.8 & 25.2 & 16.6\\\\\n",
       "\t 4 & 10.9 & 1.0751 & 26 & 184.75 & 72.25 & 24.9 & 37.4 & 101.8 &  86.4 & 101.2 & 60.1 & 37.3 & 22.8 & 32.4 & 29.4 & 18.2\\\\\n",
       "\t 5 & 27.8 & 1.0340 & 24 & 184.25 & 71.25 & 25.6 & 34.4 &  97.3 & 100.0 & 101.9 & 63.2 & 42.2 & 24.0 & 32.2 & 27.7 & 17.7\\\\\n",
       "\t 6 & 20.6 & 1.0502 & 24 & 210.25 & 74.75 & 26.5 & 39.0 & 104.5 &  94.4 & 107.8 & 66.0 & 42.0 & 25.6 & 35.7 & 30.6 & 18.8\\\\\n",
       "\\end{tabular}\n"
      ],
      "text/markdown": [
       "\n",
       "A data.frame: 6 × 17\n",
       "\n",
       "| IDNO &lt;int&gt; | BODYFAT &lt;dbl&gt; | DENSITY &lt;dbl&gt; | AGE &lt;int&gt; | WEIGHT &lt;dbl&gt; | HEIGHT &lt;dbl&gt; | ADIPOSITY &lt;dbl&gt; | NECK &lt;dbl&gt; | CHEST &lt;dbl&gt; | ABDOMEN &lt;dbl&gt; | HIP &lt;dbl&gt; | THIGH &lt;dbl&gt; | KNEE &lt;dbl&gt; | ANKLE &lt;dbl&gt; | BICEPS &lt;dbl&gt; | FOREARM &lt;dbl&gt; | WRIST &lt;dbl&gt; |\n",
       "|---|---|---|---|---|---|---|---|---|---|---|---|---|---|---|---|---|\n",
       "| 1 | 12.6 | 1.0708 | 23 | 154.25 | 67.75 | 23.7 | 36.2 |  93.1 |  85.2 |  94.5 | 59.0 | 37.3 | 21.9 | 32.0 | 27.4 | 17.1 |\n",
       "| 2 |  6.9 | 1.0853 | 22 | 173.25 | 72.25 | 23.4 | 38.5 |  93.6 |  83.0 |  98.7 | 58.7 | 37.3 | 23.4 | 30.5 | 28.9 | 18.2 |\n",
       "| 3 | 24.6 | 1.0414 | 22 | 154.00 | 66.25 | 24.7 | 34.0 |  95.8 |  87.9 |  99.2 | 59.6 | 38.9 | 24.0 | 28.8 | 25.2 | 16.6 |\n",
       "| 4 | 10.9 | 1.0751 | 26 | 184.75 | 72.25 | 24.9 | 37.4 | 101.8 |  86.4 | 101.2 | 60.1 | 37.3 | 22.8 | 32.4 | 29.4 | 18.2 |\n",
       "| 5 | 27.8 | 1.0340 | 24 | 184.25 | 71.25 | 25.6 | 34.4 |  97.3 | 100.0 | 101.9 | 63.2 | 42.2 | 24.0 | 32.2 | 27.7 | 17.7 |\n",
       "| 6 | 20.6 | 1.0502 | 24 | 210.25 | 74.75 | 26.5 | 39.0 | 104.5 |  94.4 | 107.8 | 66.0 | 42.0 | 25.6 | 35.7 | 30.6 | 18.8 |\n",
       "\n"
      ],
      "text/plain": [
       "  IDNO BODYFAT DENSITY AGE WEIGHT HEIGHT ADIPOSITY NECK CHEST ABDOMEN HIP  \n",
       "1 1    12.6    1.0708  23  154.25 67.75  23.7      36.2  93.1  85.2    94.5\n",
       "2 2     6.9    1.0853  22  173.25 72.25  23.4      38.5  93.6  83.0    98.7\n",
       "3 3    24.6    1.0414  22  154.00 66.25  24.7      34.0  95.8  87.9    99.2\n",
       "4 4    10.9    1.0751  26  184.75 72.25  24.9      37.4 101.8  86.4   101.2\n",
       "5 5    27.8    1.0340  24  184.25 71.25  25.6      34.4  97.3 100.0   101.9\n",
       "6 6    20.6    1.0502  24  210.25 74.75  26.5      39.0 104.5  94.4   107.8\n",
       "  THIGH KNEE ANKLE BICEPS FOREARM WRIST\n",
       "1 59.0  37.3 21.9  32.0   27.4    17.1 \n",
       "2 58.7  37.3 23.4  30.5   28.9    18.2 \n",
       "3 59.6  38.9 24.0  28.8   25.2    16.6 \n",
       "4 60.1  37.3 22.8  32.4   29.4    18.2 \n",
       "5 63.2  42.2 24.0  32.2   27.7    17.7 \n",
       "6 66.0  42.0 25.6  35.7   30.6    18.8 "
      ]
     },
     "metadata": {},
     "output_type": "display_data"
    }
   ],
   "source": [
    "rm(list=ls())\n",
    "setwd('C:/Users/Tansu/OneDrive/Course Files/628/Module 2')\n",
    "bodyfat=read.csv('BodyFat.csv')\n",
    "head(bodyfat)"
   ]
  },
  {
   "cell_type": "markdown",
   "metadata": {},
   "source": [
    "## 1.1.1 check the maximum factor value entry"
   ]
  },
  {
   "cell_type": "code",
   "execution_count": 19,
   "metadata": {
    "scrolled": false
   },
   "outputs": [
    {
     "data": {
      "text/plain": [
       "      IDNO           BODYFAT         DENSITY           AGE       \n",
       " Min.   :  1.00   Min.   : 0.00   Min.   :0.995   Min.   :22.00  \n",
       " 1st Qu.: 63.75   1st Qu.:13.10   1st Qu.:1.041   1st Qu.:35.75  \n",
       " Median :126.50   Median :19.00   Median :1.055   Median :43.00  \n",
       " Mean   :126.50   Mean   :18.95   Mean   :1.055   Mean   :44.88  \n",
       " 3rd Qu.:189.25   3rd Qu.:24.60   3rd Qu.:1.070   3rd Qu.:54.00  \n",
       " Max.   :252.00   Max.   :45.10   Max.   :1.109   Max.   :81.00  \n",
       "     WEIGHT          HEIGHT        ADIPOSITY          NECK      \n",
       " Min.   :118.5   Min.   :29.50   Min.   :18.10   Min.   :31.10  \n",
       " 1st Qu.:159.0   1st Qu.:68.25   1st Qu.:23.10   1st Qu.:36.40  \n",
       " Median :176.5   Median :70.00   Median :25.05   Median :38.00  \n",
       " Mean   :178.9   Mean   :70.15   Mean   :25.44   Mean   :37.99  \n",
       " 3rd Qu.:197.0   3rd Qu.:72.25   3rd Qu.:27.32   3rd Qu.:39.42  \n",
       " Max.   :363.1   Max.   :77.75   Max.   :48.90   Max.   :51.20  \n",
       "     CHEST           ABDOMEN            HIP            THIGH      \n",
       " Min.   : 79.30   Min.   : 69.40   Min.   : 85.0   Min.   :47.20  \n",
       " 1st Qu.: 94.35   1st Qu.: 84.58   1st Qu.: 95.5   1st Qu.:56.00  \n",
       " Median : 99.65   Median : 90.95   Median : 99.3   Median :59.00  \n",
       " Mean   :100.82   Mean   : 92.56   Mean   : 99.9   Mean   :59.41  \n",
       " 3rd Qu.:105.38   3rd Qu.: 99.33   3rd Qu.:103.5   3rd Qu.:62.35  \n",
       " Max.   :136.20   Max.   :148.10   Max.   :147.7   Max.   :87.30  \n",
       "      KNEE           ANKLE          BICEPS         FOREARM          WRIST      \n",
       " Min.   :33.00   Min.   :19.1   Min.   :24.80   Min.   :21.00   Min.   :15.80  \n",
       " 1st Qu.:36.98   1st Qu.:22.0   1st Qu.:30.20   1st Qu.:27.30   1st Qu.:17.60  \n",
       " Median :38.50   Median :22.8   Median :32.05   Median :28.70   Median :18.30  \n",
       " Mean   :38.59   Mean   :23.1   Mean   :32.27   Mean   :28.66   Mean   :18.23  \n",
       " 3rd Qu.:39.92   3rd Qu.:24.0   3rd Qu.:34.33   3rd Qu.:30.00   3rd Qu.:18.80  \n",
       " Max.   :49.10   Max.   :33.9   Max.   :45.00   Max.   :34.90   Max.   :21.40  "
      ]
     },
     "metadata": {},
     "output_type": "display_data"
    }
   ],
   "source": [
    "summary(bodyfat)"
   ]
  },
  {
   "cell_type": "code",
   "execution_count": 20,
   "metadata": {},
   "outputs": [
    {
     "data": {
      "text/html": [
       "216"
      ],
      "text/latex": [
       "216"
      ],
      "text/markdown": [
       "216"
      ],
      "text/plain": [
       "[1] 216"
      ]
     },
     "metadata": {},
     "output_type": "display_data"
    }
   ],
   "source": [
    "which.min(bodyfat$DENSITY)"
   ]
  },
  {
   "cell_type": "markdown",
   "metadata": {},
   "source": [
    "The 216th guy has a density<1 "
   ]
  },
  {
   "cell_type": "code",
   "execution_count": 3,
   "metadata": {
    "scrolled": true
   },
   "outputs": [
    {
     "data": {
      "text/html": [
       "<table>\n",
       "<caption>A matrix: 1 × 17 of type dbl</caption>\n",
       "<thead>\n",
       "\t<tr><th></th><th scope=col>IDNO</th><th scope=col>BODYFAT</th><th scope=col>DENSITY</th><th scope=col>AGE</th><th scope=col>WEIGHT</th><th scope=col>HEIGHT</th><th scope=col>ADIPOSITY</th><th scope=col>NECK</th><th scope=col>CHEST</th><th scope=col>ABDOMEN</th><th scope=col>HIP</th><th scope=col>THIGH</th><th scope=col>KNEE</th><th scope=col>ANKLE</th><th scope=col>BICEPS</th><th scope=col>FOREARM</th><th scope=col>WRIST</th></tr>\n",
       "</thead>\n",
       "<tbody>\n",
       "\t<tr><th scope=row>216</th><td>216</td><td>45.1</td><td>0.995</td><td>51</td><td>219</td><td>64</td><td>37.6</td><td>41.2</td><td>119.8</td><td>122.1</td><td>112.8</td><td>62.5</td><td>36.9</td><td>23.6</td><td>34.7</td><td>29.1</td><td>18.4</td></tr>\n",
       "</tbody>\n",
       "</table>\n"
      ],
      "text/latex": [
       "A matrix: 1 × 17 of type dbl\n",
       "\\begin{tabular}{r|lllllllllllllllll}\n",
       "  & IDNO & BODYFAT & DENSITY & AGE & WEIGHT & HEIGHT & ADIPOSITY & NECK & CHEST & ABDOMEN & HIP & THIGH & KNEE & ANKLE & BICEPS & FOREARM & WRIST\\\\\n",
       "\\hline\n",
       "\t216 & 216 & 45.1 & 0.995 & 51 & 219 & 64 & 37.6 & 41.2 & 119.8 & 122.1 & 112.8 & 62.5 & 36.9 & 23.6 & 34.7 & 29.1 & 18.4\\\\\n",
       "\\end{tabular}\n"
      ],
      "text/markdown": [
       "\n",
       "A matrix: 1 × 17 of type dbl\n",
       "\n",
       "| <!--/--> | IDNO | BODYFAT | DENSITY | AGE | WEIGHT | HEIGHT | ADIPOSITY | NECK | CHEST | ABDOMEN | HIP | THIGH | KNEE | ANKLE | BICEPS | FOREARM | WRIST |\n",
       "|---|---|---|---|---|---|---|---|---|---|---|---|---|---|---|---|---|---|\n",
       "| 216 | 216 | 45.1 | 0.995 | 51 | 219 | 64 | 37.6 | 41.2 | 119.8 | 122.1 | 112.8 | 62.5 | 36.9 | 23.6 | 34.7 | 29.1 | 18.4 |\n",
       "\n"
      ],
      "text/plain": [
       "    IDNO BODYFAT DENSITY AGE WEIGHT HEIGHT ADIPOSITY NECK CHEST ABDOMEN HIP  \n",
       "216 216  45.1    0.995   51  219    64     37.6      41.2 119.8 122.1   112.8\n",
       "    THIGH KNEE ANKLE BICEPS FOREARM WRIST\n",
       "216 62.5  36.9 23.6  34.7   29.1    18.4 "
      ]
     },
     "metadata": {},
     "output_type": "display_data"
    }
   ],
   "source": [
    "as.matrix(bodyfat[216,])"
   ]
  },
  {
   "cell_type": "markdown",
   "metadata": {},
   "source": [
    "The 182th guy has bodyfat=0"
   ]
  },
  {
   "cell_type": "code",
   "execution_count": 4,
   "metadata": {},
   "outputs": [
    {
     "data": {
      "text/html": [
       "<table>\n",
       "<caption>A matrix: 1 × 17 of type dbl</caption>\n",
       "<thead>\n",
       "\t<tr><th></th><th scope=col>IDNO</th><th scope=col>BODYFAT</th><th scope=col>DENSITY</th><th scope=col>AGE</th><th scope=col>WEIGHT</th><th scope=col>HEIGHT</th><th scope=col>ADIPOSITY</th><th scope=col>NECK</th><th scope=col>CHEST</th><th scope=col>ABDOMEN</th><th scope=col>HIP</th><th scope=col>THIGH</th><th scope=col>KNEE</th><th scope=col>ANKLE</th><th scope=col>BICEPS</th><th scope=col>FOREARM</th><th scope=col>WRIST</th></tr>\n",
       "</thead>\n",
       "<tbody>\n",
       "\t<tr><th scope=row>182</th><td>182</td><td>0</td><td>1.1089</td><td>40</td><td>118.5</td><td>68</td><td>18.1</td><td>33.8</td><td>79.3</td><td>69.4</td><td>85</td><td>47.2</td><td>33.5</td><td>20.2</td><td>27.7</td><td>24.6</td><td>16.5</td></tr>\n",
       "</tbody>\n",
       "</table>\n"
      ],
      "text/latex": [
       "A matrix: 1 × 17 of type dbl\n",
       "\\begin{tabular}{r|lllllllllllllllll}\n",
       "  & IDNO & BODYFAT & DENSITY & AGE & WEIGHT & HEIGHT & ADIPOSITY & NECK & CHEST & ABDOMEN & HIP & THIGH & KNEE & ANKLE & BICEPS & FOREARM & WRIST\\\\\n",
       "\\hline\n",
       "\t182 & 182 & 0 & 1.1089 & 40 & 118.5 & 68 & 18.1 & 33.8 & 79.3 & 69.4 & 85 & 47.2 & 33.5 & 20.2 & 27.7 & 24.6 & 16.5\\\\\n",
       "\\end{tabular}\n"
      ],
      "text/markdown": [
       "\n",
       "A matrix: 1 × 17 of type dbl\n",
       "\n",
       "| <!--/--> | IDNO | BODYFAT | DENSITY | AGE | WEIGHT | HEIGHT | ADIPOSITY | NECK | CHEST | ABDOMEN | HIP | THIGH | KNEE | ANKLE | BICEPS | FOREARM | WRIST |\n",
       "|---|---|---|---|---|---|---|---|---|---|---|---|---|---|---|---|---|---|\n",
       "| 182 | 182 | 0 | 1.1089 | 40 | 118.5 | 68 | 18.1 | 33.8 | 79.3 | 69.4 | 85 | 47.2 | 33.5 | 20.2 | 27.7 | 24.6 | 16.5 |\n",
       "\n"
      ],
      "text/plain": [
       "    IDNO BODYFAT DENSITY AGE WEIGHT HEIGHT ADIPOSITY NECK CHEST ABDOMEN HIP\n",
       "182 182  0       1.1089  40  118.5  68     18.1      33.8 79.3  69.4    85 \n",
       "    THIGH KNEE ANKLE BICEPS FOREARM WRIST\n",
       "182 47.2  33.5 20.2  27.7   24.6    16.5 "
      ]
     },
     "metadata": {},
     "output_type": "display_data"
    }
   ],
   "source": [
    "as.matrix(bodyfat[182,])"
   ]
  },
  {
   "cell_type": "markdown",
   "metadata": {},
   "source": [
    "Plot Bodyfat~1/density beacause from the formula\n",
    "$$ \\text{Percentage of Body Fat} = \\dfrac{495}{\\text{Body Density}} - 450 $$\n",
    "there should be a linear relationship between the Bodyfat and the inverse of the density"
   ]
  },
  {
   "cell_type": "code",
   "execution_count": 5,
   "metadata": {
    "scrolled": false
   },
   "outputs": [
    {
     "data": {
      "image/png": "[encoded data removed]",
      "text/plain": [
       "Plot with title \"Siri's equation\""
      ]
     },
     "metadata": {},
     "output_type": "display_data"
    }
   ],
   "source": [
    "reverse.density=1/bodyfat$DENSITY\n",
    "plot(bodyfat$BODYFAT ~ reverse.density,main=\"Siri's equation\",xlab=\"1/Density\",ylab=\"Body fat\",pch=19,col=\"red\")\n",
    "text(reverse.density[c(96, 182 ,48 ,76)],bodyfat$BODYFAT[c(96, 182 ,48 ,76)] ,c(96, 182 ,48 ,76),p=4) #96 182 48 76"
   ]
  },
  {
   "cell_type": "markdown",
   "metadata": {},
   "source": [
    "From the plot above ,there are some points need to check"
   ]
  },
  {
   "cell_type": "code",
   "execution_count": 6,
   "metadata": {},
   "outputs": [
    {
     "data": {
      "text/html": [
       "<table>\n",
       "<caption>A matrix: 4 × 17 of type dbl</caption>\n",
       "<thead>\n",
       "\t<tr><th></th><th scope=col>IDNO</th><th scope=col>BODYFAT</th><th scope=col>DENSITY</th><th scope=col>AGE</th><th scope=col>WEIGHT</th><th scope=col>HEIGHT</th><th scope=col>ADIPOSITY</th><th scope=col>NECK</th><th scope=col>CHEST</th><th scope=col>ABDOMEN</th><th scope=col>HIP</th><th scope=col>THIGH</th><th scope=col>KNEE</th><th scope=col>ANKLE</th><th scope=col>BICEPS</th><th scope=col>FOREARM</th><th scope=col>WRIST</th></tr>\n",
       "</thead>\n",
       "<tbody>\n",
       "\t<tr><th scope=row>48</th><td> 48</td><td> 6.4</td><td>1.0665</td><td>39</td><td>148.50</td><td>71.25</td><td>20.6</td><td>34.6</td><td> 89.8</td><td>79.5</td><td> 92.7</td><td>52.7</td><td>37.5</td><td>21.9</td><td>28.8</td><td>26.8</td><td>17.9</td></tr>\n",
       "\t<tr><th scope=row>76</th><td> 76</td><td>18.3</td><td>1.0666</td><td>61</td><td>148.25</td><td>67.50</td><td>22.9</td><td>36.0</td><td> 91.6</td><td>81.8</td><td> 94.8</td><td>54.5</td><td>37.0</td><td>21.4</td><td>29.3</td><td>27.0</td><td>18.3</td></tr>\n",
       "\t<tr><th scope=row>96</th><td> 96</td><td>17.3</td><td>1.0991</td><td>53</td><td>224.50</td><td>77.75</td><td>26.1</td><td>41.1</td><td>113.2</td><td>99.2</td><td>107.5</td><td>61.7</td><td>42.3</td><td>23.2</td><td>32.9</td><td>30.8</td><td>20.4</td></tr>\n",
       "\t<tr><th scope=row>182</th><td>182</td><td> 0.0</td><td>1.1089</td><td>40</td><td>118.50</td><td>68.00</td><td>18.1</td><td>33.8</td><td> 79.3</td><td>69.4</td><td> 85.0</td><td>47.2</td><td>33.5</td><td>20.2</td><td>27.7</td><td>24.6</td><td>16.5</td></tr>\n",
       "</tbody>\n",
       "</table>\n"
      ],
      "text/latex": [
       "A matrix: 4 × 17 of type dbl\n",
       "\\begin{tabular}{r|lllllllllllllllll}\n",
       "  & IDNO & BODYFAT & DENSITY & AGE & WEIGHT & HEIGHT & ADIPOSITY & NECK & CHEST & ABDOMEN & HIP & THIGH & KNEE & ANKLE & BICEPS & FOREARM & WRIST\\\\\n",
       "\\hline\n",
       "\t48 &  48 &  6.4 & 1.0665 & 39 & 148.50 & 71.25 & 20.6 & 34.6 &  89.8 & 79.5 &  92.7 & 52.7 & 37.5 & 21.9 & 28.8 & 26.8 & 17.9\\\\\n",
       "\t76 &  76 & 18.3 & 1.0666 & 61 & 148.25 & 67.50 & 22.9 & 36.0 &  91.6 & 81.8 &  94.8 & 54.5 & 37.0 & 21.4 & 29.3 & 27.0 & 18.3\\\\\n",
       "\t96 &  96 & 17.3 & 1.0991 & 53 & 224.50 & 77.75 & 26.1 & 41.1 & 113.2 & 99.2 & 107.5 & 61.7 & 42.3 & 23.2 & 32.9 & 30.8 & 20.4\\\\\n",
       "\t182 & 182 &  0.0 & 1.1089 & 40 & 118.50 & 68.00 & 18.1 & 33.8 &  79.3 & 69.4 &  85.0 & 47.2 & 33.5 & 20.2 & 27.7 & 24.6 & 16.5\\\\\n",
       "\\end{tabular}\n"
      ],
      "text/markdown": [
       "\n",
       "A matrix: 4 × 17 of type dbl\n",
       "\n",
       "| <!--/--> | IDNO | BODYFAT | DENSITY | AGE | WEIGHT | HEIGHT | ADIPOSITY | NECK | CHEST | ABDOMEN | HIP | THIGH | KNEE | ANKLE | BICEPS | FOREARM | WRIST |\n",
       "|---|---|---|---|---|---|---|---|---|---|---|---|---|---|---|---|---|---|\n",
       "| 48 |  48 |  6.4 | 1.0665 | 39 | 148.50 | 71.25 | 20.6 | 34.6 |  89.8 | 79.5 |  92.7 | 52.7 | 37.5 | 21.9 | 28.8 | 26.8 | 17.9 |\n",
       "| 76 |  76 | 18.3 | 1.0666 | 61 | 148.25 | 67.50 | 22.9 | 36.0 |  91.6 | 81.8 |  94.8 | 54.5 | 37.0 | 21.4 | 29.3 | 27.0 | 18.3 |\n",
       "| 96 |  96 | 17.3 | 1.0991 | 53 | 224.50 | 77.75 | 26.1 | 41.1 | 113.2 | 99.2 | 107.5 | 61.7 | 42.3 | 23.2 | 32.9 | 30.8 | 20.4 |\n",
       "| 182 | 182 |  0.0 | 1.1089 | 40 | 118.50 | 68.00 | 18.1 | 33.8 |  79.3 | 69.4 |  85.0 | 47.2 | 33.5 | 20.2 | 27.7 | 24.6 | 16.5 |\n",
       "\n"
      ],
      "text/plain": [
       "    IDNO BODYFAT DENSITY AGE WEIGHT HEIGHT ADIPOSITY NECK CHEST ABDOMEN HIP  \n",
       "48   48   6.4    1.0665  39  148.50 71.25  20.6      34.6  89.8 79.5     92.7\n",
       "76   76  18.3    1.0666  61  148.25 67.50  22.9      36.0  91.6 81.8     94.8\n",
       "96   96  17.3    1.0991  53  224.50 77.75  26.1      41.1 113.2 99.2    107.5\n",
       "182 182   0.0    1.1089  40  118.50 68.00  18.1      33.8  79.3 69.4     85.0\n",
       "    THIGH KNEE ANKLE BICEPS FOREARM WRIST\n",
       "48  52.7  37.5 21.9  28.8   26.8    17.9 \n",
       "76  54.5  37.0 21.4  29.3   27.0    18.3 \n",
       "96  61.7  42.3 23.2  32.9   30.8    20.4 \n",
       "182 47.2  33.5 20.2  27.7   24.6    16.5 "
      ]
     },
     "metadata": {},
     "output_type": "display_data"
    }
   ],
   "source": [
    "as.matrix(bodyfat[c(48 ,76,96, 182 ),])"
   ]
  },
  {
   "cell_type": "markdown",
   "metadata": {},
   "source": [
    "### 1.1.2 Check the outliers"
   ]
  },
  {
   "cell_type": "markdown",
   "metadata": {},
   "source": [
    "####   48th entry\n",
    "for the 48 its bodyfat is 6.4 which shows something wrong, then use the siri function to compute the bodyfat"
   ]
  },
  {
   "cell_type": "code",
   "execution_count": 7,
   "metadata": {},
   "outputs": [
    {
     "data": {
      "text/html": [
       "<table>\n",
       "<caption>A matrix: 1 × 17 of type dbl</caption>\n",
       "<thead>\n",
       "\t<tr><th></th><th scope=col>IDNO</th><th scope=col>BODYFAT</th><th scope=col>DENSITY</th><th scope=col>AGE</th><th scope=col>WEIGHT</th><th scope=col>HEIGHT</th><th scope=col>ADIPOSITY</th><th scope=col>NECK</th><th scope=col>CHEST</th><th scope=col>ABDOMEN</th><th scope=col>HIP</th><th scope=col>THIGH</th><th scope=col>KNEE</th><th scope=col>ANKLE</th><th scope=col>BICEPS</th><th scope=col>FOREARM</th><th scope=col>WRIST</th></tr>\n",
       "</thead>\n",
       "<tbody>\n",
       "\t<tr><th scope=row>48</th><td>48</td><td>6.4</td><td>1.0665</td><td>39</td><td>148.5</td><td>71.25</td><td>20.6</td><td>34.6</td><td>89.8</td><td>79.5</td><td>92.7</td><td>52.7</td><td>37.5</td><td>21.9</td><td>28.8</td><td>26.8</td><td>17.9</td></tr>\n",
       "</tbody>\n",
       "</table>\n"
      ],
      "text/latex": [
       "A matrix: 1 × 17 of type dbl\n",
       "\\begin{tabular}{r|lllllllllllllllll}\n",
       "  & IDNO & BODYFAT & DENSITY & AGE & WEIGHT & HEIGHT & ADIPOSITY & NECK & CHEST & ABDOMEN & HIP & THIGH & KNEE & ANKLE & BICEPS & FOREARM & WRIST\\\\\n",
       "\\hline\n",
       "\t48 & 48 & 6.4 & 1.0665 & 39 & 148.5 & 71.25 & 20.6 & 34.6 & 89.8 & 79.5 & 92.7 & 52.7 & 37.5 & 21.9 & 28.8 & 26.8 & 17.9\\\\\n",
       "\\end{tabular}\n"
      ],
      "text/markdown": [
       "\n",
       "A matrix: 1 × 17 of type dbl\n",
       "\n",
       "| <!--/--> | IDNO | BODYFAT | DENSITY | AGE | WEIGHT | HEIGHT | ADIPOSITY | NECK | CHEST | ABDOMEN | HIP | THIGH | KNEE | ANKLE | BICEPS | FOREARM | WRIST |\n",
       "|---|---|---|---|---|---|---|---|---|---|---|---|---|---|---|---|---|---|\n",
       "| 48 | 48 | 6.4 | 1.0665 | 39 | 148.5 | 71.25 | 20.6 | 34.6 | 89.8 | 79.5 | 92.7 | 52.7 | 37.5 | 21.9 | 28.8 | 26.8 | 17.9 |\n",
       "\n"
      ],
      "text/plain": [
       "   IDNO BODYFAT DENSITY AGE WEIGHT HEIGHT ADIPOSITY NECK CHEST ABDOMEN HIP \n",
       "48 48   6.4     1.0665  39  148.5  71.25  20.6      34.6 89.8  79.5    92.7\n",
       "   THIGH KNEE ANKLE BICEPS FOREARM WRIST\n",
       "48 52.7  37.5 21.9  28.8   26.8    17.9 "
      ]
     },
     "metadata": {},
     "output_type": "display_data"
    }
   ],
   "source": [
    "as.matrix(bodyfat[48,])"
   ]
  },
  {
   "cell_type": "code",
   "execution_count": 8,
   "metadata": {},
   "outputs": [
    {
     "data": {
      "text/html": [
       "14.1350210970464"
      ],
      "text/latex": [
       "14.1350210970464"
      ],
      "text/markdown": [
       "14.1350210970464"
      ],
      "text/plain": [
       "[1] 14.13502"
      ]
     },
     "metadata": {},
     "output_type": "display_data"
    }
   ],
   "source": [
    "a=495/bodyfat$DENSITY[48]- 450\n",
    "a#14.13502 which is much more reliable\n",
    "bodyfat$BODYFAT[48]=a"
   ]
  },
  {
   "cell_type": "markdown",
   "metadata": {},
   "source": [
    "#### 96th entry\n",
    "At first we check the adjacent entries to find the abnormal component of 96th entry"
   ]
  },
  {
   "cell_type": "code",
   "execution_count": 9,
   "metadata": {},
   "outputs": [
    {
     "data": {
      "text/html": [
       "<table>\n",
       "<caption>A matrix: 3 × 17 of type dbl</caption>\n",
       "<thead>\n",
       "\t<tr><th></th><th scope=col>IDNO</th><th scope=col>BODYFAT</th><th scope=col>DENSITY</th><th scope=col>AGE</th><th scope=col>WEIGHT</th><th scope=col>HEIGHT</th><th scope=col>ADIPOSITY</th><th scope=col>NECK</th><th scope=col>CHEST</th><th scope=col>ABDOMEN</th><th scope=col>HIP</th><th scope=col>THIGH</th><th scope=col>KNEE</th><th scope=col>ANKLE</th><th scope=col>BICEPS</th><th scope=col>FOREARM</th><th scope=col>WRIST</th></tr>\n",
       "</thead>\n",
       "<tbody>\n",
       "\t<tr><th scope=row>96</th><td>96</td><td>17.3</td><td>1.0991</td><td>53</td><td>224.50</td><td>77.75</td><td>26.1</td><td>41.1</td><td>113.2</td><td>99.2</td><td>107.5</td><td>61.7</td><td>42.3</td><td>23.2</td><td>32.9</td><td>30.8</td><td>20.4</td></tr>\n",
       "\t<tr><th scope=row>97</th><td>97</td><td>10.1</td><td>1.0770</td><td>38</td><td>188.75</td><td>73.25</td><td>24.8</td><td>37.5</td><td> 99.1</td><td>91.6</td><td>102.4</td><td>60.6</td><td>39.4</td><td>22.9</td><td>31.6</td><td>30.1</td><td>18.5</td></tr>\n",
       "\t<tr><th scope=row>98</th><td>98</td><td>11.1</td><td>1.0730</td><td>50</td><td>162.50</td><td>66.50</td><td>25.9</td><td>38.7</td><td> 99.4</td><td>86.7</td><td> 96.2</td><td>62.1</td><td>39.3</td><td>23.3</td><td>30.6</td><td>27.8</td><td>18.2</td></tr>\n",
       "</tbody>\n",
       "</table>\n"
      ],
      "text/latex": [
       "A matrix: 3 × 17 of type dbl\n",
       "\\begin{tabular}{r|lllllllllllllllll}\n",
       "  & IDNO & BODYFAT & DENSITY & AGE & WEIGHT & HEIGHT & ADIPOSITY & NECK & CHEST & ABDOMEN & HIP & THIGH & KNEE & ANKLE & BICEPS & FOREARM & WRIST\\\\\n",
       "\\hline\n",
       "\t96 & 96 & 17.3 & 1.0991 & 53 & 224.50 & 77.75 & 26.1 & 41.1 & 113.2 & 99.2 & 107.5 & 61.7 & 42.3 & 23.2 & 32.9 & 30.8 & 20.4\\\\\n",
       "\t97 & 97 & 10.1 & 1.0770 & 38 & 188.75 & 73.25 & 24.8 & 37.5 &  99.1 & 91.6 & 102.4 & 60.6 & 39.4 & 22.9 & 31.6 & 30.1 & 18.5\\\\\n",
       "\t98 & 98 & 11.1 & 1.0730 & 50 & 162.50 & 66.50 & 25.9 & 38.7 &  99.4 & 86.7 &  96.2 & 62.1 & 39.3 & 23.3 & 30.6 & 27.8 & 18.2\\\\\n",
       "\\end{tabular}\n"
      ],
      "text/markdown": [
       "\n",
       "A matrix: 3 × 17 of type dbl\n",
       "\n",
       "| <!--/--> | IDNO | BODYFAT | DENSITY | AGE | WEIGHT | HEIGHT | ADIPOSITY | NECK | CHEST | ABDOMEN | HIP | THIGH | KNEE | ANKLE | BICEPS | FOREARM | WRIST |\n",
       "|---|---|---|---|---|---|---|---|---|---|---|---|---|---|---|---|---|---|\n",
       "| 96 | 96 | 17.3 | 1.0991 | 53 | 224.50 | 77.75 | 26.1 | 41.1 | 113.2 | 99.2 | 107.5 | 61.7 | 42.3 | 23.2 | 32.9 | 30.8 | 20.4 |\n",
       "| 97 | 97 | 10.1 | 1.0770 | 38 | 188.75 | 73.25 | 24.8 | 37.5 |  99.1 | 91.6 | 102.4 | 60.6 | 39.4 | 22.9 | 31.6 | 30.1 | 18.5 |\n",
       "| 98 | 98 | 11.1 | 1.0730 | 50 | 162.50 | 66.50 | 25.9 | 38.7 |  99.4 | 86.7 |  96.2 | 62.1 | 39.3 | 23.3 | 30.6 | 27.8 | 18.2 |\n",
       "\n"
      ],
      "text/plain": [
       "   IDNO BODYFAT DENSITY AGE WEIGHT HEIGHT ADIPOSITY NECK CHEST ABDOMEN HIP  \n",
       "96 96   17.3    1.0991  53  224.50 77.75  26.1      41.1 113.2 99.2    107.5\n",
       "97 97   10.1    1.0770  38  188.75 73.25  24.8      37.5  99.1 91.6    102.4\n",
       "98 98   11.1    1.0730  50  162.50 66.50  25.9      38.7  99.4 86.7     96.2\n",
       "   THIGH KNEE ANKLE BICEPS FOREARM WRIST\n",
       "96 61.7  42.3 23.2  32.9   30.8    20.4 \n",
       "97 60.6  39.4 22.9  31.6   30.1    18.5 \n",
       "98 62.1  39.3 23.3  30.6   27.8    18.2 "
      ]
     },
     "metadata": {},
     "output_type": "display_data"
    }
   ],
   "source": [
    "as.matrix(bodyfat[c(96,97,98),])"
   ]
  },
  {
   "cell_type": "markdown",
   "metadata": {},
   "source": [
    "we can find from 97 and 98 that,when density increase ,the bodyfat should decrease,however this time when density goes up the bodyfat goes up . \n",
    "if we use the density to compute the bodyfat then it should be"
   ]
  },
  {
   "cell_type": "code",
   "execution_count": 10,
   "metadata": {},
   "outputs": [
    {
     "data": {
      "text/html": [
       "0.368483304521874"
      ],
      "text/latex": [
       "0.368483304521874"
      ],
      "text/markdown": [
       "0.368483304521874"
      ],
      "text/plain": [
       "[1] 0.3684833"
      ]
     },
     "metadata": {},
     "output_type": "display_data"
    }
   ],
   "source": [
    "495/bodyfat$DENSITY[96]- 450"
   ]
  },
  {
   "cell_type": "markdown",
   "metadata": {},
   "source": [
    "which is impossible compare with the bodyfat with others, hence this time we use bodyfat to compute density"
   ]
  },
  {
   "cell_type": "code",
   "execution_count": 11,
   "metadata": {
    "scrolled": false
   },
   "outputs": [
    {
     "data": {
      "text/html": [
       "<table>\n",
       "<caption>A matrix: 1 × 17 of type dbl</caption>\n",
       "<thead>\n",
       "\t<tr><th></th><th scope=col>IDNO</th><th scope=col>BODYFAT</th><th scope=col>DENSITY</th><th scope=col>AGE</th><th scope=col>WEIGHT</th><th scope=col>HEIGHT</th><th scope=col>ADIPOSITY</th><th scope=col>NECK</th><th scope=col>CHEST</th><th scope=col>ABDOMEN</th><th scope=col>HIP</th><th scope=col>THIGH</th><th scope=col>KNEE</th><th scope=col>ANKLE</th><th scope=col>BICEPS</th><th scope=col>FOREARM</th><th scope=col>WRIST</th></tr>\n",
       "</thead>\n",
       "<tbody>\n",
       "\t<tr><th scope=row>96</th><td>96</td><td>17.3</td><td>1.059277</td><td>53</td><td>224.5</td><td>77.75</td><td>26.1</td><td>41.1</td><td>113.2</td><td>99.2</td><td>107.5</td><td>61.7</td><td>42.3</td><td>23.2</td><td>32.9</td><td>30.8</td><td>20.4</td></tr>\n",
       "</tbody>\n",
       "</table>\n"
      ],
      "text/latex": [
       "A matrix: 1 × 17 of type dbl\n",
       "\\begin{tabular}{r|lllllllllllllllll}\n",
       "  & IDNO & BODYFAT & DENSITY & AGE & WEIGHT & HEIGHT & ADIPOSITY & NECK & CHEST & ABDOMEN & HIP & THIGH & KNEE & ANKLE & BICEPS & FOREARM & WRIST\\\\\n",
       "\\hline\n",
       "\t96 & 96 & 17.3 & 1.059277 & 53 & 224.5 & 77.75 & 26.1 & 41.1 & 113.2 & 99.2 & 107.5 & 61.7 & 42.3 & 23.2 & 32.9 & 30.8 & 20.4\\\\\n",
       "\\end{tabular}\n"
      ],
      "text/markdown": [
       "\n",
       "A matrix: 1 × 17 of type dbl\n",
       "\n",
       "| <!--/--> | IDNO | BODYFAT | DENSITY | AGE | WEIGHT | HEIGHT | ADIPOSITY | NECK | CHEST | ABDOMEN | HIP | THIGH | KNEE | ANKLE | BICEPS | FOREARM | WRIST |\n",
       "|---|---|---|---|---|---|---|---|---|---|---|---|---|---|---|---|---|---|\n",
       "| 96 | 96 | 17.3 | 1.059277 | 53 | 224.5 | 77.75 | 26.1 | 41.1 | 113.2 | 99.2 | 107.5 | 61.7 | 42.3 | 23.2 | 32.9 | 30.8 | 20.4 |\n",
       "\n"
      ],
      "text/plain": [
       "   IDNO BODYFAT DENSITY  AGE WEIGHT HEIGHT ADIPOSITY NECK CHEST ABDOMEN HIP  \n",
       "96 96   17.3    1.059277 53  224.5  77.75  26.1      41.1 113.2 99.2    107.5\n",
       "   THIGH KNEE ANKLE BICEPS FOREARM WRIST\n",
       "96 61.7  42.3 23.2  32.9   30.8    20.4 "
      ]
     },
     "metadata": {},
     "output_type": "display_data"
    }
   ],
   "source": [
    "bodyfat$DENSITY[96]=495/(bodyfat$BODYFAT[96]+450)\n",
    "as.matrix(bodyfat[96,])"
   ]
  },
  {
   "cell_type": "markdown",
   "metadata": {},
   "source": [
    "#### 182th entry"
   ]
  },
  {
   "cell_type": "code",
   "execution_count": 12,
   "metadata": {},
   "outputs": [
    {
     "data": {
      "text/html": [
       "<table>\n",
       "<caption>A matrix: 3 × 17 of type dbl</caption>\n",
       "<thead>\n",
       "\t<tr><th></th><th scope=col>IDNO</th><th scope=col>BODYFAT</th><th scope=col>DENSITY</th><th scope=col>AGE</th><th scope=col>WEIGHT</th><th scope=col>HEIGHT</th><th scope=col>ADIPOSITY</th><th scope=col>NECK</th><th scope=col>CHEST</th><th scope=col>ABDOMEN</th><th scope=col>HIP</th><th scope=col>THIGH</th><th scope=col>KNEE</th><th scope=col>ANKLE</th><th scope=col>BICEPS</th><th scope=col>FOREARM</th><th scope=col>WRIST</th></tr>\n",
       "</thead>\n",
       "<tbody>\n",
       "\t<tr><th scope=row>182</th><td>182</td><td> 0.0</td><td>1.1089</td><td>40</td><td>118.50</td><td>68.00</td><td>18.1</td><td>33.8</td><td>79.3</td><td>69.4</td><td>85.0</td><td>47.2</td><td>33.5</td><td>20.2</td><td>27.7</td><td>24.6</td><td>16.5</td></tr>\n",
       "\t<tr><th scope=row>183</th><td>183</td><td>11.9</td><td>1.0725</td><td>40</td><td>145.75</td><td>67.25</td><td>22.7</td><td>35.5</td><td>95.5</td><td>83.6</td><td>91.6</td><td>54.1</td><td>36.2</td><td>21.8</td><td>31.4</td><td>28.3</td><td>17.2</td></tr>\n",
       "\t<tr><th scope=row>184</th><td>184</td><td>12.4</td><td>1.0713</td><td>40</td><td>159.25</td><td>69.75</td><td>23.0</td><td>35.3</td><td>92.3</td><td>86.8</td><td>96.1</td><td>58.0</td><td>39.4</td><td>22.7</td><td>30.0</td><td>26.4</td><td>17.4</td></tr>\n",
       "</tbody>\n",
       "</table>\n"
      ],
      "text/latex": [
       "A matrix: 3 × 17 of type dbl\n",
       "\\begin{tabular}{r|lllllllllllllllll}\n",
       "  & IDNO & BODYFAT & DENSITY & AGE & WEIGHT & HEIGHT & ADIPOSITY & NECK & CHEST & ABDOMEN & HIP & THIGH & KNEE & ANKLE & BICEPS & FOREARM & WRIST\\\\\n",
       "\\hline\n",
       "\t182 & 182 &  0.0 & 1.1089 & 40 & 118.50 & 68.00 & 18.1 & 33.8 & 79.3 & 69.4 & 85.0 & 47.2 & 33.5 & 20.2 & 27.7 & 24.6 & 16.5\\\\\n",
       "\t183 & 183 & 11.9 & 1.0725 & 40 & 145.75 & 67.25 & 22.7 & 35.5 & 95.5 & 83.6 & 91.6 & 54.1 & 36.2 & 21.8 & 31.4 & 28.3 & 17.2\\\\\n",
       "\t184 & 184 & 12.4 & 1.0713 & 40 & 159.25 & 69.75 & 23.0 & 35.3 & 92.3 & 86.8 & 96.1 & 58.0 & 39.4 & 22.7 & 30.0 & 26.4 & 17.4\\\\\n",
       "\\end{tabular}\n"
      ],
      "text/markdown": [
       "\n",
       "A matrix: 3 × 17 of type dbl\n",
       "\n",
       "| <!--/--> | IDNO | BODYFAT | DENSITY | AGE | WEIGHT | HEIGHT | ADIPOSITY | NECK | CHEST | ABDOMEN | HIP | THIGH | KNEE | ANKLE | BICEPS | FOREARM | WRIST |\n",
       "|---|---|---|---|---|---|---|---|---|---|---|---|---|---|---|---|---|---|\n",
       "| 182 | 182 |  0.0 | 1.1089 | 40 | 118.50 | 68.00 | 18.1 | 33.8 | 79.3 | 69.4 | 85.0 | 47.2 | 33.5 | 20.2 | 27.7 | 24.6 | 16.5 |\n",
       "| 183 | 183 | 11.9 | 1.0725 | 40 | 145.75 | 67.25 | 22.7 | 35.5 | 95.5 | 83.6 | 91.6 | 54.1 | 36.2 | 21.8 | 31.4 | 28.3 | 17.2 |\n",
       "| 184 | 184 | 12.4 | 1.0713 | 40 | 159.25 | 69.75 | 23.0 | 35.3 | 92.3 | 86.8 | 96.1 | 58.0 | 39.4 | 22.7 | 30.0 | 26.4 | 17.4 |\n",
       "\n"
      ],
      "text/plain": [
       "    IDNO BODYFAT DENSITY AGE WEIGHT HEIGHT ADIPOSITY NECK CHEST ABDOMEN HIP \n",
       "182 182   0.0    1.1089  40  118.50 68.00  18.1      33.8 79.3  69.4    85.0\n",
       "183 183  11.9    1.0725  40  145.75 67.25  22.7      35.5 95.5  83.6    91.6\n",
       "184 184  12.4    1.0713  40  159.25 69.75  23.0      35.3 92.3  86.8    96.1\n",
       "    THIGH KNEE ANKLE BICEPS FOREARM WRIST\n",
       "182 47.2  33.5 20.2  27.7   24.6    16.5 \n",
       "183 54.1  36.2 21.8  31.4   28.3    17.2 \n",
       "184 58.0  39.4 22.7  30.0   26.4    17.4 "
      ]
     },
     "metadata": {},
     "output_type": "display_data"
    }
   ],
   "source": [
    " as.matrix(bodyfat[c(182,183,184),])"
   ]
  },
  {
   "cell_type": "markdown",
   "metadata": {},
   "source": [
    "the bodyfat is 0 so we should use density to compute"
   ]
  },
  {
   "cell_type": "code",
   "execution_count": 17,
   "metadata": {},
   "outputs": [
    {
     "data": {
      "text/html": [
       "-3.6116872576427"
      ],
      "text/latex": [
       "-3.6116872576427"
      ],
      "text/markdown": [
       "-3.6116872576427"
      ],
      "text/plain": [
       "[1] -3.611687"
      ]
     },
     "metadata": {},
     "output_type": "display_data"
    }
   ],
   "source": [
    "495/bodyfat$DENSITY[182]- 450"
   ]
  },
  {
   "cell_type": "markdown",
   "metadata": {},
   "source": [
    "after applying siri's equation,the bodyfat is negative ,which is impossible. hence we should delect 182,neither the bodyfat nor density  are correct."
   ]
  },
  {
   "cell_type": "markdown",
   "metadata": {},
   "source": [
    "#### 76th entry"
   ]
  },
  {
   "cell_type": "code",
   "execution_count": 14,
   "metadata": {
    "scrolled": true
   },
   "outputs": [
    {
     "data": {
      "text/html": [
       "<table>\n",
       "<caption>A matrix: 2 × 17 of type dbl</caption>\n",
       "<thead>\n",
       "\t<tr><th></th><th scope=col>IDNO</th><th scope=col>BODYFAT</th><th scope=col>DENSITY</th><th scope=col>AGE</th><th scope=col>WEIGHT</th><th scope=col>HEIGHT</th><th scope=col>ADIPOSITY</th><th scope=col>NECK</th><th scope=col>CHEST</th><th scope=col>ABDOMEN</th><th scope=col>HIP</th><th scope=col>THIGH</th><th scope=col>KNEE</th><th scope=col>ANKLE</th><th scope=col>BICEPS</th><th scope=col>FOREARM</th><th scope=col>WRIST</th></tr>\n",
       "</thead>\n",
       "<tbody>\n",
       "\t<tr><th scope=row>72</th><td>72</td><td> 9.4</td><td>1.0788</td><td>55</td><td>146.75</td><td>68.75</td><td>21.9</td><td>38.7</td><td>88.5</td><td>82.8</td><td>95.5</td><td>58.9</td><td>37.6</td><td>21.6</td><td>30.3</td><td>27.3</td><td>18.3</td></tr>\n",
       "\t<tr><th scope=row>76</th><td>76</td><td>18.3</td><td>1.0666</td><td>61</td><td>148.25</td><td>67.50</td><td>22.9</td><td>36.0</td><td>91.6</td><td>81.8</td><td>94.8</td><td>54.5</td><td>37.0</td><td>21.4</td><td>29.3</td><td>27.0</td><td>18.3</td></tr>\n",
       "</tbody>\n",
       "</table>\n"
      ],
      "text/latex": [
       "A matrix: 2 × 17 of type dbl\n",
       "\\begin{tabular}{r|lllllllllllllllll}\n",
       "  & IDNO & BODYFAT & DENSITY & AGE & WEIGHT & HEIGHT & ADIPOSITY & NECK & CHEST & ABDOMEN & HIP & THIGH & KNEE & ANKLE & BICEPS & FOREARM & WRIST\\\\\n",
       "\\hline\n",
       "\t72 & 72 &  9.4 & 1.0788 & 55 & 146.75 & 68.75 & 21.9 & 38.7 & 88.5 & 82.8 & 95.5 & 58.9 & 37.6 & 21.6 & 30.3 & 27.3 & 18.3\\\\\n",
       "\t76 & 76 & 18.3 & 1.0666 & 61 & 148.25 & 67.50 & 22.9 & 36.0 & 91.6 & 81.8 & 94.8 & 54.5 & 37.0 & 21.4 & 29.3 & 27.0 & 18.3\\\\\n",
       "\\end{tabular}\n"
      ],
      "text/markdown": [
       "\n",
       "A matrix: 2 × 17 of type dbl\n",
       "\n",
       "| <!--/--> | IDNO | BODYFAT | DENSITY | AGE | WEIGHT | HEIGHT | ADIPOSITY | NECK | CHEST | ABDOMEN | HIP | THIGH | KNEE | ANKLE | BICEPS | FOREARM | WRIST |\n",
       "|---|---|---|---|---|---|---|---|---|---|---|---|---|---|---|---|---|---|\n",
       "| 72 | 72 |  9.4 | 1.0788 | 55 | 146.75 | 68.75 | 21.9 | 38.7 | 88.5 | 82.8 | 95.5 | 58.9 | 37.6 | 21.6 | 30.3 | 27.3 | 18.3 |\n",
       "| 76 | 76 | 18.3 | 1.0666 | 61 | 148.25 | 67.50 | 22.9 | 36.0 | 91.6 | 81.8 | 94.8 | 54.5 | 37.0 | 21.4 | 29.3 | 27.0 | 18.3 |\n",
       "\n"
      ],
      "text/plain": [
       "   IDNO BODYFAT DENSITY AGE WEIGHT HEIGHT ADIPOSITY NECK CHEST ABDOMEN HIP \n",
       "72 72    9.4    1.0788  55  146.75 68.75  21.9      38.7 88.5  82.8    95.5\n",
       "76 76   18.3    1.0666  61  148.25 67.50  22.9      36.0 91.6  81.8    94.8\n",
       "   THIGH KNEE ANKLE BICEPS FOREARM WRIST\n",
       "72 58.9  37.6 21.6  30.3   27.3    18.3 \n",
       "76 54.5  37.0 21.4  29.3   27.0    18.3 "
      ]
     },
     "metadata": {},
     "output_type": "display_data"
    }
   ],
   "source": [
    "as.matrix(bodyfat[c(72,76),])"
   ]
  },
  {
   "cell_type": "markdown",
   "metadata": {},
   "source": [
    "compare these two ,we can see that the bodyfat has a large diff. however the bmi not shows much diff and the other variables shows the 76 should not be fat hence the bodyfat of 76 might be wrong "
   ]
  },
  {
   "cell_type": "code",
   "execution_count": 15,
   "metadata": {
    "scrolled": true
   },
   "outputs": [
    {
     "data": {
      "image/png": "[encoded data removed]",
      "text/plain": [
       "Plot with title \"Siri's equation\""
      ]
     },
     "metadata": {},
     "output_type": "display_data"
    }
   ],
   "source": [
    "bodyfat$BODYFAT[76]=495/bodyfat$DENSITY[76]- 450\n",
    "reverse.density=1/bodyfat$DENSITY\n",
    "plot(bodyfat$BODYFAT[-182] ~ reverse.density[-182],main=\"Siri's equation\",xlab=\"1/Density\",ylab=\"Body fat\",pch=19,col=\"red\")"
   ]
  },
  {
   "cell_type": "markdown",
   "metadata": {},
   "source": [
    "## 1.2 use BMI to find outliers bmi=weight/(height)^2"
   ]
  },
  {
   "cell_type": "code",
   "execution_count": 23,
   "metadata": {},
   "outputs": [
    {
     "data": {
      "image/png": "[encoded data removed]",
      "text/plain": [
       "Plot with title \"BMI equation\""
      ]
     },
     "metadata": {},
     "output_type": "display_data"
    }
   ],
   "source": [
    "bmi=bodyfat$WEIGHT/(bodyfat$HEIGHT)^2\n",
    "plot(bodyfat$ADIPOSITY[c(-182,-216)] ~ bmi[c(-182,-216)],main=\"BMI equation\",xlab=expression(WEIGHT/(HEIGHT)^2),ylab=\"ADIPOSITY\",pch=19,col=\"red\")\n",
    "text(bmi[c(42,163)],bodyfat$ADIPOSITY[c(42,163)]  ,c(42,163),p=3) #42,163,221\n",
    "text(bmi[c(221)],bodyfat$ADIPOSITY[c(221)]  ,c(221),p=1) #42,163,221"
   ]
  },
  {
   "cell_type": "markdown",
   "metadata": {},
   "source": [
    "###  Check outliers"
   ]
  },
  {
   "cell_type": "markdown",
   "metadata": {},
   "source": [
    "#### 42th entry"
   ]
  },
  {
   "cell_type": "code",
   "execution_count": 25,
   "metadata": {
    "scrolled": true
   },
   "outputs": [
    {
     "data": {
      "text/html": [
       "<table>\n",
       "<caption>A matrix: 3 × 17 of type dbl</caption>\n",
       "<thead>\n",
       "\t<tr><th></th><th scope=col>IDNO</th><th scope=col>BODYFAT</th><th scope=col>DENSITY</th><th scope=col>AGE</th><th scope=col>WEIGHT</th><th scope=col>HEIGHT</th><th scope=col>ADIPOSITY</th><th scope=col>NECK</th><th scope=col>CHEST</th><th scope=col>ABDOMEN</th><th scope=col>HIP</th><th scope=col>THIGH</th><th scope=col>KNEE</th><th scope=col>ANKLE</th><th scope=col>BICEPS</th><th scope=col>FOREARM</th><th scope=col>WRIST</th></tr>\n",
       "</thead>\n",
       "<tbody>\n",
       "\t<tr><th scope=row>41</th><td>41</td><td>33.1</td><td>1.0217</td><td>45</td><td>262.75</td><td>68.75</td><td>39.1</td><td>43.2</td><td>128.3</td><td>126.2</td><td>125.6</td><td>72.5</td><td>39.6</td><td>26.6</td><td>36.4</td><td>32.7</td><td>21.4</td></tr>\n",
       "\t<tr><th scope=row>42</th><td>42</td><td>31.7</td><td>1.0250</td><td>44</td><td>205.00</td><td>29.50</td><td>29.9</td><td>36.6</td><td>106.0</td><td>104.3</td><td>115.5</td><td>70.6</td><td>42.5</td><td>23.7</td><td>33.6</td><td>28.7</td><td>17.4</td></tr>\n",
       "\t<tr><th scope=row>43</th><td>43</td><td>30.4</td><td>1.0279</td><td>48</td><td>217.00</td><td>70.00</td><td>31.2</td><td>37.3</td><td>113.3</td><td>111.2</td><td>114.1</td><td>67.7</td><td>40.9</td><td>25.0</td><td>36.7</td><td>29.8</td><td>18.4</td></tr>\n",
       "</tbody>\n",
       "</table>\n"
      ],
      "text/latex": [
       "A matrix: 3 × 17 of type dbl\n",
       "\\begin{tabular}{r|lllllllllllllllll}\n",
       "  & IDNO & BODYFAT & DENSITY & AGE & WEIGHT & HEIGHT & ADIPOSITY & NECK & CHEST & ABDOMEN & HIP & THIGH & KNEE & ANKLE & BICEPS & FOREARM & WRIST\\\\\n",
       "\\hline\n",
       "\t41 & 41 & 33.1 & 1.0217 & 45 & 262.75 & 68.75 & 39.1 & 43.2 & 128.3 & 126.2 & 125.6 & 72.5 & 39.6 & 26.6 & 36.4 & 32.7 & 21.4\\\\\n",
       "\t42 & 42 & 31.7 & 1.0250 & 44 & 205.00 & 29.50 & 29.9 & 36.6 & 106.0 & 104.3 & 115.5 & 70.6 & 42.5 & 23.7 & 33.6 & 28.7 & 17.4\\\\\n",
       "\t43 & 43 & 30.4 & 1.0279 & 48 & 217.00 & 70.00 & 31.2 & 37.3 & 113.3 & 111.2 & 114.1 & 67.7 & 40.9 & 25.0 & 36.7 & 29.8 & 18.4\\\\\n",
       "\\end{tabular}\n"
      ],
      "text/markdown": [
       "\n",
       "A matrix: 3 × 17 of type dbl\n",
       "\n",
       "| <!--/--> | IDNO | BODYFAT | DENSITY | AGE | WEIGHT | HEIGHT | ADIPOSITY | NECK | CHEST | ABDOMEN | HIP | THIGH | KNEE | ANKLE | BICEPS | FOREARM | WRIST |\n",
       "|---|---|---|---|---|---|---|---|---|---|---|---|---|---|---|---|---|---|\n",
       "| 41 | 41 | 33.1 | 1.0217 | 45 | 262.75 | 68.75 | 39.1 | 43.2 | 128.3 | 126.2 | 125.6 | 72.5 | 39.6 | 26.6 | 36.4 | 32.7 | 21.4 |\n",
       "| 42 | 42 | 31.7 | 1.0250 | 44 | 205.00 | 29.50 | 29.9 | 36.6 | 106.0 | 104.3 | 115.5 | 70.6 | 42.5 | 23.7 | 33.6 | 28.7 | 17.4 |\n",
       "| 43 | 43 | 30.4 | 1.0279 | 48 | 217.00 | 70.00 | 31.2 | 37.3 | 113.3 | 111.2 | 114.1 | 67.7 | 40.9 | 25.0 | 36.7 | 29.8 | 18.4 |\n",
       "\n"
      ],
      "text/plain": [
       "   IDNO BODYFAT DENSITY AGE WEIGHT HEIGHT ADIPOSITY NECK CHEST ABDOMEN HIP  \n",
       "41 41   33.1    1.0217  45  262.75 68.75  39.1      43.2 128.3 126.2   125.6\n",
       "42 42   31.7    1.0250  44  205.00 29.50  29.9      36.6 106.0 104.3   115.5\n",
       "43 43   30.4    1.0279  48  217.00 70.00  31.2      37.3 113.3 111.2   114.1\n",
       "   THIGH KNEE ANKLE BICEPS FOREARM WRIST\n",
       "41 72.5  39.6 26.6  36.4   32.7    21.4 \n",
       "42 70.6  42.5 23.7  33.6   28.7    17.4 \n",
       "43 67.7  40.9 25.0  36.7   29.8    18.4 "
      ]
     },
     "metadata": {},
     "output_type": "display_data"
    }
   ],
   "source": [
    "as.matrix(bodyfat[c(41,42,43),])"
   ]
  },
  {
   "cell_type": "markdown",
   "metadata": {},
   "source": [
    "the heigth of the 42 is only 29.5 which might be mistake"
   ]
  },
  {
   "cell_type": "code",
   "execution_count": 29,
   "metadata": {
    "scrolled": true
   },
   "outputs": [
    {
     "data": {
      "text/html": [
       "2.61843222004502"
      ],
      "text/latex": [
       "2.61843222004502"
      ],
      "text/markdown": [
       "2.61843222004502"
      ],
      "text/plain": [
       "[1] 2.618432"
      ]
     },
     "metadata": {},
     "output_type": "display_data"
    }
   ],
   "source": [
    "sqrt(bodyfat$WEIGHT[42]/bodyfat$ADIPOSITY[42])"
   ]
  },
  {
   "cell_type": "markdown",
   "metadata": {},
   "source": [
    "Use other data to contrust a model between adiposity and bmi"
   ]
  },
  {
   "cell_type": "code",
   "execution_count": 30,
   "metadata": {},
   "outputs": [
    {
     "data": {
      "text/plain": [
       "\n",
       "Call:\n",
       "lm(formula = bodyfat$ADIPOSITY[-42] ~ bmi[-42])\n",
       "\n",
       "Residuals:\n",
       "     Min       1Q   Median       3Q      Max \n",
       "-3.02751 -0.02632  0.00396  0.02963  2.76506 \n",
       "\n",
       "Coefficients:\n",
       "            Estimate Std. Error t value Pr(>|t|)    \n",
       "(Intercept)   0.1942     0.1174   1.654   0.0994 .  \n",
       "bmi[-42]    698.6151     3.2188 217.042   <2e-16 ***\n",
       "---\n",
       "Signif. codes:  0 '***' 0.001 '**' 0.01 '*' 0.05 '.' 0.1 ' ' 1\n",
       "\n",
       "Residual standard error: 0.2648 on 249 degrees of freedom\n",
       "Multiple R-squared:  0.9947,\tAdjusted R-squared:  0.9947 \n",
       "F-statistic: 4.711e+04 on 1 and 249 DF,  p-value: < 2.2e-16\n"
      ]
     },
     "metadata": {},
     "output_type": "display_data"
    }
   ],
   "source": [
    "model.bmi=lm(bodyfat$ADIPOSITY[-42]~bmi[-42])\n",
    "summary(model.bmi)"
   ]
  },
  {
   "cell_type": "markdown",
   "metadata": {},
   "source": [
    "then ADIPOSITY=0.1942+698.6151*bmi"
   ]
  },
  {
   "cell_type": "code",
   "execution_count": 28,
   "metadata": {},
   "outputs": [
    {
     "data": {
      "text/html": [
       "69.4344961361505"
      ],
      "text/latex": [
       "69.4344961361505"
      ],
      "text/markdown": [
       "69.4344961361505"
      ],
      "text/plain": [
       "[1] 69.4345"
      ]
     },
     "metadata": {},
     "output_type": "display_data"
    }
   ],
   "source": [
    "bmi.42=(bodyfat$ADIPOSITY[42]-0.1942)/698.6151\n",
    "height=sqrt(bodyfat$WEIGHT[42]/bmi.42)\n",
    "height"
   ]
  },
  {
   "cell_type": "markdown",
   "metadata": {},
   "source": [
    "hence the height of the 42 guy is 69.4345 much reliable"
   ]
  },
  {
   "cell_type": "code",
   "execution_count": 32,
   "metadata": {
    "scrolled": false
   },
   "outputs": [
    {
     "data": {
      "image/png": "[encoded data removed]",
      "text/plain": [
       "Plot with title \"BMI equation\""
      ]
     },
     "metadata": {},
     "output_type": "display_data"
    }
   ],
   "source": [
    "bodyfat$HEIGHT[42]=height\n",
    "bmi=bodyfat$WEIGHT/(bodyfat$HEIGHT)^2\n",
    "plot(bodyfat$ADIPOSITY ~ bmi,main=\"BMI equation\",xlab=expression(WEIGHT/(HEIGHT)^2),ylab=\"ADIPOSITY\",pch=19,col=\"red\")\n",
    "text(bmi[c(163,221)],bodyfat$ADIPOSITY [c(163,221)] ,c(163,221),p=2) #96 182 48 76"
   ]
  },
  {
   "cell_type": "markdown",
   "metadata": {},
   "source": [
    "#### 221th entry"
   ]
  },
  {
   "cell_type": "code",
   "execution_count": 34,
   "metadata": {
    "scrolled": true
   },
   "outputs": [
    {
     "data": {
      "text/html": [
       "<table>\n",
       "<caption>A matrix: 4 × 17 of type dbl</caption>\n",
       "<thead>\n",
       "\t<tr><th></th><th scope=col>IDNO</th><th scope=col>BODYFAT</th><th scope=col>DENSITY</th><th scope=col>AGE</th><th scope=col>WEIGHT</th><th scope=col>HEIGHT</th><th scope=col>ADIPOSITY</th><th scope=col>NECK</th><th scope=col>CHEST</th><th scope=col>ABDOMEN</th><th scope=col>HIP</th><th scope=col>THIGH</th><th scope=col>KNEE</th><th scope=col>ANKLE</th><th scope=col>BICEPS</th><th scope=col>FOREARM</th><th scope=col>WRIST</th></tr>\n",
       "</thead>\n",
       "<tbody>\n",
       "\t<tr><th scope=row>116</th><td>116</td><td>16.7</td><td>1.0607</td><td>40</td><td>158.00</td><td>69.25</td><td>23.4</td><td>36.3</td><td>97.0</td><td>86.6</td><td>92.6</td><td>55.9</td><td>36.3</td><td>22.1</td><td>29.8</td><td>26.3</td><td>17.3</td></tr>\n",
       "\t<tr><th scope=row>123</th><td>123</td><td>14.8</td><td>1.0652</td><td>40</td><td>160.25</td><td>68.75</td><td>23.9</td><td>36.9</td><td>99.3</td><td>83.3</td><td>97.5</td><td>60.5</td><td>38.7</td><td>22.6</td><td>34.4</td><td>28.0</td><td>17.6</td></tr>\n",
       "\t<tr><th scope=row>218</th><td>218</td><td> 8.2</td><td>1.0819</td><td>51</td><td>154.50</td><td>70.00</td><td>22.2</td><td>36.9</td><td>93.3</td><td>81.5</td><td>94.4</td><td>54.7</td><td>39.0</td><td>22.6</td><td>27.5</td><td>25.9</td><td>18.6</td></tr>\n",
       "\t<tr><th scope=row>221</th><td>221</td><td>12.7</td><td>1.0706</td><td>54</td><td>153.25</td><td>70.50</td><td>24.5</td><td>38.5</td><td>99.0</td><td>91.8</td><td>96.2</td><td>57.7</td><td>38.1</td><td>23.9</td><td>31.4</td><td>29.9</td><td>18.9</td></tr>\n",
       "</tbody>\n",
       "</table>\n"
      ],
      "text/latex": [
       "A matrix: 4 × 17 of type dbl\n",
       "\\begin{tabular}{r|lllllllllllllllll}\n",
       "  & IDNO & BODYFAT & DENSITY & AGE & WEIGHT & HEIGHT & ADIPOSITY & NECK & CHEST & ABDOMEN & HIP & THIGH & KNEE & ANKLE & BICEPS & FOREARM & WRIST\\\\\n",
       "\\hline\n",
       "\t116 & 116 & 16.7 & 1.0607 & 40 & 158.00 & 69.25 & 23.4 & 36.3 & 97.0 & 86.6 & 92.6 & 55.9 & 36.3 & 22.1 & 29.8 & 26.3 & 17.3\\\\\n",
       "\t123 & 123 & 14.8 & 1.0652 & 40 & 160.25 & 68.75 & 23.9 & 36.9 & 99.3 & 83.3 & 97.5 & 60.5 & 38.7 & 22.6 & 34.4 & 28.0 & 17.6\\\\\n",
       "\t218 & 218 &  8.2 & 1.0819 & 51 & 154.50 & 70.00 & 22.2 & 36.9 & 93.3 & 81.5 & 94.4 & 54.7 & 39.0 & 22.6 & 27.5 & 25.9 & 18.6\\\\\n",
       "\t221 & 221 & 12.7 & 1.0706 & 54 & 153.25 & 70.50 & 24.5 & 38.5 & 99.0 & 91.8 & 96.2 & 57.7 & 38.1 & 23.9 & 31.4 & 29.9 & 18.9\\\\\n",
       "\\end{tabular}\n"
      ],
      "text/markdown": [
       "\n",
       "A matrix: 4 × 17 of type dbl\n",
       "\n",
       "| <!--/--> | IDNO | BODYFAT | DENSITY | AGE | WEIGHT | HEIGHT | ADIPOSITY | NECK | CHEST | ABDOMEN | HIP | THIGH | KNEE | ANKLE | BICEPS | FOREARM | WRIST |\n",
       "|---|---|---|---|---|---|---|---|---|---|---|---|---|---|---|---|---|---|\n",
       "| 116 | 116 | 16.7 | 1.0607 | 40 | 158.00 | 69.25 | 23.4 | 36.3 | 97.0 | 86.6 | 92.6 | 55.9 | 36.3 | 22.1 | 29.8 | 26.3 | 17.3 |\n",
       "| 123 | 123 | 14.8 | 1.0652 | 40 | 160.25 | 68.75 | 23.9 | 36.9 | 99.3 | 83.3 | 97.5 | 60.5 | 38.7 | 22.6 | 34.4 | 28.0 | 17.6 |\n",
       "| 218 | 218 |  8.2 | 1.0819 | 51 | 154.50 | 70.00 | 22.2 | 36.9 | 93.3 | 81.5 | 94.4 | 54.7 | 39.0 | 22.6 | 27.5 | 25.9 | 18.6 |\n",
       "| 221 | 221 | 12.7 | 1.0706 | 54 | 153.25 | 70.50 | 24.5 | 38.5 | 99.0 | 91.8 | 96.2 | 57.7 | 38.1 | 23.9 | 31.4 | 29.9 | 18.9 |\n",
       "\n"
      ],
      "text/plain": [
       "    IDNO BODYFAT DENSITY AGE WEIGHT HEIGHT ADIPOSITY NECK CHEST ABDOMEN HIP \n",
       "116 116  16.7    1.0607  40  158.00 69.25  23.4      36.3 97.0  86.6    92.6\n",
       "123 123  14.8    1.0652  40  160.25 68.75  23.9      36.9 99.3  83.3    97.5\n",
       "218 218   8.2    1.0819  51  154.50 70.00  22.2      36.9 93.3  81.5    94.4\n",
       "221 221  12.7    1.0706  54  153.25 70.50  24.5      38.5 99.0  91.8    96.2\n",
       "    THIGH KNEE ANKLE BICEPS FOREARM WRIST\n",
       "116 55.9  36.3 22.1  29.8   26.3    17.3 \n",
       "123 60.5  38.7 22.6  34.4   28.0    17.6 \n",
       "218 54.7  39.0 22.6  27.5   25.9    18.6 \n",
       "221 57.7  38.1 23.9  31.4   29.9    18.9 "
      ]
     },
     "metadata": {},
     "output_type": "display_data"
    }
   ],
   "source": [
    "as.matrix(bodyfat[c(116,123,218,221),])"
   ]
  },
  {
   "cell_type": "markdown",
   "metadata": {},
   "source": [
    "we see that for 221 ,the weight and height are similar with the 218. however their ADIPOSITY are diff\n",
    "there must be one wrong values among these three variables,we can compare the rest variables of 221 are larger than 218, \n",
    "but the weight is smaller,and then compare 211 with 116,123...\n",
    "hence the weight of 221 might be wrong"
   ]
  },
  {
   "cell_type": "code",
   "execution_count": 42,
   "metadata": {},
   "outputs": [
    {
     "data": {
      "text/html": [
       "172.921974417673"
      ],
      "text/latex": [
       "172.921974417673"
      ],
      "text/markdown": [
       "172.921974417673"
      ],
      "text/plain": [
       "[1] 172.922"
      ]
     },
     "metadata": {},
     "output_type": "display_data"
    }
   ],
   "source": [
    "bmi.221=(bodyfat$ADIPOSITY[221]-0.1942)/698.6151\n",
    "weight=bmi.221*(bodyfat$HEIGHT[221])^2\n",
    "bodyfat$WEIGHT[221]=weight\n",
    "weight"
   ]
  },
  {
   "cell_type": "markdown",
   "metadata": {},
   "source": [
    "#### 163th entry"
   ]
  },
  {
   "cell_type": "code",
   "execution_count": 43,
   "metadata": {
    "scrolled": true
   },
   "outputs": [
    {
     "data": {
      "text/html": [
       "<table>\n",
       "<caption>A matrix: 4 × 17 of type dbl</caption>\n",
       "<thead>\n",
       "\t<tr><th></th><th scope=col>IDNO</th><th scope=col>BODYFAT</th><th scope=col>DENSITY</th><th scope=col>AGE</th><th scope=col>WEIGHT</th><th scope=col>HEIGHT</th><th scope=col>ADIPOSITY</th><th scope=col>NECK</th><th scope=col>CHEST</th><th scope=col>ABDOMEN</th><th scope=col>HIP</th><th scope=col>THIGH</th><th scope=col>KNEE</th><th scope=col>ANKLE</th><th scope=col>BICEPS</th><th scope=col>FOREARM</th><th scope=col>WRIST</th></tr>\n",
       "</thead>\n",
       "<tbody>\n",
       "\t<tr><th scope=row>158</th><td>158</td><td>10.5</td><td>1.0761</td><td>28</td><td>182.50</td><td>72.25</td><td>24.6</td><td>37.0</td><td>98.5</td><td>90.8</td><td>102.5</td><td>60.8</td><td>38.5</td><td>25.0</td><td>31.6</td><td>28.0</td><td>18.6</td></tr>\n",
       "\t<tr><th scope=row>163</th><td>163</td><td>13.3</td><td>1.0690</td><td>33</td><td>184.25</td><td>68.75</td><td>24.4</td><td>40.7</td><td>98.9</td><td>92.1</td><td>103.5</td><td>64.0</td><td>37.3</td><td>23.5</td><td>33.5</td><td>30.6</td><td>19.7</td></tr>\n",
       "\t<tr><th scope=row>167</th><td>167</td><td>21.4</td><td>1.0492</td><td>35</td><td>166.25</td><td>68.00</td><td>25.3</td><td>38.5</td><td>99.1</td><td>90.4</td><td> 95.6</td><td>55.5</td><td>34.2</td><td>21.9</td><td>30.2</td><td>28.7</td><td>17.7</td></tr>\n",
       "\t<tr><th scope=row>170</th><td>170</td><td>16.5</td><td>1.0610</td><td>35</td><td>172.75</td><td>69.50</td><td>25.2</td><td>37.6</td><td>99.1</td><td>90.8</td><td> 98.1</td><td>60.1</td><td>39.1</td><td>23.4</td><td>32.5</td><td>29.8</td><td>17.4</td></tr>\n",
       "</tbody>\n",
       "</table>\n"
      ],
      "text/latex": [
       "A matrix: 4 × 17 of type dbl\n",
       "\\begin{tabular}{r|lllllllllllllllll}\n",
       "  & IDNO & BODYFAT & DENSITY & AGE & WEIGHT & HEIGHT & ADIPOSITY & NECK & CHEST & ABDOMEN & HIP & THIGH & KNEE & ANKLE & BICEPS & FOREARM & WRIST\\\\\n",
       "\\hline\n",
       "\t158 & 158 & 10.5 & 1.0761 & 28 & 182.50 & 72.25 & 24.6 & 37.0 & 98.5 & 90.8 & 102.5 & 60.8 & 38.5 & 25.0 & 31.6 & 28.0 & 18.6\\\\\n",
       "\t163 & 163 & 13.3 & 1.0690 & 33 & 184.25 & 68.75 & 24.4 & 40.7 & 98.9 & 92.1 & 103.5 & 64.0 & 37.3 & 23.5 & 33.5 & 30.6 & 19.7\\\\\n",
       "\t167 & 167 & 21.4 & 1.0492 & 35 & 166.25 & 68.00 & 25.3 & 38.5 & 99.1 & 90.4 &  95.6 & 55.5 & 34.2 & 21.9 & 30.2 & 28.7 & 17.7\\\\\n",
       "\t170 & 170 & 16.5 & 1.0610 & 35 & 172.75 & 69.50 & 25.2 & 37.6 & 99.1 & 90.8 &  98.1 & 60.1 & 39.1 & 23.4 & 32.5 & 29.8 & 17.4\\\\\n",
       "\\end{tabular}\n"
      ],
      "text/markdown": [
       "\n",
       "A matrix: 4 × 17 of type dbl\n",
       "\n",
       "| <!--/--> | IDNO | BODYFAT | DENSITY | AGE | WEIGHT | HEIGHT | ADIPOSITY | NECK | CHEST | ABDOMEN | HIP | THIGH | KNEE | ANKLE | BICEPS | FOREARM | WRIST |\n",
       "|---|---|---|---|---|---|---|---|---|---|---|---|---|---|---|---|---|---|\n",
       "| 158 | 158 | 10.5 | 1.0761 | 28 | 182.50 | 72.25 | 24.6 | 37.0 | 98.5 | 90.8 | 102.5 | 60.8 | 38.5 | 25.0 | 31.6 | 28.0 | 18.6 |\n",
       "| 163 | 163 | 13.3 | 1.0690 | 33 | 184.25 | 68.75 | 24.4 | 40.7 | 98.9 | 92.1 | 103.5 | 64.0 | 37.3 | 23.5 | 33.5 | 30.6 | 19.7 |\n",
       "| 167 | 167 | 21.4 | 1.0492 | 35 | 166.25 | 68.00 | 25.3 | 38.5 | 99.1 | 90.4 |  95.6 | 55.5 | 34.2 | 21.9 | 30.2 | 28.7 | 17.7 |\n",
       "| 170 | 170 | 16.5 | 1.0610 | 35 | 172.75 | 69.50 | 25.2 | 37.6 | 99.1 | 90.8 |  98.1 | 60.1 | 39.1 | 23.4 | 32.5 | 29.8 | 17.4 |\n",
       "\n"
      ],
      "text/plain": [
       "    IDNO BODYFAT DENSITY AGE WEIGHT HEIGHT ADIPOSITY NECK CHEST ABDOMEN HIP  \n",
       "158 158  10.5    1.0761  28  182.50 72.25  24.6      37.0 98.5  90.8    102.5\n",
       "163 163  13.3    1.0690  33  184.25 68.75  24.4      40.7 98.9  92.1    103.5\n",
       "167 167  21.4    1.0492  35  166.25 68.00  25.3      38.5 99.1  90.4     95.6\n",
       "170 170  16.5    1.0610  35  172.75 69.50  25.2      37.6 99.1  90.8     98.1\n",
       "    THIGH KNEE ANKLE BICEPS FOREARM WRIST\n",
       "158 60.8  38.5 25.0  31.6   28.0    18.6 \n",
       "163 64.0  37.3 23.5  33.5   30.6    19.7 \n",
       "167 55.5  34.2 21.9  30.2   28.7    17.7 \n",
       "170 60.1  39.1 23.4  32.5   29.8    17.4 "
      ]
     },
     "metadata": {},
     "output_type": "display_data"
    }
   ],
   "source": [
    "as.matrix(bodyfat[c(158,163,167,170),])"
   ]
  },
  {
   "cell_type": "markdown",
   "metadata": {},
   "source": [
    "comparing 163 and 167, the value of 163 are larger than 167 with the same height\n",
    "\n",
    "it is reasonable to say 163 is fatter  than 167 based on the bodyfat and density comparison\n",
    "\n",
    "but the ADIPOSITY of 163 is smaller\n",
    "\n",
    "hence we guess there is a mistake when we compute the ADIPOSITY.\n",
    "\n",
    "What's more weight 163>158,height:163<158,the ADIPOSITY should be 163>158,but the data is not"
   ]
  },
  {
   "cell_type": "code",
   "execution_count": 46,
   "metadata": {},
   "outputs": [],
   "source": [
    "bmi.163=bodyfat$WEIGHT[163]/(bodyfat$HEIGHT[163])^2\n",
    "adi=0.1942+698.6151*bmi.163\n",
    "bodyfat$ADIPOSITY[163]=adi"
   ]
  },
  {
   "cell_type": "code",
   "execution_count": null,
   "metadata": {},
   "outputs": [],
   "source": [
    "#check the bmi equation again\n",
    "bmi=bodyfat$WEIGHT/(bodyfat$HEIGHT)^2\n",
    "plot(bodyfat$ADIPOSITY ~ bmi,main=\"BMI equation\",xlab=expression(WEIGHT/(HEIGHT)^2),ylab=\"ADIPOSITY\",pch=19,col=\"red\")\n",
    "text(bmi[c(42,163,221)],bodyfat$ADIPOSITY[c(42,163,221)]  ,c(42,163,221),p=2) #96 182 48 76\n",
    "#it seems good"
   ]
  },
  {
   "cell_type": "markdown",
   "metadata": {},
   "source": [
    "using these two criterion we only need to delet 182,216, other outliers will be replaced by the imputations."
   ]
  },
  {
   "cell_type": "markdown",
   "metadata": {},
   "source": [
    "## 1.3  use the Cook's distance to detect outliers"
   ]
  },
  {
   "cell_type": "markdown",
   "metadata": {},
   "source": [
    "Cook's distance or Cook's D is a commonly used estimate of\n",
    "the influence of a data point when performing a least-squares regression\n",
    "analysis\n",
    "Rule of thumb: classify as leverages anything above 4/(n-p)."
   ]
  },
  {
   "cell_type": "code",
   "execution_count": 47,
   "metadata": {
    "scrolled": true
   },
   "outputs": [
    {
     "ename": "ERROR",
     "evalue": "Error in nrow(bodyfat_new): object 'bodyfat_new' not found\n",
     "output_type": "error",
     "traceback": [
      "Error in nrow(bodyfat_new): object 'bodyfat_new' not found\nTraceback:\n",
      "1. nrow(bodyfat_new)"
     ]
    },
    {
     "data": {
      "image/png": "[encoded data removed]",
      "text/plain": [
       "Plot with title \"\""
      ]
     },
     "metadata": {},
     "output_type": "display_data"
    }
   ],
   "source": [
    "model=lm(DENSITY~ ., data=bodyfat[-c(48 ,76,96, 182 ),c(-1,-2)])\n",
    "plot(model,which = 4)\n",
    "n=nrow(bodyfat_new)\n",
    "p=ncol(bodyfat_new)\n",
    "abline(h = 4/(n-p),lty=2,col='red')\n",
    "library(car)\n",
    "influencePlot(model)\n",
    "outlierTest(model,cutoff=0.05, n.max=10, order=TRUE)"
   ]
  },
  {
   "cell_type": "markdown",
   "metadata": {},
   "source": [
    "Bonferroni Outlier Test\n",
    "Description\n",
    "Reports the Bonferroni p-values for testing each observation \n",
    "in turn to be a mean-shift outlier, based Studentized residuals \n",
    "in linear (t-tests), generalized linear models (normal tests), \n",
    "and linear mixed models."
   ]
  },
  {
   "cell_type": "markdown",
   "metadata": {},
   "source": [
    "we can see the 42 is a influntial point\n",
    "only  29.5 height outlier\n",
    "delect number 42 and fit the model again"
   ]
  },
  {
   "cell_type": "code",
   "execution_count": null,
   "metadata": {},
   "outputs": [],
   "source": [
    "outlier=bodyfat[42,]"
   ]
  },
  {
   "cell_type": "code",
   "execution_count": null,
   "metadata": {},
   "outputs": [],
   "source": [
    "model_1=lm(DENSITY~ ., data=bodyfat[-c(42,48 ,76,96, 182 ),c(-1,-2)])\n",
    "summary(model_1)\n",
    "layout(matrix(1:4, ncol=2))\n",
    "plot(model_1)\n",
    "layout(matrix(1:1, ncol=1))\n",
    "plot(model_1,which = 4)\n",
    "n=n-1#delet 42\n",
    "abline(h = 4/(n-p),lty=2,col='red')\n",
    "influencePlot(model_1)\n",
    "outlierTest(model_1)"
   ]
  },
  {
   "cell_type": "code",
   "execution_count": null,
   "metadata": {},
   "outputs": [],
   "source": [
    "#39 influential point\n",
    "bodyfat[39,]#weight  363.15 pounds\n",
    "## delect number 39 and fit the model again\n",
    "model_2=lm(DENSITY~ ., data=bodyfat[-c(39,42,48 ,76,96, 182 ),c(-1,-2)])\n",
    "summary(model_2)\n",
    "layout(matrix(1:4, ncol=2))\n",
    "plot(model_2)\n",
    "layout(matrix(1:1, ncol=1))\n",
    "plot(model_2,which = 4)\n",
    "n=n-1#delet 39\n",
    "abline(h = 4/(n-p),lty=2,col='red')\n",
    "influencePlot(model_2)\n",
    "outlierTest(model_2)\n",
    "## delect number 221 and fit the model again\n",
    "bodyfat[221,]\n",
    "model_3=lm(DENSITY~ ., data=bodyfat[-c(39,42,48 ,76,96, 182,221 ),c(-1,-2)])\n",
    "summary(model_3)\n",
    "layout(matrix(1:4, ncol=2))\n",
    "plot(model_3)\n",
    "layout(matrix(1:1, ncol=1))\n",
    "plot(model_3,which = 4)\n",
    "n=n-1\n",
    "abline(h = 4/(n-p),lty=2,col='red')\n",
    "influencePlot(model_3)\n",
    "outlierTest(model_3)\n",
    "## delect number 86 and fit the model again\n",
    "model_4=lm(DENSITY~ ., data=bodyfat[-c(39,42,48 ,76,86,96, 182,221 ),c(-1,-2)])\n",
    "summary(model_4)\n",
    "layout(matrix(1:4, ncol=2))\n",
    "plot(model_4)\n",
    "layout(matrix(1:1, ncol=1))\n",
    "plot(model_4,which = 4)\n",
    "n=n-1#delet 42\n",
    "abline(h = 4/(n-p),lty=2,col='red')\n",
    "influencePlot(model_4)\n",
    "\n",
    "outlierTest(model_4)"
   ]
  },
  {
   "cell_type": "markdown",
   "metadata": {},
   "source": [
    "  # After cleanning data"
   ]
  },
  {
   "cell_type": "code",
   "execution_count": null,
   "metadata": {},
   "outputs": [],
   "source": [
    "# after cleaning the data the new dataset\n",
    "bodyfat_new=bodyfat_new[-c(42,39,221,96,86),]\n"
   ]
  },
  {
   "cell_type": "code",
   "execution_count": null,
   "metadata": {},
   "outputs": [],
   "source": [
    "\n",
    "##AIC BIC\n",
    "model.new=lm(DENSITY~ ., data=bodyfat_new)\n",
    "#both direction AIC\n",
    "model.aic.both=step(model.new,direction = \"both\",k=2)\n",
    "summary(model.aic.both)\n",
    "#-2290.41,DENSITY ~ AGE + WEIGHT + HEIGHT + ADIPOSITY + NECK + ABDOMEN + HIP + THIGH + FOREARM + WRIST\n",
    "model.bic.both=step(model.new,direction = \"both\",scope=list(lower=~1,upper=model),k=log(n))\n",
    "summary(model.bic.both)\n",
    "#-2274.24 DENSITY ~ WEIGHT + ABDOMEN + WRIST\n",
    "\n",
    "\n",
    "###A rule of thumb: Good models are those that are within 2 AIC units of the lowest AIC value. Models with more than 10 AIC units above the lowest AIC value are generally not considered.\n",
    "###AIC can result in overfitting.\n",
    "###AIC and most other criteria do not have measure of variation and thus the rules are generally approximations.\n",
    "##AICåBICåå¼å",
    "¥äºä¸æ¨¡ååæ°ä¸ªæ°ç¸å",
    "³çæ©ç½é¡¹ï¼BICçæ©ç½é¡¹æ¯AICçå¤§ï¼èèäºæ ·æ¬æ°éï¼æ ·æ¬æ°éè¿å¤æ¶ï¼å¯ææé²æ­¢æ¨¡åç²¾åº¦è¿é«é æçæ¨¡åå¤æåº¦è¿é«ã\n",
    "\n",
    "#Hence choose the model lm(DENSITY ~ WEIGHT + ABDOMEN + WRIST)\n"
   ]
  },
  {
   "cell_type": "code",
   "execution_count": null,
   "metadata": {},
   "outputs": [],
   "source": [
    "\n",
    "##cross validation\n",
    "set.seed(101)\n",
    "sample=sample(n, replace = F)\n",
    "data=bodyfat_new[sample,]# change the order of the observation\n",
    "folds=cut(seq(1,n),breaks=3,labels=FALSE)"
   ]
  },
  {
   "cell_type": "code",
   "execution_count": null,
   "metadata": {},
   "outputs": [],
   "source": [
    "\n",
    "#first fold\n",
    "trainindexes=which(folds!=3)\n",
    "traindata=data[trainindexes, ]\n",
    "\n",
    "testindexes=which(folds==3)\n",
    "testdata=data[testindexes, ]\n",
    "nrow(testdata)\n",
    "\n",
    "model.new=lm(DENSITY~ ., data=traindata)\n",
    "#both direction AIC\n",
    "model.aic.both=step(model.new,direction = \"both\",k=2)\n",
    "summary(model.aic.both)\n",
    "#-1530.48,DENSITY ~ WEIGHT + HEIGHT + ADIPOSITY + NECK + ABDOMEN + HIP + THIGH\n",
    "model.bic.both=step(model.new,direction = \"both\",k=log(n))\n",
    "summary(model.bic.both)\n",
    "#-1511.43 DENSITY ~ WEIGHT + NECK + ABDOMEN"
   ]
  }
 ],
 "metadata": {
  "kernelspec": {
   "display_name": "R",
   "language": "R",
   "name": "ir"
  },
  "language_info": {
   "codemirror_mode": "r",
   "file_extension": ".r",
   "mimetype": "text/x-r-source",
   "name": "R",
   "pygments_lexer": "r",
   "version": "3.6.1"
  }
 },
 "nbformat": 4,
 "nbformat_minor": 2
}
