{
 "cells": [
  {
   "cell_type": "code",
   "execution_count": 18,
   "metadata": {},
   "outputs": [],
   "source": [
    "rm(list=ls())\n",
    "setwd('C:/Users/Tansu/Documents/GitHub/UW-STAT628-M2/dataset')\n",
    "bodyfat_new=read.csv(\"clean dataset.csv\")"
   ]
  },
  {
   "cell_type": "markdown",
   "metadata": {},
   "source": [
    "# 3. use vif check multicollinear"
   ]
  },
  {
   "cell_type": "code",
   "execution_count": 22,
   "metadata": {},
   "outputs": [
    {
     "data": {
      "text/html": [
       "<table>\n",
       "<caption>A data.frame: 6 × 16</caption>\n",
       "<thead>\n",
       "\t<tr><th scope=col>BODYFAT</th><th scope=col>DENSITY</th><th scope=col>AGE</th><th scope=col>WEIGHT</th><th scope=col>HEIGHT</th><th scope=col>ADIPOSITY</th><th scope=col>NECK</th><th scope=col>CHEST</th><th scope=col>ABDOMEN</th><th scope=col>HIP</th><th scope=col>THIGH</th><th scope=col>KNEE</th><th scope=col>ANKLE</th><th scope=col>BICEPS</th><th scope=col>FOREARM</th><th scope=col>WRIST</th></tr>\n",
       "\t<tr><th scope=col>&lt;dbl&gt;</th><th scope=col>&lt;dbl&gt;</th><th scope=col>&lt;int&gt;</th><th scope=col>&lt;dbl&gt;</th><th scope=col>&lt;dbl&gt;</th><th scope=col>&lt;dbl&gt;</th><th scope=col>&lt;dbl&gt;</th><th scope=col>&lt;dbl&gt;</th><th scope=col>&lt;dbl&gt;</th><th scope=col>&lt;dbl&gt;</th><th scope=col>&lt;dbl&gt;</th><th scope=col>&lt;dbl&gt;</th><th scope=col>&lt;dbl&gt;</th><th scope=col>&lt;dbl&gt;</th><th scope=col>&lt;dbl&gt;</th><th scope=col>&lt;dbl&gt;</th></tr>\n",
       "</thead>\n",
       "<tbody>\n",
       "\t<tr><td>12.6</td><td>1.0708</td><td>23</td><td>154.25</td><td>67.75</td><td>23.7</td><td>36.2</td><td> 93.1</td><td> 85.2</td><td> 94.5</td><td>59.0</td><td>37.3</td><td>21.9</td><td>32.0</td><td>27.4</td><td>17.1</td></tr>\n",
       "\t<tr><td> 6.9</td><td>1.0853</td><td>22</td><td>173.25</td><td>72.25</td><td>23.4</td><td>38.5</td><td> 93.6</td><td> 83.0</td><td> 98.7</td><td>58.7</td><td>37.3</td><td>23.4</td><td>30.5</td><td>28.9</td><td>18.2</td></tr>\n",
       "\t<tr><td>24.6</td><td>1.0414</td><td>22</td><td>154.00</td><td>66.25</td><td>24.7</td><td>34.0</td><td> 95.8</td><td> 87.9</td><td> 99.2</td><td>59.6</td><td>38.9</td><td>24.0</td><td>28.8</td><td>25.2</td><td>16.6</td></tr>\n",
       "\t<tr><td>10.9</td><td>1.0751</td><td>26</td><td>184.75</td><td>72.25</td><td>24.9</td><td>37.4</td><td>101.8</td><td> 86.4</td><td>101.2</td><td>60.1</td><td>37.3</td><td>22.8</td><td>32.4</td><td>29.4</td><td>18.2</td></tr>\n",
       "\t<tr><td>27.8</td><td>1.0340</td><td>24</td><td>184.25</td><td>71.25</td><td>25.6</td><td>34.4</td><td> 97.3</td><td>100.0</td><td>101.9</td><td>63.2</td><td>42.2</td><td>24.0</td><td>32.2</td><td>27.7</td><td>17.7</td></tr>\n",
       "\t<tr><td>20.6</td><td>1.0502</td><td>24</td><td>210.25</td><td>74.75</td><td>26.5</td><td>39.0</td><td>104.5</td><td> 94.4</td><td>107.8</td><td>66.0</td><td>42.0</td><td>25.6</td><td>35.7</td><td>30.6</td><td>18.8</td></tr>\n",
       "</tbody>\n",
       "</table>\n"
      ],
      "text/latex": [
       "A data.frame: 6 × 16\n",
       "\\begin{tabular}{r|llllllllllllllll}\n",
       " BODYFAT & DENSITY & AGE & WEIGHT & HEIGHT & ADIPOSITY & NECK & CHEST & ABDOMEN & HIP & THIGH & KNEE & ANKLE & BICEPS & FOREARM & WRIST\\\\\n",
       " <dbl> & <dbl> & <int> & <dbl> & <dbl> & <dbl> & <dbl> & <dbl> & <dbl> & <dbl> & <dbl> & <dbl> & <dbl> & <dbl> & <dbl> & <dbl>\\\\\n",
       "\\hline\n",
       "\t 12.6 & 1.0708 & 23 & 154.25 & 67.75 & 23.7 & 36.2 &  93.1 &  85.2 &  94.5 & 59.0 & 37.3 & 21.9 & 32.0 & 27.4 & 17.1\\\\\n",
       "\t  6.9 & 1.0853 & 22 & 173.25 & 72.25 & 23.4 & 38.5 &  93.6 &  83.0 &  98.7 & 58.7 & 37.3 & 23.4 & 30.5 & 28.9 & 18.2\\\\\n",
       "\t 24.6 & 1.0414 & 22 & 154.00 & 66.25 & 24.7 & 34.0 &  95.8 &  87.9 &  99.2 & 59.6 & 38.9 & 24.0 & 28.8 & 25.2 & 16.6\\\\\n",
       "\t 10.9 & 1.0751 & 26 & 184.75 & 72.25 & 24.9 & 37.4 & 101.8 &  86.4 & 101.2 & 60.1 & 37.3 & 22.8 & 32.4 & 29.4 & 18.2\\\\\n",
       "\t 27.8 & 1.0340 & 24 & 184.25 & 71.25 & 25.6 & 34.4 &  97.3 & 100.0 & 101.9 & 63.2 & 42.2 & 24.0 & 32.2 & 27.7 & 17.7\\\\\n",
       "\t 20.6 & 1.0502 & 24 & 210.25 & 74.75 & 26.5 & 39.0 & 104.5 &  94.4 & 107.8 & 66.0 & 42.0 & 25.6 & 35.7 & 30.6 & 18.8\\\\\n",
       "\\end{tabular}\n"
      ],
      "text/markdown": [
       "\n",
       "A data.frame: 6 × 16\n",
       "\n",
       "| BODYFAT &lt;dbl&gt; | DENSITY &lt;dbl&gt; | AGE &lt;int&gt; | WEIGHT &lt;dbl&gt; | HEIGHT &lt;dbl&gt; | ADIPOSITY &lt;dbl&gt; | NECK &lt;dbl&gt; | CHEST &lt;dbl&gt; | ABDOMEN &lt;dbl&gt; | HIP &lt;dbl&gt; | THIGH &lt;dbl&gt; | KNEE &lt;dbl&gt; | ANKLE &lt;dbl&gt; | BICEPS &lt;dbl&gt; | FOREARM &lt;dbl&gt; | WRIST &lt;dbl&gt; |\n",
       "|---|---|---|---|---|---|---|---|---|---|---|---|---|---|---|---|\n",
       "| 12.6 | 1.0708 | 23 | 154.25 | 67.75 | 23.7 | 36.2 |  93.1 |  85.2 |  94.5 | 59.0 | 37.3 | 21.9 | 32.0 | 27.4 | 17.1 |\n",
       "|  6.9 | 1.0853 | 22 | 173.25 | 72.25 | 23.4 | 38.5 |  93.6 |  83.0 |  98.7 | 58.7 | 37.3 | 23.4 | 30.5 | 28.9 | 18.2 |\n",
       "| 24.6 | 1.0414 | 22 | 154.00 | 66.25 | 24.7 | 34.0 |  95.8 |  87.9 |  99.2 | 59.6 | 38.9 | 24.0 | 28.8 | 25.2 | 16.6 |\n",
       "| 10.9 | 1.0751 | 26 | 184.75 | 72.25 | 24.9 | 37.4 | 101.8 |  86.4 | 101.2 | 60.1 | 37.3 | 22.8 | 32.4 | 29.4 | 18.2 |\n",
       "| 27.8 | 1.0340 | 24 | 184.25 | 71.25 | 25.6 | 34.4 |  97.3 | 100.0 | 101.9 | 63.2 | 42.2 | 24.0 | 32.2 | 27.7 | 17.7 |\n",
       "| 20.6 | 1.0502 | 24 | 210.25 | 74.75 | 26.5 | 39.0 | 104.5 |  94.4 | 107.8 | 66.0 | 42.0 | 25.6 | 35.7 | 30.6 | 18.8 |\n",
       "\n"
      ],
      "text/plain": [
       "  BODYFAT DENSITY AGE WEIGHT HEIGHT ADIPOSITY NECK CHEST ABDOMEN HIP   THIGH\n",
       "1 12.6    1.0708  23  154.25 67.75  23.7      36.2  93.1  85.2    94.5 59.0 \n",
       "2  6.9    1.0853  22  173.25 72.25  23.4      38.5  93.6  83.0    98.7 58.7 \n",
       "3 24.6    1.0414  22  154.00 66.25  24.7      34.0  95.8  87.9    99.2 59.6 \n",
       "4 10.9    1.0751  26  184.75 72.25  24.9      37.4 101.8  86.4   101.2 60.1 \n",
       "5 27.8    1.0340  24  184.25 71.25  25.6      34.4  97.3 100.0   101.9 63.2 \n",
       "6 20.6    1.0502  24  210.25 74.75  26.5      39.0 104.5  94.4   107.8 66.0 \n",
       "  KNEE ANKLE BICEPS FOREARM WRIST\n",
       "1 37.3 21.9  32.0   27.4    17.1 \n",
       "2 37.3 23.4  30.5   28.9    18.2 \n",
       "3 38.9 24.0  28.8   25.2    16.6 \n",
       "4 37.3 22.8  32.4   29.4    18.2 \n",
       "5 42.2 24.0  32.2   27.7    17.7 \n",
       "6 42.0 25.6  35.7   30.6    18.8 "
      ]
     },
     "metadata": {},
     "output_type": "display_data"
    },
    {
     "data": {
      "text/html": [
       "<dl class=dl-horizontal>\n",
       "\t<dt>AGE</dt>\n",
       "\t\t<dd>2.32750371892349</dd>\n",
       "\t<dt>WEIGHT</dt>\n",
       "\t\t<dd>270.289517889352</dd>\n",
       "\t<dt>HEIGHT</dt>\n",
       "\t\t<dd>65.3423016336165</dd>\n",
       "\t<dt>ADIPOSITY</dt>\n",
       "\t\t<dd>208.033429144898</dd>\n",
       "\t<dt>NECK</dt>\n",
       "\t\t<dd>3.9113294347471</dd>\n",
       "\t<dt>CHEST</dt>\n",
       "\t\t<dd>11.1346506290439</dd>\n",
       "\t<dt>ABDOMEN</dt>\n",
       "\t\t<dd>11.9989066327863</dd>\n",
       "\t<dt>HIP</dt>\n",
       "\t\t<dd>12.4465743079004</dd>\n",
       "\t<dt>THIGH</dt>\n",
       "\t\t<dd>7.43678508394777</dd>\n",
       "\t<dt>KNEE</dt>\n",
       "\t\t<dd>4.61064940352154</dd>\n",
       "\t<dt>ANKLE</dt>\n",
       "\t\t<dd>2.27430495447939</dd>\n",
       "\t<dt>BICEPS</dt>\n",
       "\t\t<dd>3.4070110574945</dd>\n",
       "\t<dt>FOREARM</dt>\n",
       "\t\t<dd>2.45229552741885</dd>\n",
       "\t<dt>WRIST</dt>\n",
       "\t\t<dd>3.36978046580543</dd>\n",
       "</dl>\n"
      ],
      "text/latex": [
       "\\begin{description*}\n",
       "\\item[AGE] 2.32750371892349\n",
       "\\item[WEIGHT] 270.289517889352\n",
       "\\item[HEIGHT] 65.3423016336165\n",
       "\\item[ADIPOSITY] 208.033429144898\n",
       "\\item[NECK] 3.9113294347471\n",
       "\\item[CHEST] 11.1346506290439\n",
       "\\item[ABDOMEN] 11.9989066327863\n",
       "\\item[HIP] 12.4465743079004\n",
       "\\item[THIGH] 7.43678508394777\n",
       "\\item[KNEE] 4.61064940352154\n",
       "\\item[ANKLE] 2.27430495447939\n",
       "\\item[BICEPS] 3.4070110574945\n",
       "\\item[FOREARM] 2.45229552741885\n",
       "\\item[WRIST] 3.36978046580543\n",
       "\\end{description*}\n"
      ],
      "text/markdown": [
       "AGE\n",
       ":   2.32750371892349WEIGHT\n",
       ":   270.289517889352HEIGHT\n",
       ":   65.3423016336165ADIPOSITY\n",
       ":   208.033429144898NECK\n",
       ":   3.9113294347471CHEST\n",
       ":   11.1346506290439ABDOMEN\n",
       ":   11.9989066327863HIP\n",
       ":   12.4465743079004THIGH\n",
       ":   7.43678508394777KNEE\n",
       ":   4.61064940352154ANKLE\n",
       ":   2.27430495447939BICEPS\n",
       ":   3.4070110574945FOREARM\n",
       ":   2.45229552741885WRIST\n",
       ":   3.36978046580543\n",
       "\n"
      ],
      "text/plain": [
       "       AGE     WEIGHT     HEIGHT  ADIPOSITY       NECK      CHEST    ABDOMEN \n",
       "  2.327504 270.289518  65.342302 208.033429   3.911329  11.134651  11.998907 \n",
       "       HIP      THIGH       KNEE      ANKLE     BICEPS    FOREARM      WRIST \n",
       " 12.446574   7.436785   4.610649   2.274305   3.407011   2.452296   3.369780 "
      ]
     },
     "metadata": {},
     "output_type": "display_data"
    }
   ],
   "source": [
    "library(car)\n",
    "bodyfat_new = bodyfat_new[,-1]\n",
    "head(bodyfat_new)\n",
    "model.new=lm(BODYFAT ~ . , data=bodyfat_new[,-2])#delete density and a column represent the order\n",
    "vif(model.new)"
   ]
  },
  {
   "cell_type": "markdown",
   "metadata": {},
   "source": [
    "there is multicollinear"
   ]
  },
  {
   "cell_type": "markdown",
   "metadata": {},
   "source": [
    "# 4.model building\n",
    "## 4.1 use aic and bic in both direction\n",
    "### 4.1.1 AIC"
   ]
  },
  {
   "cell_type": "code",
   "execution_count": 23,
   "metadata": {
    "scrolled": true
   },
   "outputs": [
    {
     "name": "stdout",
     "output_type": "stream",
     "text": [
      "Start:  AIC=687.7\n",
      "BODYFAT ~ AGE + WEIGHT + HEIGHT + ADIPOSITY + NECK + CHEST + \n",
      "    ABDOMEN + HIP + THIGH + KNEE + ANKLE + BICEPS + FOREARM + \n",
      "    WRIST\n",
      "\n",
      "            Df Sum of Sq    RSS    AIC\n",
      "- ANKLE      1      2.18 3519.5 685.85\n",
      "- KNEE       1      2.50 3519.8 685.88\n",
      "- BICEPS     1     15.41 3532.7 686.79\n",
      "- CHEST      1     17.17 3534.5 686.91\n",
      "- HEIGHT     1     20.84 3538.1 687.17\n",
      "- FOREARM    1     26.14 3543.4 687.54\n",
      "- ADIPOSITY  1     27.88 3545.2 687.66\n",
      "<none>                   3517.3 687.70\n",
      "- HIP        1     29.44 3546.7 687.77\n",
      "- THIGH      1     30.37 3547.7 687.83\n",
      "- WEIGHT     1     36.35 3553.7 688.25\n",
      "- NECK       1     41.77 3559.1 688.63\n",
      "- AGE        1     48.07 3565.4 689.07\n",
      "- WRIST      1    135.06 3652.4 695.05\n",
      "- ABDOMEN    1   1441.75 4959.1 770.89\n",
      "\n",
      "Step:  AIC=685.85\n",
      "BODYFAT ~ AGE + WEIGHT + HEIGHT + ADIPOSITY + NECK + CHEST + \n",
      "    ABDOMEN + HIP + THIGH + KNEE + BICEPS + FOREARM + WRIST\n",
      "\n",
      "            Df Sum of Sq    RSS    AIC\n",
      "- KNEE       1      1.64 3521.1 683.97\n",
      "- BICEPS     1     16.67 3536.2 685.03\n",
      "- CHEST      1     16.70 3536.2 685.03\n",
      "- HEIGHT     1     20.13 3539.6 685.27\n",
      "- FOREARM    1     26.37 3545.9 685.71\n",
      "- ADIPOSITY  1     26.88 3546.4 685.74\n",
      "- HIP        1     28.13 3547.6 685.83\n",
      "<none>                   3519.5 685.85\n",
      "- THIGH      1     30.18 3549.7 685.97\n",
      "- WEIGHT     1     36.45 3555.9 686.41\n",
      "- NECK       1     40.24 3559.7 686.67\n",
      "- AGE        1     53.64 3573.1 687.61\n",
      "+ ANKLE      1      2.18 3517.3 687.70\n",
      "- WRIST      1    157.25 3676.7 694.69\n",
      "- ABDOMEN    1   1472.84 4992.3 770.55\n",
      "\n",
      "Step:  AIC=683.97\n",
      "BODYFAT ~ AGE + WEIGHT + HEIGHT + ADIPOSITY + NECK + CHEST + \n",
      "    ABDOMEN + HIP + THIGH + BICEPS + FOREARM + WRIST\n",
      "\n",
      "            Df Sum of Sq    RSS    AIC\n",
      "- BICEPS     1     16.11 3537.2 683.10\n",
      "- CHEST      1     17.41 3538.5 683.19\n",
      "- HEIGHT     1     19.75 3540.9 683.36\n",
      "- ADIPOSITY  1     26.14 3547.3 683.80\n",
      "- FOREARM    1     27.03 3548.1 683.87\n",
      "- HIP        1     27.14 3548.3 683.87\n",
      "<none>                   3521.1 683.97\n",
      "- WEIGHT     1     35.03 3556.1 684.43\n",
      "- THIGH      1     36.04 3557.2 684.50\n",
      "- NECK       1     42.89 3564.0 684.97\n",
      "+ KNEE       1      1.64 3519.5 685.85\n",
      "+ ANKLE      1      1.32 3519.8 685.88\n",
      "- AGE        1     60.93 3582.0 686.22\n",
      "- WRIST      1    155.61 3676.7 692.69\n",
      "- ABDOMEN    1   1471.27 4992.4 768.56\n",
      "\n",
      "Step:  AIC=683.1\n",
      "BODYFAT ~ AGE + WEIGHT + HEIGHT + ADIPOSITY + NECK + CHEST + \n",
      "    ABDOMEN + HIP + THIGH + FOREARM + WRIST\n",
      "\n",
      "            Df Sum of Sq    RSS    AIC\n",
      "- CHEST      1     15.72 3553.0 682.20\n",
      "- HEIGHT     1     18.42 3555.6 682.39\n",
      "- ADIPOSITY  1     25.64 3562.9 682.89\n",
      "<none>                   3537.2 683.10\n",
      "- HIP        1     31.15 3568.4 683.28\n",
      "- WEIGHT     1     31.46 3568.7 683.30\n",
      "- NECK       1     39.18 3576.4 683.83\n",
      "+ BICEPS     1     16.11 3521.1 683.97\n",
      "- FOREARM    1     43.00 3580.2 684.10\n",
      "- THIGH      1     50.68 3587.9 684.63\n",
      "+ ANKLE      1      2.45 3534.8 684.93\n",
      "+ KNEE       1      1.08 3536.2 685.03\n",
      "- AGE        1     64.75 3602.0 685.60\n",
      "- WRIST      1    153.61 3690.8 691.65\n",
      "- ABDOMEN    1   1456.38 4993.6 766.62\n",
      "\n",
      "Step:  AIC=682.2\n",
      "BODYFAT ~ AGE + WEIGHT + HEIGHT + ADIPOSITY + NECK + ABDOMEN + \n",
      "    HIP + THIGH + FOREARM + WRIST\n",
      "\n",
      "            Df Sum of Sq    RSS    AIC\n",
      "- HEIGHT     1     16.36 3569.3 681.34\n",
      "- ADIPOSITY  1     19.50 3572.5 681.56\n",
      "- HIP        1     24.02 3577.0 681.87\n",
      "<none>                   3553.0 682.20\n",
      "- WEIGHT     1     35.29 3588.2 682.65\n",
      "- NECK       1     40.91 3593.9 683.04\n",
      "+ CHEST      1     15.72 3537.2 683.10\n",
      "+ BICEPS     1     14.43 3538.5 683.19\n",
      "- FOREARM    1     45.04 3598.0 683.33\n",
      "+ ANKLE      1      1.76 3551.2 684.08\n",
      "+ KNEE       1      1.66 3551.3 684.09\n",
      "- AGE        1     60.15 3613.1 684.37\n",
      "- THIGH      1     75.13 3628.1 685.39\n",
      "- WRIST      1    143.62 3696.6 690.03\n",
      "- ABDOMEN    1   1450.52 5003.5 765.11\n",
      "\n",
      "Step:  AIC=681.34\n",
      "BODYFAT ~ AGE + WEIGHT + ADIPOSITY + NECK + ABDOMEN + HIP + THIGH + \n",
      "    FOREARM + WRIST\n",
      "\n",
      "            Df Sum of Sq    RSS    AIC\n",
      "- ADIPOSITY  1      4.96 3574.3 679.69\n",
      "- HIP        1     18.18 3587.5 680.60\n",
      "<none>                   3569.3 681.34\n",
      "+ HEIGHT     1     16.36 3553.0 682.20\n",
      "- NECK       1     43.45 3612.8 682.34\n",
      "+ CHEST      1     13.67 3555.6 682.39\n",
      "+ BICEPS     1     13.34 3556.0 682.41\n",
      "- FOREARM    1     49.20 3618.5 682.74\n",
      "- AGE        1     55.17 3624.5 683.15\n",
      "+ KNEE       1      1.30 3568.0 683.25\n",
      "+ ANKLE      1      1.27 3568.0 683.25\n",
      "- WEIGHT     1     64.26 3633.6 683.77\n",
      "- THIGH      1     68.17 3637.5 684.03\n",
      "- WRIST      1    137.14 3706.5 688.69\n",
      "- ABDOMEN    1   1486.38 5055.7 765.68\n",
      "\n",
      "Step:  AIC=679.69\n",
      "BODYFAT ~ AGE + WEIGHT + NECK + ABDOMEN + HIP + THIGH + FOREARM + \n",
      "    WRIST\n",
      "\n",
      "            Df Sum of Sq    RSS    AIC\n",
      "- HIP        1     16.41 3590.7 678.82\n",
      "<none>                   3574.3 679.69\n",
      "- NECK       1     39.95 3614.2 680.44\n",
      "+ BICEPS     1     15.61 3558.7 680.60\n",
      "+ ADIPOSITY  1      4.96 3569.3 681.34\n",
      "+ CHEST      1      4.21 3570.1 681.39\n",
      "- AGE        1     55.27 3629.5 681.49\n",
      "+ HEIGHT     1      1.82 3572.5 681.56\n",
      "+ ANKLE      1      1.26 3573.0 681.60\n",
      "+ KNEE       1      0.46 3573.8 681.65\n",
      "- FOREARM    1     58.65 3632.9 681.72\n",
      "- WEIGHT     1     68.88 3643.1 682.42\n",
      "- THIGH      1     81.72 3656.0 683.29\n",
      "- WRIST      1    135.58 3709.8 686.92\n",
      "- ABDOMEN    1   2311.47 5885.7 801.38\n",
      "\n",
      "Step:  AIC=678.82\n",
      "BODYFAT ~ AGE + WEIGHT + NECK + ABDOMEN + THIGH + FOREARM + WRIST\n",
      "\n",
      "            Df Sum of Sq    RSS    AIC\n",
      "<none>                   3590.7 678.82\n",
      "- NECK       1     30.54 3621.2 678.92\n",
      "+ BICEPS     1     18.49 3572.2 679.54\n",
      "+ HIP        1     16.41 3574.3 679.69\n",
      "+ ADIPOSITY  1      3.19 3587.5 680.60\n",
      "+ CHEST      1      2.53 3588.2 680.65\n",
      "+ HEIGHT     1      1.15 3589.5 680.74\n",
      "+ ANKLE      1      0.84 3589.8 680.76\n",
      "+ KNEE       1      0.12 3590.6 680.81\n",
      "- AGE        1     58.83 3649.5 680.85\n",
      "- FOREARM    1     63.43 3654.1 681.16\n",
      "- THIGH      1     65.30 3656.0 681.29\n",
      "- WRIST      1    136.89 3727.6 686.10\n",
      "- WEIGHT     1    137.66 3728.4 686.15\n",
      "- ABDOMEN    1   2373.70 5964.4 802.67\n"
     ]
    },
    {
     "data": {
      "text/plain": [
       "\n",
       "Call:\n",
       "lm(formula = BODYFAT ~ AGE + WEIGHT + NECK + ABDOMEN + THIGH + \n",
       "    FOREARM + WRIST, data = bodyfat_new[, -2])\n",
       "\n",
       "Residuals:\n",
       "    Min      1Q  Median      3Q     Max \n",
       "-9.7548 -2.7357 -0.2139  2.5880  9.1947 \n",
       "\n",
       "Coefficients:\n",
       "             Estimate Std. Error t value Pr(>|t|)    \n",
       "(Intercept) -29.34632    8.35033  -3.514 0.000527 ***\n",
       "AGE           0.05600    0.02824   1.983 0.048508 *  \n",
       "WEIGHT       -0.09934    0.03275  -3.033 0.002684 ** \n",
       "NECK         -0.28842    0.20186  -1.429 0.154355    \n",
       "ABDOMEN       0.82771    0.06571  12.596  < 2e-16 ***\n",
       "THIGH         0.22148    0.10601   2.089 0.037741 *  \n",
       "FOREARM       0.36674    0.17812   2.059 0.040572 *  \n",
       "WRIST        -1.41215    0.46685  -3.025 0.002758 ** \n",
       "---\n",
       "Signif. codes:  0 '***' 0.001 '**' 0.01 '*' 0.05 '.' 0.1 ' ' 1\n",
       "\n",
       "Residual standard error: 3.868 on 240 degrees of freedom\n",
       "Multiple R-squared:  0.737,\tAdjusted R-squared:  0.7294 \n",
       "F-statistic: 96.09 on 7 and 240 DF,  p-value: < 2.2e-16\n"
      ]
     },
     "metadata": {},
     "output_type": "display_data"
    }
   ],
   "source": [
    "model.aic.both=step(model.new,direction = \"both\",k=2)\n",
    "summary(model.aic.both)"
   ]
  },
  {
   "cell_type": "markdown",
   "metadata": {},
   "source": [
    "### 4.1.2 BIC"
   ]
  },
  {
   "cell_type": "code",
   "execution_count": 24,
   "metadata": {},
   "outputs": [
    {
     "name": "stdout",
     "output_type": "stream",
     "text": [
      "Start:  AIC=740.4\n",
      "BODYFAT ~ AGE + WEIGHT + HEIGHT + ADIPOSITY + NECK + CHEST + \n",
      "    ABDOMEN + HIP + THIGH + KNEE + ANKLE + BICEPS + FOREARM + \n",
      "    WRIST\n",
      "\n",
      "            Df Sum of Sq    RSS    AIC\n",
      "- ANKLE      1      2.18 3519.5 735.04\n",
      "- KNEE       1      2.50 3519.8 735.07\n",
      "- BICEPS     1     15.41 3532.7 735.97\n",
      "- CHEST      1     17.17 3534.5 736.10\n",
      "- HEIGHT     1     20.84 3538.1 736.35\n",
      "- FOREARM    1     26.14 3543.4 736.73\n",
      "- ADIPOSITY  1     27.88 3545.2 736.85\n",
      "- HIP        1     29.44 3546.7 736.96\n",
      "- THIGH      1     30.37 3547.7 737.02\n",
      "- WEIGHT     1     36.35 3553.7 737.44\n",
      "- NECK       1     41.77 3559.1 737.82\n",
      "- AGE        1     48.07 3565.4 738.26\n",
      "<none>                   3517.3 740.40\n",
      "- WRIST      1    135.06 3652.4 744.23\n",
      "- ABDOMEN    1   1441.75 4959.1 820.08\n",
      "\n",
      "Step:  AIC=735.04\n",
      "BODYFAT ~ AGE + WEIGHT + HEIGHT + ADIPOSITY + NECK + CHEST + \n",
      "    ABDOMEN + HIP + THIGH + KNEE + BICEPS + FOREARM + WRIST\n",
      "\n",
      "            Df Sum of Sq    RSS    AIC\n",
      "- KNEE       1      1.64 3521.1 729.64\n",
      "- BICEPS     1     16.67 3536.2 730.70\n",
      "- CHEST      1     16.70 3536.2 730.70\n",
      "- HEIGHT     1     20.13 3539.6 730.94\n",
      "- FOREARM    1     26.37 3545.9 731.38\n",
      "- ADIPOSITY  1     26.88 3546.4 731.42\n",
      "- HIP        1     28.13 3547.6 731.50\n",
      "- THIGH      1     30.18 3549.7 731.65\n",
      "- WEIGHT     1     36.45 3555.9 732.08\n",
      "- NECK       1     40.24 3559.7 732.35\n",
      "- AGE        1     53.64 3573.1 733.28\n",
      "<none>                   3519.5 735.04\n",
      "- WRIST      1    157.25 3676.7 740.37\n",
      "+ ANKLE      1      2.18 3517.3 740.40\n",
      "- ABDOMEN    1   1472.84 4992.3 816.23\n",
      "\n",
      "Step:  AIC=729.64\n",
      "BODYFAT ~ AGE + WEIGHT + HEIGHT + ADIPOSITY + NECK + CHEST + \n",
      "    ABDOMEN + HIP + THIGH + BICEPS + FOREARM + WRIST\n",
      "\n",
      "            Df Sum of Sq    RSS    AIC\n",
      "- BICEPS     1     16.11 3537.2 725.26\n",
      "- CHEST      1     17.41 3538.5 725.35\n",
      "- HEIGHT     1     19.75 3540.9 725.52\n",
      "- ADIPOSITY  1     26.14 3547.3 725.97\n",
      "- FOREARM    1     27.03 3548.1 726.03\n",
      "- HIP        1     27.14 3548.3 726.04\n",
      "- WEIGHT     1     35.03 3556.1 726.59\n",
      "- THIGH      1     36.04 3557.2 726.66\n",
      "- NECK       1     42.89 3564.0 727.13\n",
      "- AGE        1     60.93 3582.0 728.39\n",
      "<none>                   3521.1 729.64\n",
      "- WRIST      1    155.61 3676.7 734.86\n",
      "+ KNEE       1      1.64 3519.5 735.04\n",
      "+ ANKLE      1      1.32 3519.8 735.07\n",
      "- ABDOMEN    1   1471.27 4992.4 810.72\n",
      "\n",
      "Step:  AIC=725.26\n",
      "BODYFAT ~ AGE + WEIGHT + HEIGHT + ADIPOSITY + NECK + CHEST + \n",
      "    ABDOMEN + HIP + THIGH + FOREARM + WRIST\n",
      "\n",
      "            Df Sum of Sq    RSS    AIC\n",
      "- CHEST      1     15.72 3553.0 720.85\n",
      "- HEIGHT     1     18.42 3555.6 721.04\n",
      "- ADIPOSITY  1     25.64 3562.9 721.54\n",
      "- HIP        1     31.15 3568.4 721.92\n",
      "- WEIGHT     1     31.46 3568.7 721.95\n",
      "- NECK       1     39.18 3576.4 722.48\n",
      "- FOREARM    1     43.00 3580.2 722.75\n",
      "- THIGH      1     50.68 3587.9 723.28\n",
      "- AGE        1     64.75 3602.0 724.25\n",
      "<none>                   3537.2 725.26\n",
      "+ BICEPS     1     16.11 3521.1 729.64\n",
      "- WRIST      1    153.61 3690.8 730.29\n",
      "+ ANKLE      1      2.45 3534.8 730.61\n",
      "+ KNEE       1      1.08 3536.2 730.70\n",
      "- ABDOMEN    1   1456.38 4993.6 805.26\n",
      "\n",
      "Step:  AIC=720.85\n",
      "BODYFAT ~ AGE + WEIGHT + HEIGHT + ADIPOSITY + NECK + ABDOMEN + \n",
      "    HIP + THIGH + FOREARM + WRIST\n",
      "\n",
      "            Df Sum of Sq    RSS    AIC\n",
      "- HEIGHT     1     16.36 3569.3 716.48\n",
      "- ADIPOSITY  1     19.50 3572.5 716.69\n",
      "- HIP        1     24.02 3577.0 717.01\n",
      "- WEIGHT     1     35.29 3588.2 717.79\n",
      "- NECK       1     40.91 3593.9 718.18\n",
      "- FOREARM    1     45.04 3598.0 718.46\n",
      "- AGE        1     60.15 3613.1 719.50\n",
      "- THIGH      1     75.13 3628.1 720.53\n",
      "<none>                   3553.0 720.85\n",
      "- WRIST      1    143.62 3696.6 725.16\n",
      "+ CHEST      1     15.72 3537.2 725.26\n",
      "+ BICEPS     1     14.43 3538.5 725.35\n",
      "+ ANKLE      1      1.76 3551.2 726.24\n",
      "+ KNEE       1      1.66 3551.3 726.25\n",
      "- ABDOMEN    1   1450.52 5003.5 800.24\n",
      "\n",
      "Step:  AIC=716.48\n",
      "BODYFAT ~ AGE + WEIGHT + ADIPOSITY + NECK + ABDOMEN + HIP + THIGH + \n",
      "    FOREARM + WRIST\n",
      "\n",
      "            Df Sum of Sq    RSS    AIC\n",
      "- ADIPOSITY  1      4.96 3574.3 711.31\n",
      "- HIP        1     18.18 3587.5 712.22\n",
      "- NECK       1     43.45 3612.8 713.96\n",
      "- FOREARM    1     49.20 3618.5 714.36\n",
      "- AGE        1     55.17 3624.5 714.77\n",
      "- WEIGHT     1     64.26 3633.6 715.39\n",
      "- THIGH      1     68.17 3637.5 715.65\n",
      "<none>                   3569.3 716.48\n",
      "- WRIST      1    137.14 3706.5 720.31\n",
      "+ HEIGHT     1     16.36 3553.0 720.85\n",
      "+ CHEST      1     13.67 3555.6 721.04\n",
      "+ BICEPS     1     13.34 3556.0 721.06\n",
      "+ KNEE       1      1.30 3568.0 721.90\n",
      "+ ANKLE      1      1.27 3568.0 721.90\n",
      "- ABDOMEN    1   1486.38 5055.7 797.30\n",
      "\n",
      "Step:  AIC=711.31\n",
      "BODYFAT ~ AGE + WEIGHT + NECK + ABDOMEN + HIP + THIGH + FOREARM + \n",
      "    WRIST\n",
      "\n",
      "            Df Sum of Sq    RSS    AIC\n",
      "- HIP        1     16.41 3590.7 706.93\n",
      "- NECK       1     39.95 3614.2 708.55\n",
      "- AGE        1     55.27 3629.5 709.60\n",
      "- FOREARM    1     58.65 3632.9 709.83\n",
      "- WEIGHT     1     68.88 3643.1 710.53\n",
      "<none>                   3574.3 711.31\n",
      "- THIGH      1     81.72 3656.0 711.40\n",
      "- WRIST      1    135.58 3709.8 715.03\n",
      "+ BICEPS     1     15.61 3558.7 715.73\n",
      "+ ADIPOSITY  1      4.96 3569.3 716.48\n",
      "+ CHEST      1      4.21 3570.1 716.53\n",
      "+ HEIGHT     1      1.82 3572.5 716.69\n",
      "+ ANKLE      1      1.26 3573.0 716.73\n",
      "+ KNEE       1      0.46 3573.8 716.79\n",
      "- ABDOMEN    1   2311.47 5885.7 829.49\n",
      "\n",
      "Step:  AIC=706.93\n",
      "BODYFAT ~ AGE + WEIGHT + NECK + ABDOMEN + THIGH + FOREARM + WRIST\n",
      "\n",
      "            Df Sum of Sq    RSS    AIC\n",
      "- NECK       1     30.54 3621.2 703.52\n",
      "- AGE        1     58.83 3649.5 705.45\n",
      "- FOREARM    1     63.43 3654.1 705.76\n",
      "- THIGH      1     65.30 3656.0 705.89\n",
      "<none>                   3590.7 706.93\n",
      "- WRIST      1    136.89 3727.6 710.70\n",
      "- WEIGHT     1    137.66 3728.4 710.75\n",
      "+ BICEPS     1     18.49 3572.2 711.16\n",
      "+ HIP        1     16.41 3574.3 711.31\n",
      "+ ADIPOSITY  1      3.19 3587.5 712.22\n",
      "+ CHEST      1      2.53 3588.2 712.27\n",
      "+ HEIGHT     1      1.15 3589.5 712.36\n",
      "+ ANKLE      1      0.84 3589.8 712.38\n",
      "+ KNEE       1      0.12 3590.6 712.44\n",
      "- ABDOMEN    1   2373.70 5964.4 827.27\n",
      "\n",
      "Step:  AIC=703.52\n",
      "BODYFAT ~ AGE + WEIGHT + ABDOMEN + THIGH + FOREARM + WRIST\n",
      "\n",
      "            Df Sum of Sq    RSS    AIC\n",
      "- FOREARM    1     47.55 3668.8 701.24\n",
      "- AGE        1     51.54 3672.8 701.51\n",
      "- THIGH      1     64.37 3685.6 702.37\n",
      "<none>                   3621.2 703.52\n",
      "+ NECK       1     30.54 3590.7 706.93\n",
      "+ BICEPS     1     12.66 3608.6 708.16\n",
      "+ HIP        1      7.01 3614.2 708.55\n",
      "+ CHEST      1      5.40 3615.8 708.66\n",
      "+ KNEE       1      1.76 3619.5 708.91\n",
      "+ ADIPOSITY  1      1.04 3620.2 708.96\n",
      "+ HEIGHT     1      0.05 3621.2 709.03\n",
      "+ ANKLE      1      0.03 3621.2 709.03\n",
      "- WEIGHT     1    177.46 3798.7 709.87\n",
      "- WRIST      1    187.91 3809.1 710.55\n",
      "- ABDOMEN    1   2352.64 5973.9 822.15\n",
      "\n",
      "Step:  AIC=701.24\n",
      "BODYFAT ~ AGE + WEIGHT + ABDOMEN + THIGH + WRIST\n",
      "\n",
      "            Df Sum of Sq    RSS    AIC\n",
      "- AGE        1     45.09 3713.9 698.76\n",
      "- THIGH      1     69.63 3738.4 700.39\n",
      "<none>                   3668.8 701.24\n",
      "+ FOREARM    1     47.55 3621.2 703.52\n",
      "+ BICEPS     1     32.30 3636.5 704.56\n",
      "- WEIGHT     1    143.66 3812.4 705.25\n",
      "+ NECK       1     14.67 3654.1 705.76\n",
      "+ HIP        1     12.12 3656.7 705.93\n",
      "- WRIST      1    157.44 3826.2 706.15\n",
      "+ ADIPOSITY  1      6.86 3661.9 706.29\n",
      "+ HEIGHT     1      3.10 3665.7 706.54\n",
      "+ CHEST      1      2.18 3666.6 706.61\n",
      "+ KNEE       1      0.83 3668.0 706.70\n",
      "+ ANKLE      1      0.31 3668.5 706.73\n",
      "- ABDOMEN    1   2310.18 5979.0 816.85\n",
      "\n",
      "Step:  AIC=698.76\n",
      "BODYFAT ~ WEIGHT + ABDOMEN + THIGH + WRIST\n",
      "\n",
      "            Df Sum of Sq    RSS    AIC\n",
      "- THIGH      1      39.1 3752.9 695.84\n",
      "<none>                   3713.9 698.76\n",
      "- WRIST      1     115.8 3829.7 700.86\n",
      "+ AGE        1      45.1 3668.8 701.24\n",
      "+ FOREARM    1      41.1 3672.8 701.51\n",
      "+ BICEPS     1      36.3 3677.5 701.83\n",
      "+ HIP        1      15.4 3698.5 703.24\n",
      "+ NECK       1      10.9 3703.0 703.54\n",
      "+ ADIPOSITY  1       6.6 3707.2 703.83\n",
      "+ KNEE       1       4.9 3709.0 703.94\n",
      "+ HEIGHT     1       3.5 3710.4 704.04\n",
      "+ ANKLE      1       2.5 3711.4 704.10\n",
      "+ CHEST      1       0.9 3712.9 704.21\n",
      "- WEIGHT     1     244.1 3958.0 709.03\n",
      "- ABDOMEN    1    4475.0 8188.8 889.33\n",
      "\n",
      "Step:  AIC=695.84\n",
      "BODYFAT ~ WEIGHT + ABDOMEN + WRIST\n",
      "\n",
      "            Df Sum of Sq    RSS    AIC\n",
      "<none>                   3752.9 695.84\n",
      "+ BICEPS     1      55.1 3697.8 697.68\n",
      "+ FOREARM    1      47.3 3705.6 698.20\n",
      "+ THIGH      1      39.1 3713.9 698.76\n",
      "+ ADIPOSITY  1      20.4 3732.5 700.00\n",
      "+ HEIGHT     1      14.6 3738.4 700.38\n",
      "+ AGE        1      14.5 3738.4 700.39\n",
      "+ KNEE       1      13.0 3739.9 700.49\n",
      "+ NECK       1      11.3 3741.6 700.60\n",
      "- WRIST      1     161.5 3914.5 700.77\n",
      "+ CHEST      1       6.5 3746.4 700.92\n",
      "+ ANKLE      1       0.8 3752.1 701.30\n",
      "+ HIP        1       0.2 3752.7 701.34\n",
      "- WEIGHT     1     228.9 3981.8 705.01\n",
      "- ABDOMEN    1    4449.0 8201.9 884.22\n"
     ]
    },
    {
     "data": {
      "text/plain": [
       "\n",
       "Call:\n",
       "lm(formula = BODYFAT ~ WEIGHT + ABDOMEN + WRIST, data = bodyfat_new[, \n",
       "    -2])\n",
       "\n",
       "Residuals:\n",
       "    Min      1Q  Median      3Q     Max \n",
       "-9.0511 -2.9046 -0.3192  2.9739  9.2199 \n",
       "\n",
       "Coefficients:\n",
       "             Estimate Std. Error t value Pr(>|t|)    \n",
       "(Intercept) -23.58136    6.15265  -3.833 0.000161 ***\n",
       "WEIGHT       -0.08617    0.02234  -3.858 0.000146 ***\n",
       "ABDOMEN       0.87932    0.05170  17.007  < 2e-16 ***\n",
       "WRIST        -1.28342    0.39603  -3.241 0.001358 ** \n",
       "---\n",
       "Signif. codes:  0 '***' 0.001 '**' 0.01 '*' 0.05 '.' 0.1 ' ' 1\n",
       "\n",
       "Residual standard error: 3.922 on 244 degrees of freedom\n",
       "Multiple R-squared:  0.7251,\tAdjusted R-squared:  0.7218 \n",
       "F-statistic: 214.6 on 3 and 244 DF,  p-value: < 2.2e-16\n"
      ]
     },
     "metadata": {},
     "output_type": "display_data"
    }
   ],
   "source": [
    "n=nrow(bodyfat_new)\n",
    "model.bic.both=step(model.new,direction = \"both\",k=log(n))\n",
    "summary(model.bic.both)"
   ]
  },
  {
   "cell_type": "markdown",
   "metadata": {},
   "source": [
    " rule of thumb: Good models are those that are within 2 AIC units of the lowest AIC value. Models with more than 10 AIC units above the lowest AIC value are generally not considered.\n",
    "\n",
    "AIC can result in overfitting.\n",
    "\n",
    "AIC and most other criteria do not have measure of variation and thus the rules are generally approximations.\n",
    "\n",
    "Hence choose the model lm(BODYFAT ~ WEIGHT + ABDOMEN + WRIST)\n"
   ]
  },
  {
   "cell_type": "markdown",
   "metadata": {},
   "source": [
    "## 4.2 Cross validation group "
   ]
  },
  {
   "cell_type": "code",
   "execution_count": 28,
   "metadata": {},
   "outputs": [
    {
     "data": {
      "text/plain": [
       "\n",
       "Call:\n",
       "lm(formula = BODYFAT ~ WEIGHT + ABDOMEN + WRIST, data = bodyfat_new)\n",
       "\n",
       "Residuals:\n",
       "    Min      1Q  Median      3Q     Max \n",
       "-9.0511 -2.9046 -0.3192  2.9739  9.2199 \n",
       "\n",
       "Coefficients:\n",
       "             Estimate Std. Error t value Pr(>|t|)    \n",
       "(Intercept) -23.58136    6.15265  -3.833 0.000161 ***\n",
       "WEIGHT       -0.08617    0.02234  -3.858 0.000146 ***\n",
       "ABDOMEN       0.87932    0.05170  17.007  < 2e-16 ***\n",
       "WRIST        -1.28342    0.39603  -3.241 0.001358 ** \n",
       "---\n",
       "Signif. codes:  0 '***' 0.001 '**' 0.01 '*' 0.05 '.' 0.1 ' ' 1\n",
       "\n",
       "Residual standard error: 3.922 on 244 degrees of freedom\n",
       "Multiple R-squared:  0.7251,\tAdjusted R-squared:  0.7218 \n",
       "F-statistic: 214.6 on 3 and 244 DF,  p-value: < 2.2e-16\n"
      ]
     },
     "metadata": {},
     "output_type": "display_data"
    },
    {
     "data": {
      "text/html": [
       "<table>\n",
       "<caption>A anova: 4 × 5</caption>\n",
       "<thead>\n",
       "\t<tr><th></th><th scope=col>Df</th><th scope=col>Sum Sq</th><th scope=col>Mean Sq</th><th scope=col>F value</th><th scope=col>Pr(&gt;F)</th></tr>\n",
       "\t<tr><th></th><th scope=col>&lt;int&gt;</th><th scope=col>&lt;dbl&gt;</th><th scope=col>&lt;dbl&gt;</th><th scope=col>&lt;dbl&gt;</th><th scope=col>&lt;dbl&gt;</th></tr>\n",
       "</thead>\n",
       "<tbody>\n",
       "\t<tr><th scope=row>WEIGHT</th><td>  1</td><td>5080.072</td><td>5080.07194</td><td>330.2852</td><td>2.982743e-47</td></tr>\n",
       "\t<tr><th scope=row>ABDOMEN</th><td>  1</td><td>4659.781</td><td>4659.78150</td><td>302.9596</td><td>1.163295e-44</td></tr>\n",
       "\t<tr><th scope=row>WRIST</th><td>  1</td><td> 161.536</td><td> 161.53596</td><td> 10.5024</td><td>1.358219e-03</td></tr>\n",
       "\t<tr><th scope=row>Residuals</th><td>244</td><td>3752.931</td><td>  15.38087</td><td>      NA</td><td>          NA</td></tr>\n",
       "</tbody>\n",
       "</table>\n"
      ],
      "text/latex": [
       "A anova: 4 × 5\n",
       "\\begin{tabular}{r|lllll}\n",
       "  & Df & Sum Sq & Mean Sq & F value & Pr(>F)\\\\\n",
       "  & <int> & <dbl> & <dbl> & <dbl> & <dbl>\\\\\n",
       "\\hline\n",
       "\tWEIGHT &   1 & 5080.072 & 5080.07194 & 330.2852 & 2.982743e-47\\\\\n",
       "\tABDOMEN &   1 & 4659.781 & 4659.78150 & 302.9596 & 1.163295e-44\\\\\n",
       "\tWRIST &   1 &  161.536 &  161.53596 &  10.5024 & 1.358219e-03\\\\\n",
       "\tResiduals & 244 & 3752.931 &   15.38087 &       NA &           NA\\\\\n",
       "\\end{tabular}\n"
      ],
      "text/markdown": [
       "\n",
       "A anova: 4 × 5\n",
       "\n",
       "| <!--/--> | Df &lt;int&gt; | Sum Sq &lt;dbl&gt; | Mean Sq &lt;dbl&gt; | F value &lt;dbl&gt; | Pr(&gt;F) &lt;dbl&gt; |\n",
       "|---|---|---|---|---|---|\n",
       "| WEIGHT |   1 | 5080.072 | 5080.07194 | 330.2852 | 2.982743e-47 |\n",
       "| ABDOMEN |   1 | 4659.781 | 4659.78150 | 302.9596 | 1.163295e-44 |\n",
       "| WRIST |   1 |  161.536 |  161.53596 |  10.5024 | 1.358219e-03 |\n",
       "| Residuals | 244 | 3752.931 |   15.38087 |       NA |           NA |\n",
       "\n"
      ],
      "text/plain": [
       "          Df  Sum Sq   Mean Sq    F value  Pr(>F)      \n",
       "WEIGHT      1 5080.072 5080.07194 330.2852 2.982743e-47\n",
       "ABDOMEN     1 4659.781 4659.78150 302.9596 1.163295e-44\n",
       "WRIST       1  161.536  161.53596  10.5024 1.358219e-03\n",
       "Residuals 244 3752.931   15.38087       NA           NA"
      ]
     },
     "metadata": {},
     "output_type": "display_data"
    },
    {
     "data": {
      "text/html": [
       "15.726085404013"
      ],
      "text/latex": [
       "15.726085404013"
      ],
      "text/markdown": [
       "15.726085404013"
      ],
      "text/plain": [
       "[1] 15.72609"
      ]
     },
     "metadata": {},
     "output_type": "display_data"
    }
   ],
   "source": [
    "library(plyr)\n",
    "CVgroup=function(k,Ndata){\n",
    "  cvlist=list()\n",
    "  allseq=rep(1:k,ceiling(Ndata/k))[1:Ndata]   \n",
    "  temp=sample(allseq,Ndata)   \n",
    "  x=1:k\n",
    "  dataseq=1:Ndata\n",
    "  cvlist=lapply(x,function(x) {dataseq[temp==x]})  \n",
    "  return(cvlist)\n",
    "}\n",
    "\n",
    "mygroup=CVgroup(5,nrow(bodyfat_new))\n",
    "\n",
    "\n",
    "#calculate the mean mse after cross validation\n",
    "DoCV=function(k,insertdata,model){\n",
    "  mygroup=CVgroup(k,nrow(insertdata))\n",
    "  datacol=ncol(insertdata)\n",
    "  MSEs=1:k\n",
    "  for(i in 1:5) {\n",
    "    Ntraining = setdiff(1:5, i)\n",
    "    trainingINDEX = numeric()\n",
    "    \n",
    "    for (t in Ntraining) {\n",
    "      trainingINDEX = c(trainingINDEX, unlist(mygroup[[t]]))\n",
    "    }\n",
    "    \n",
    "    testINDEX = mygroup[[i]]\n",
    "    \n",
    "    m = lm(model, data  = insertdata[trainingINDEX, ])\n",
    "    \n",
    "    test_X = insertdata[testINDEX, 2:datacol]\n",
    "    test_Y = insertdata[testINDEX, 1]\n",
    "    \n",
    "    predicted_Y = predict(m, test_X)\n",
    "    MSEs[i] = sum((test_Y - predicted_Y)^2) / length(test_Y)\n",
    "  }\n",
    "  return(mean(MSEs))\n",
    "}\n",
    "\n",
    "#calculate the mse after s times\n",
    "CVMSE=function(insertdata,model,k,s){\n",
    "  sumMES = 0\n",
    "  \n",
    "  for (i in 1:s) {\n",
    "    sumMES = sumMES + DoCV(k,insertdata, model)\n",
    "  }\n",
    "  \n",
    "  return(sumMES / s)\n",
    "}\n",
    "\n",
    "##From the BIC method\n",
    "model.new=lm(BODYFAT~ WEIGHT + ABDOMEN + WRIST,data=bodyfat_new)\n",
    "summary(model.new)# the R^2 is 0.7251\n",
    "anova(model.new)\n",
    "model.bic1=BODYFAT ~ WEIGHT + ABDOMEN + WRIST\n",
    "bic_cv1 = CVMSE(bodyfat_new, model.bic1, 5,100)\n",
    "bic_cv1#15.69449\n"
   ]
  },
  {
   "cell_type": "markdown",
   "metadata": {},
   "source": [
    "Since we want to find the simple and accurate model,and we know that the \n",
    "\n",
    "WRIST doesnot different too much.Just try to delete it."
   ]
  },
  {
   "cell_type": "code",
   "execution_count": 29,
   "metadata": {
    "scrolled": true
   },
   "outputs": [
    {
     "data": {
      "text/plain": [
       "\n",
       "Call:\n",
       "lm(formula = BODYFAT ~ WEIGHT + ABDOMEN, data = bodyfat_new)\n",
       "\n",
       "Residuals:\n",
       "     Min       1Q   Median       3Q      Max \n",
       "-10.0398  -2.9255  -0.0718   2.9003   9.9225 \n",
       "\n",
       "Coefficients:\n",
       "             Estimate Std. Error t value Pr(>|t|)    \n",
       "(Intercept) -41.90074    2.47576 -16.924  < 2e-16 ***\n",
       "WEIGHT       -0.12302    0.01959  -6.279 1.54e-09 ***\n",
       "ABDOMEN       0.89564    0.05244  17.078  < 2e-16 ***\n",
       "---\n",
       "Signif. codes:  0 '***' 0.001 '**' 0.01 '*' 0.05 '.' 0.1 ' ' 1\n",
       "\n",
       "Residual standard error: 3.997 on 245 degrees of freedom\n",
       "Multiple R-squared:  0.7133,\tAdjusted R-squared:  0.711 \n",
       "F-statistic: 304.8 on 2 and 245 DF,  p-value: < 2.2e-16\n"
      ]
     },
     "metadata": {},
     "output_type": "display_data"
    },
    {
     "data": {
      "text/html": [
       "16.2137428324845"
      ],
      "text/latex": [
       "16.2137428324845"
      ],
      "text/markdown": [
       "16.2137428324845"
      ],
      "text/plain": [
       "[1] 16.21374"
      ]
     },
     "metadata": {},
     "output_type": "display_data"
    }
   ],
   "source": [
    "model.new1=lm(BODYFAT~ WEIGHT + ABDOMEN,data=bodyfat_new)\n",
    "summary(model.new1)#the R^2 is 0.7133 compare with the full modle  the R^2 not change much\n",
    "model.bic2=BODYFAT ~ WEIGHT + ABDOMEN\n",
    "bic_cv2 = CVMSE(bodyfat_new, model.bic2, 5,100)\n",
    "bic_cv2#16.20634 # the mse not change too much"
   ]
  },
  {
   "cell_type": "markdown",
   "metadata": {},
   "source": [
    "### What if we only use one variable?"
   ]
  },
  {
   "cell_type": "code",
   "execution_count": 30,
   "metadata": {},
   "outputs": [
    {
     "data": {
      "text/plain": [
       "\n",
       "Call:\n",
       "lm(formula = BODYFAT ~ WEIGHT, data = bodyfat_new)\n",
       "\n",
       "Residuals:\n",
       "     Min       1Q   Median       3Q      Max \n",
       "-16.7117  -4.2050   0.0503   4.5468  17.0993 \n",
       "\n",
       "Coefficients:\n",
       "             Estimate Std. Error t value Pr(>|t|)    \n",
       "(Intercept) -11.40623    2.53291  -4.503 1.03e-05 ***\n",
       "WEIGHT        0.16953    0.01404  12.073  < 2e-16 ***\n",
       "---\n",
       "Signif. codes:  0 '***' 0.001 '**' 0.01 '*' 0.05 '.' 0.1 ' ' 1\n",
       "\n",
       "Residual standard error: 5.904 on 246 degrees of freedom\n",
       "Multiple R-squared:  0.372,\tAdjusted R-squared:  0.3695 \n",
       "F-statistic: 145.8 on 1 and 246 DF,  p-value: < 2.2e-16\n"
      ]
     },
     "metadata": {},
     "output_type": "display_data"
    },
    {
     "data": {
      "text/html": [
       "35.1792980952834"
      ],
      "text/latex": [
       "35.1792980952834"
      ],
      "text/markdown": [
       "35.1792980952834"
      ],
      "text/plain": [
       "[1] 35.1793"
      ]
     },
     "metadata": {},
     "output_type": "display_data"
    }
   ],
   "source": [
    "model.new2=lm(BODYFAT~ WEIGHT,data=bodyfat_new)\n",
    "summary(model.new2)#the R^2 is 0.3721 decrease too much\n",
    "model.bic3=BODYFAT ~ WEIGHT\n",
    "bic_cv3 = CVMSE(bodyfat_new, model.bic3, 5,100)\n",
    "bic_cv3"
   ]
  },
  {
   "cell_type": "code",
   "execution_count": 31,
   "metadata": {},
   "outputs": [
    {
     "data": {
      "text/plain": [
       "\n",
       "Call:\n",
       "lm(formula = BODYFAT ~ ABDOMEN, data = bodyfat_new)\n",
       "\n",
       "Residuals:\n",
       "     Min       1Q   Median       3Q      Max \n",
       "-10.0806  -3.2794   0.1313   2.8879  11.9025 \n",
       "\n",
       "Coefficients:\n",
       "             Estimate Std. Error t value Pr(>|t|)    \n",
       "(Intercept) -37.26486    2.54101  -14.66   <2e-16 ***\n",
       "ABDOMEN       0.60769    0.02737   22.21   <2e-16 ***\n",
       "---\n",
       "Signif. codes:  0 '***' 0.001 '**' 0.01 '*' 0.05 '.' 0.1 ' ' 1\n",
       "\n",
       "Residual standard error: 4.298 on 246 degrees of freedom\n",
       "Multiple R-squared:  0.6672,\tAdjusted R-squared:  0.6658 \n",
       "F-statistic: 493.1 on 1 and 246 DF,  p-value: < 2.2e-16\n"
      ]
     },
     "metadata": {},
     "output_type": "display_data"
    },
    {
     "data": {
      "text/html": [
       "18.6678648344198"
      ],
      "text/latex": [
       "18.6678648344198"
      ],
      "text/markdown": [
       "18.6678648344198"
      ],
      "text/plain": [
       "[1] 18.66786"
      ]
     },
     "metadata": {},
     "output_type": "display_data"
    }
   ],
   "source": [
    "model.new3=lm(BODYFAT~  ABDOMEN ,data=bodyfat_new)\n",
    "summary(model.new3)#the R^2 is 0.6672 \n",
    "model.bic3=BODYFAT ~ ABDOMEN \n",
    "bic_cv4 = CVMSE(bodyfat_new, model.bic3, 5,100)\n",
    "bic_cv4#18.62439\n"
   ]
  },
  {
   "cell_type": "markdown",
   "metadata": {},
   "source": [
    "only one variable seems too easy to get an error"
   ]
  },
  {
   "cell_type": "markdown",
   "metadata": {},
   "source": [
    "## 4.3 check model assumptions "
   ]
  },
  {
   "cell_type": "markdown",
   "metadata": {},
   "source": [
    "### test slope whether is 0"
   ]
  },
  {
   "cell_type": "code",
   "execution_count": 33,
   "metadata": {},
   "outputs": [
    {
     "data": {
      "text/plain": [
       "\n",
       "Call:\n",
       "lm(formula = BODYFAT ~ WEIGHT + ABDOMEN, data = bodyfat_new)\n",
       "\n",
       "Residuals:\n",
       "     Min       1Q   Median       3Q      Max \n",
       "-10.0398  -2.9255  -0.0718   2.9003   9.9225 \n",
       "\n",
       "Coefficients:\n",
       "             Estimate Std. Error t value Pr(>|t|)    \n",
       "(Intercept) -41.90074    2.47576 -16.924  < 2e-16 ***\n",
       "WEIGHT       -0.12302    0.01959  -6.279 1.54e-09 ***\n",
       "ABDOMEN       0.89564    0.05244  17.078  < 2e-16 ***\n",
       "---\n",
       "Signif. codes:  0 '***' 0.001 '**' 0.01 '*' 0.05 '.' 0.1 ' ' 1\n",
       "\n",
       "Residual standard error: 3.997 on 245 degrees of freedom\n",
       "Multiple R-squared:  0.7133,\tAdjusted R-squared:  0.711 \n",
       "F-statistic: 304.8 on 2 and 245 DF,  p-value: < 2.2e-16\n"
      ]
     },
     "metadata": {},
     "output_type": "display_data"
    }
   ],
   "source": [
    "model.new1=lm(BODYFAT~ WEIGHT + ABDOMEN,data=bodyfat_new)\n",
    "summary(model.new1)"
   ]
  },
  {
   "cell_type": "markdown",
   "metadata": {},
   "source": [
    "### standadized residual plot "
   ]
  },
  {
   "cell_type": "code",
   "execution_count": 37,
   "metadata": {},
   "outputs": [
    {
     "data": {
      "image/png": "[encoded data removed]",
      "text/plain": [
       "Plot with title \"\""
      ]
     },
     "metadata": {},
     "output_type": "display_data"
    }
   ],
   "source": [
    "layout(matrix(1:4,nrow = 2))\n",
    "plot(model.new1)"
   ]
  },
  {
   "cell_type": "markdown",
   "metadata": {},
   "source": [
    "### normality"
   ]
  },
  {
   "cell_type": "code",
   "execution_count": 40,
   "metadata": {
    "scrolled": true
   },
   "outputs": [
    {
     "data": {
      "text/plain": [
       "\n",
       "\tShapiro-Wilk normality test\n",
       "\n",
       "data:  model.new1$residuals\n",
       "W = 0.99241, p-value = 0.2336\n"
      ]
     },
     "metadata": {},
     "output_type": "display_data"
    }
   ],
   "source": [
    "shapiro.test(model.new1$residuals)"
   ]
  },
  {
   "cell_type": "markdown",
   "metadata": {},
   "source": [
    "p= 0.2336>0.05 it is normal"
   ]
  },
  {
   "cell_type": "markdown",
   "metadata": {},
   "source": [
    "### collinearity"
   ]
  },
  {
   "cell_type": "code",
   "execution_count": 41,
   "metadata": {},
   "outputs": [
    {
     "data": {
      "text/html": [
       "<dl class=dl-horizontal>\n",
       "\t<dt>WEIGHT</dt>\n",
       "\t\t<dd>4.24661094276956</dd>\n",
       "\t<dt>ABDOMEN</dt>\n",
       "\t\t<dd>4.24661094276956</dd>\n",
       "</dl>\n"
      ],
      "text/latex": [
       "\\begin{description*}\n",
       "\\item[WEIGHT] 4.24661094276956\n",
       "\\item[ABDOMEN] 4.24661094276956\n",
       "\\end{description*}\n"
      ],
      "text/markdown": [
       "WEIGHT\n",
       ":   4.24661094276956ABDOMEN\n",
       ":   4.24661094276956\n",
       "\n"
      ],
      "text/plain": [
       "  WEIGHT  ABDOMEN \n",
       "4.246611 4.246611 "
      ]
     },
     "metadata": {},
     "output_type": "display_data"
    }
   ],
   "source": [
    "vif(model.new1)"
   ]
  },
  {
   "cell_type": "markdown",
   "metadata": {},
   "source": [
    " both <10 no collinearity problem"
   ]
  },
  {
   "cell_type": "code",
   "execution_count": null,
   "metadata": {},
   "outputs": [],
   "source": []
  }
 ],
 "metadata": {
  "kernelspec": {
   "display_name": "R",
   "language": "R",
   "name": "ir"
  },
  "language_info": {
   "codemirror_mode": "r",
   "file_extension": ".r",
   "mimetype": "text/x-r-source",
   "name": "R",
   "pygments_lexer": "r",
   "version": "3.6.1"
  }
 },
 "nbformat": 4,
 "nbformat_minor": 2
}
