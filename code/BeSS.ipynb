{
 "cells": [
  {
   "cell_type": "code",
   "execution_count": 22,
   "metadata": {},
   "outputs": [
    {
     "data": {
      "text/html": [
       "<table>\n",
       "<caption>A matrix: 6 × 16 of type dbl</caption>\n",
       "<thead>\n",
       "\t<tr><th scope=col>BODYFAT</th><th scope=col>DENSITY</th><th scope=col>AGE</th><th scope=col>WEIGHT</th><th scope=col>HEIGHT</th><th scope=col>ADIPOSITY</th><th scope=col>NECK</th><th scope=col>CHEST</th><th scope=col>ABDOMEN</th><th scope=col>HIP</th><th scope=col>THIGH</th><th scope=col>KNEE</th><th scope=col>ANKLE</th><th scope=col>BICEPS</th><th scope=col>FOREARM</th><th scope=col>WRIST</th></tr>\n",
       "</thead>\n",
       "<tbody>\n",
       "\t<tr><td>12.6</td><td>1.0708</td><td>23</td><td>154.25</td><td>67.75</td><td>23.7</td><td>36.2</td><td> 93.1</td><td> 85.2</td><td> 94.5</td><td>59.0</td><td>37.3</td><td>21.9</td><td>32.0</td><td>27.4</td><td>17.1</td></tr>\n",
       "\t<tr><td> 6.9</td><td>1.0853</td><td>22</td><td>173.25</td><td>72.25</td><td>23.4</td><td>38.5</td><td> 93.6</td><td> 83.0</td><td> 98.7</td><td>58.7</td><td>37.3</td><td>23.4</td><td>30.5</td><td>28.9</td><td>18.2</td></tr>\n",
       "\t<tr><td>24.6</td><td>1.0414</td><td>22</td><td>154.00</td><td>66.25</td><td>24.7</td><td>34.0</td><td> 95.8</td><td> 87.9</td><td> 99.2</td><td>59.6</td><td>38.9</td><td>24.0</td><td>28.8</td><td>25.2</td><td>16.6</td></tr>\n",
       "\t<tr><td>10.9</td><td>1.0751</td><td>26</td><td>184.75</td><td>72.25</td><td>24.9</td><td>37.4</td><td>101.8</td><td> 86.4</td><td>101.2</td><td>60.1</td><td>37.3</td><td>22.8</td><td>32.4</td><td>29.4</td><td>18.2</td></tr>\n",
       "\t<tr><td>27.8</td><td>1.0340</td><td>24</td><td>184.25</td><td>71.25</td><td>25.6</td><td>34.4</td><td> 97.3</td><td>100.0</td><td>101.9</td><td>63.2</td><td>42.2</td><td>24.0</td><td>32.2</td><td>27.7</td><td>17.7</td></tr>\n",
       "\t<tr><td>20.6</td><td>1.0502</td><td>24</td><td>210.25</td><td>74.75</td><td>26.5</td><td>39.0</td><td>104.5</td><td> 94.4</td><td>107.8</td><td>66.0</td><td>42.0</td><td>25.6</td><td>35.7</td><td>30.6</td><td>18.8</td></tr>\n",
       "</tbody>\n",
       "</table>\n"
      ],
      "text/latex": [
       "A matrix: 6 × 16 of type dbl\n",
       "\\begin{tabular}{llllllllllllllll}\n",
       " BODYFAT & DENSITY & AGE & WEIGHT & HEIGHT & ADIPOSITY & NECK & CHEST & ABDOMEN & HIP & THIGH & KNEE & ANKLE & BICEPS & FOREARM & WRIST\\\\\n",
       "\\hline\n",
       "\t 12.6 & 1.0708 & 23 & 154.25 & 67.75 & 23.7 & 36.2 &  93.1 &  85.2 &  94.5 & 59.0 & 37.3 & 21.9 & 32.0 & 27.4 & 17.1\\\\\n",
       "\t  6.9 & 1.0853 & 22 & 173.25 & 72.25 & 23.4 & 38.5 &  93.6 &  83.0 &  98.7 & 58.7 & 37.3 & 23.4 & 30.5 & 28.9 & 18.2\\\\\n",
       "\t 24.6 & 1.0414 & 22 & 154.00 & 66.25 & 24.7 & 34.0 &  95.8 &  87.9 &  99.2 & 59.6 & 38.9 & 24.0 & 28.8 & 25.2 & 16.6\\\\\n",
       "\t 10.9 & 1.0751 & 26 & 184.75 & 72.25 & 24.9 & 37.4 & 101.8 &  86.4 & 101.2 & 60.1 & 37.3 & 22.8 & 32.4 & 29.4 & 18.2\\\\\n",
       "\t 27.8 & 1.0340 & 24 & 184.25 & 71.25 & 25.6 & 34.4 &  97.3 & 100.0 & 101.9 & 63.2 & 42.2 & 24.0 & 32.2 & 27.7 & 17.7\\\\\n",
       "\t 20.6 & 1.0502 & 24 & 210.25 & 74.75 & 26.5 & 39.0 & 104.5 &  94.4 & 107.8 & 66.0 & 42.0 & 25.6 & 35.7 & 30.6 & 18.8\\\\\n",
       "\\end{tabular}\n"
      ],
      "text/markdown": [
       "\n",
       "A matrix: 6 × 16 of type dbl\n",
       "\n",
       "| BODYFAT | DENSITY | AGE | WEIGHT | HEIGHT | ADIPOSITY | NECK | CHEST | ABDOMEN | HIP | THIGH | KNEE | ANKLE | BICEPS | FOREARM | WRIST |\n",
       "|---|---|---|---|---|---|---|---|---|---|---|---|---|---|---|---|\n",
       "| 12.6 | 1.0708 | 23 | 154.25 | 67.75 | 23.7 | 36.2 |  93.1 |  85.2 |  94.5 | 59.0 | 37.3 | 21.9 | 32.0 | 27.4 | 17.1 |\n",
       "|  6.9 | 1.0853 | 22 | 173.25 | 72.25 | 23.4 | 38.5 |  93.6 |  83.0 |  98.7 | 58.7 | 37.3 | 23.4 | 30.5 | 28.9 | 18.2 |\n",
       "| 24.6 | 1.0414 | 22 | 154.00 | 66.25 | 24.7 | 34.0 |  95.8 |  87.9 |  99.2 | 59.6 | 38.9 | 24.0 | 28.8 | 25.2 | 16.6 |\n",
       "| 10.9 | 1.0751 | 26 | 184.75 | 72.25 | 24.9 | 37.4 | 101.8 |  86.4 | 101.2 | 60.1 | 37.3 | 22.8 | 32.4 | 29.4 | 18.2 |\n",
       "| 27.8 | 1.0340 | 24 | 184.25 | 71.25 | 25.6 | 34.4 |  97.3 | 100.0 | 101.9 | 63.2 | 42.2 | 24.0 | 32.2 | 27.7 | 17.7 |\n",
       "| 20.6 | 1.0502 | 24 | 210.25 | 74.75 | 26.5 | 39.0 | 104.5 |  94.4 | 107.8 | 66.0 | 42.0 | 25.6 | 35.7 | 30.6 | 18.8 |\n",
       "\n"
      ],
      "text/plain": [
       "     BODYFAT DENSITY AGE WEIGHT HEIGHT ADIPOSITY NECK CHEST ABDOMEN HIP   THIGH\n",
       "[1,] 12.6    1.0708  23  154.25 67.75  23.7      36.2  93.1  85.2    94.5 59.0 \n",
       "[2,]  6.9    1.0853  22  173.25 72.25  23.4      38.5  93.6  83.0    98.7 58.7 \n",
       "[3,] 24.6    1.0414  22  154.00 66.25  24.7      34.0  95.8  87.9    99.2 59.6 \n",
       "[4,] 10.9    1.0751  26  184.75 72.25  24.9      37.4 101.8  86.4   101.2 60.1 \n",
       "[5,] 27.8    1.0340  24  184.25 71.25  25.6      34.4  97.3 100.0   101.9 63.2 \n",
       "[6,] 20.6    1.0502  24  210.25 74.75  26.5      39.0 104.5  94.4   107.8 66.0 \n",
       "     KNEE ANKLE BICEPS FOREARM WRIST\n",
       "[1,] 37.3 21.9  32.0   27.4    17.1 \n",
       "[2,] 37.3 23.4  30.5   28.9    18.2 \n",
       "[3,] 38.9 24.0  28.8   25.2    16.6 \n",
       "[4,] 37.3 22.8  32.4   29.4    18.2 \n",
       "[5,] 42.2 24.0  32.2   27.7    17.7 \n",
       "[6,] 42.0 25.6  35.7   30.6    18.8 "
      ]
     },
     "metadata": {},
     "output_type": "display_data"
    }
   ],
   "source": [
    "rm(list=ls())\n",
    "library(\"BeSS\")\n",
    "setwd('C:/Users/Tansu/OneDrive/Course Files/628/Module 2')\n",
    "total=read.csv(\"clean_dataset.csv\")\n",
    "total = total[,-c(1,2)]\n",
    "head(as.matrix(total))"
   ]
  },
  {
   "cell_type": "code",
   "execution_count": 28,
   "metadata": {
    "scrolled": true
   },
   "outputs": [
    {
     "data": {
      "text/html": [
       "<ol class=list-inline>\n",
       "\t<li>15</li>\n",
       "\t<li>9</li>\n",
       "\t<li>3</li>\n",
       "\t<li>3</li>\n",
       "</ol>\n"
      ],
      "text/latex": [
       "\\begin{enumerate*}\n",
       "\\item 15\n",
       "\\item 9\n",
       "\\item 3\n",
       "\\item 3\n",
       "\\end{enumerate*}\n"
      ],
      "text/markdown": [
       "1. 15\n",
       "2. 9\n",
       "3. 3\n",
       "4. 3\n",
       "\n",
       "\n"
      ],
      "text/plain": [
       "[1] 15  9  3  3"
      ]
     },
     "metadata": {},
     "output_type": "display_data"
    }
   ],
   "source": [
    "aic_bess = c()\n",
    "bic_bess = c()\n",
    "gic_bess = c()\n",
    "mse_bess = c()\n",
    "aic_bess[1] = Inf\n",
    "bic_bess[1] = Inf\n",
    "gic_bess[1] = Inf\n",
    "mse_bess[1] = Inf\n",
    "for ( i in 2:(length(total[1,])-1)){\n",
    "  model_bic <- bess.one(x = total[,-1],y = total[,1],s = i)\n",
    "  mse_bess[i] = model_bic$mse\n",
    "  aic_bess[i] = model_bic$AIC\n",
    "  bic_bess[i] = model_bic$BIC\n",
    "  gic_bess[i] = model_bic$GIC\n",
    "}\n",
    "c(which(mse_bess[] == min(mse_bess)), which(aic_bess[] == min(aic_bess)),which(bic_bess[] == min(bic_bess)),which(gic_bess[] == min(gic_bess)))\n"
   ]
  },
  {
   "cell_type": "code",
   "execution_count": 27,
   "metadata": {
    "scrolled": true
   },
   "outputs": [
    {
     "data": {
      "image/png": "[encoded data removed]",
      "text/plain": [
       "plot without title"
      ]
     },
     "metadata": {},
     "output_type": "display_data"
    }
   ],
   "source": [
    "layout(matrix(1:4,ncol = 2))\n",
    "plot(mse_bess)\n",
    "plot(aic_bess)\n",
    "plot(bic_bess)\n",
    "plot(gic_bess)"
   ]
  },
  {
   "cell_type": "code",
   "execution_count": 42,
   "metadata": {},
   "outputs": [
    {
     "name": "stdout",
     "output_type": "stream",
     "text": [
      "----------------------------------------------------------------------\n",
      "    Primal-dual active algorithm with maximum iteration being 20 \n",
      "\n",
      "    Best model with k = 5 includes predictors: \n",
      "\n",
      "      DENSITY     ADIPOSITY         CHEST       ABDOMEN           HIP \n",
      "-4.066405e+02  4.589571e-02 -1.279628e-02  7.783275e-03 -1.274518e-02 \n",
      "\n",
      "    log-likelihood:    323.0057 \n",
      "    deviance:         -646.0114 \n",
      "    AIC:              -636.0114 \n",
      "    BIC:              -618.4644 \n",
      "    GIC:             -622.9056 \n",
      "----------------------------------------------------------------------\n"
     ]
    }
   ],
   "source": [
    "model_bic <- bess.one(x = total[,-1],y = total[,1],s = 5)\n",
    "summary(model_bic)"
   ]
  },
  {
   "cell_type": "markdown",
   "metadata": {},
   "source": [
    "# Cross Validation"
   ]
  },
  {
   "cell_type": "code",
   "execution_count": 32,
   "metadata": {},
   "outputs": [],
   "source": [
    "times = 1000\n",
    "\n",
    "mse_lm_bess <- rep(0,times)\n",
    "mse_lm_bess_2 <- rep(0,times)"
   ]
  },
  {
   "cell_type": "code",
   "execution_count": 48,
   "metadata": {},
   "outputs": [],
   "source": [
    "for (g in 1:times){\n",
    "  choices = sample(1: length(total[,1]),82*2)\n",
    "  test <- total[as.vector(choices),]\n",
    "  val <- total[-as.vector(choices),]\n",
    "\n",
    "  lm_bess <- lm(data = test,BODYFAT~DENSITY+ADIPOSITY+CHEST+ABDOMEN+HIP)\n",
    "  summary(lm_bess)\n",
    "  pre_bess <-predict.lm(lm_bess,data = val)\n",
    "  \n",
    "  lm_bess_2 <- lm(data = test,DENSITY~ADIPOSITY+CHEST+KNEE)\n",
    "  pre_bess_2 <-predict.lm(lm_bess_2,data = val)\n",
    "  summary(lm_bess_2)\n",
    "  \n",
    "  for( i in 1:length(val[,1])){\n",
    "    mse_lm_bess[g] = as.numeric((pre_bess[i] - val[i,1])^2) + mse_lm_bess[g]\n",
    "    mse_lm_bess_2[g] = as.numeric((pre_bess_2[i] - val[i,1])^2) + mse_lm_bess_2[g]\n",
    "  }\n",
    "}\n",
    "mse_lm_bess = mse_lm_bess/times\n",
    "mse_lm_bess_2 = mse_lm_bess_2/times"
   ]
  },
  {
   "cell_type": "code",
   "execution_count": 49,
   "metadata": {},
   "outputs": [
    {
     "data": {
      "image/png": "[encoded data removed]",
      "text/plain": [
       "plot without title"
      ]
     },
     "metadata": {},
     "output_type": "display_data"
    }
   ],
   "source": [
    "plot(mse_lm_bess/length(val[,1]))"
   ]
  },
  {
   "cell_type": "code",
   "execution_count": null,
   "metadata": {},
   "outputs": [],
   "source": []
  }
 ],
 "metadata": {
  "kernelspec": {
   "display_name": "R",
   "language": "R",
   "name": "ir"
  },
  "language_info": {
   "codemirror_mode": "r",
   "file_extension": ".r",
   "mimetype": "text/x-r-source",
   "name": "R",
   "pygments_lexer": "r",
   "version": "3.6.1"
  }
 },
 "nbformat": 4,
 "nbformat_minor": 2
}
