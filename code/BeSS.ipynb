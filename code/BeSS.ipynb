{
 "cells": [
  {
   "cell_type": "code",
   "execution_count": 1,
   "metadata": {
    "scrolled": true
   },
   "outputs": [
    {
     "data": {
      "text/html": [
       "<table>\n",
       "<caption>A matrix: 6 × 15 of type dbl</caption>\n",
       "<thead>\n",
       "\t<tr><th scope=col>BODYFAT</th><th scope=col>AGE</th><th scope=col>WEIGHT</th><th scope=col>HEIGHT</th><th scope=col>ADIPOSITY</th><th scope=col>NECK</th><th scope=col>CHEST</th><th scope=col>ABDOMEN</th><th scope=col>HIP</th><th scope=col>THIGH</th><th scope=col>KNEE</th><th scope=col>ANKLE</th><th scope=col>BICEPS</th><th scope=col>FOREARM</th><th scope=col>WRIST</th></tr>\n",
       "</thead>\n",
       "<tbody>\n",
       "\t<tr><td>12.6</td><td>23</td><td>154.25</td><td>67.75</td><td>23.7</td><td>36.2</td><td> 93.1</td><td> 85.2</td><td> 94.5</td><td>59.0</td><td>37.3</td><td>21.9</td><td>32.0</td><td>27.4</td><td>17.1</td></tr>\n",
       "\t<tr><td> 6.9</td><td>22</td><td>173.25</td><td>72.25</td><td>23.4</td><td>38.5</td><td> 93.6</td><td> 83.0</td><td> 98.7</td><td>58.7</td><td>37.3</td><td>23.4</td><td>30.5</td><td>28.9</td><td>18.2</td></tr>\n",
       "\t<tr><td>24.6</td><td>22</td><td>154.00</td><td>66.25</td><td>24.7</td><td>34.0</td><td> 95.8</td><td> 87.9</td><td> 99.2</td><td>59.6</td><td>38.9</td><td>24.0</td><td>28.8</td><td>25.2</td><td>16.6</td></tr>\n",
       "\t<tr><td>10.9</td><td>26</td><td>184.75</td><td>72.25</td><td>24.9</td><td>37.4</td><td>101.8</td><td> 86.4</td><td>101.2</td><td>60.1</td><td>37.3</td><td>22.8</td><td>32.4</td><td>29.4</td><td>18.2</td></tr>\n",
       "\t<tr><td>27.8</td><td>24</td><td>184.25</td><td>71.25</td><td>25.6</td><td>34.4</td><td> 97.3</td><td>100.0</td><td>101.9</td><td>63.2</td><td>42.2</td><td>24.0</td><td>32.2</td><td>27.7</td><td>17.7</td></tr>\n",
       "\t<tr><td>20.6</td><td>24</td><td>210.25</td><td>74.75</td><td>26.5</td><td>39.0</td><td>104.5</td><td> 94.4</td><td>107.8</td><td>66.0</td><td>42.0</td><td>25.6</td><td>35.7</td><td>30.6</td><td>18.8</td></tr>\n",
       "</tbody>\n",
       "</table>\n"
      ],
      "text/latex": [
       "A matrix: 6 × 15 of type dbl\n",
       "\\begin{tabular}{lllllllllllllll}\n",
       " BODYFAT & AGE & WEIGHT & HEIGHT & ADIPOSITY & NECK & CHEST & ABDOMEN & HIP & THIGH & KNEE & ANKLE & BICEPS & FOREARM & WRIST\\\\\n",
       "\\hline\n",
       "\t 12.6 & 23 & 154.25 & 67.75 & 23.7 & 36.2 &  93.1 &  85.2 &  94.5 & 59.0 & 37.3 & 21.9 & 32.0 & 27.4 & 17.1\\\\\n",
       "\t  6.9 & 22 & 173.25 & 72.25 & 23.4 & 38.5 &  93.6 &  83.0 &  98.7 & 58.7 & 37.3 & 23.4 & 30.5 & 28.9 & 18.2\\\\\n",
       "\t 24.6 & 22 & 154.00 & 66.25 & 24.7 & 34.0 &  95.8 &  87.9 &  99.2 & 59.6 & 38.9 & 24.0 & 28.8 & 25.2 & 16.6\\\\\n",
       "\t 10.9 & 26 & 184.75 & 72.25 & 24.9 & 37.4 & 101.8 &  86.4 & 101.2 & 60.1 & 37.3 & 22.8 & 32.4 & 29.4 & 18.2\\\\\n",
       "\t 27.8 & 24 & 184.25 & 71.25 & 25.6 & 34.4 &  97.3 & 100.0 & 101.9 & 63.2 & 42.2 & 24.0 & 32.2 & 27.7 & 17.7\\\\\n",
       "\t 20.6 & 24 & 210.25 & 74.75 & 26.5 & 39.0 & 104.5 &  94.4 & 107.8 & 66.0 & 42.0 & 25.6 & 35.7 & 30.6 & 18.8\\\\\n",
       "\\end{tabular}\n"
      ],
      "text/markdown": [
       "\n",
       "A matrix: 6 × 15 of type dbl\n",
       "\n",
       "| BODYFAT | AGE | WEIGHT | HEIGHT | ADIPOSITY | NECK | CHEST | ABDOMEN | HIP | THIGH | KNEE | ANKLE | BICEPS | FOREARM | WRIST |\n",
       "|---|---|---|---|---|---|---|---|---|---|---|---|---|---|---|\n",
       "| 12.6 | 23 | 154.25 | 67.75 | 23.7 | 36.2 |  93.1 |  85.2 |  94.5 | 59.0 | 37.3 | 21.9 | 32.0 | 27.4 | 17.1 |\n",
       "|  6.9 | 22 | 173.25 | 72.25 | 23.4 | 38.5 |  93.6 |  83.0 |  98.7 | 58.7 | 37.3 | 23.4 | 30.5 | 28.9 | 18.2 |\n",
       "| 24.6 | 22 | 154.00 | 66.25 | 24.7 | 34.0 |  95.8 |  87.9 |  99.2 | 59.6 | 38.9 | 24.0 | 28.8 | 25.2 | 16.6 |\n",
       "| 10.9 | 26 | 184.75 | 72.25 | 24.9 | 37.4 | 101.8 |  86.4 | 101.2 | 60.1 | 37.3 | 22.8 | 32.4 | 29.4 | 18.2 |\n",
       "| 27.8 | 24 | 184.25 | 71.25 | 25.6 | 34.4 |  97.3 | 100.0 | 101.9 | 63.2 | 42.2 | 24.0 | 32.2 | 27.7 | 17.7 |\n",
       "| 20.6 | 24 | 210.25 | 74.75 | 26.5 | 39.0 | 104.5 |  94.4 | 107.8 | 66.0 | 42.0 | 25.6 | 35.7 | 30.6 | 18.8 |\n",
       "\n"
      ],
      "text/plain": [
       "     BODYFAT AGE WEIGHT HEIGHT ADIPOSITY NECK CHEST ABDOMEN HIP   THIGH KNEE\n",
       "[1,] 12.6    23  154.25 67.75  23.7      36.2  93.1  85.2    94.5 59.0  37.3\n",
       "[2,]  6.9    22  173.25 72.25  23.4      38.5  93.6  83.0    98.7 58.7  37.3\n",
       "[3,] 24.6    22  154.00 66.25  24.7      34.0  95.8  87.9    99.2 59.6  38.9\n",
       "[4,] 10.9    26  184.75 72.25  24.9      37.4 101.8  86.4   101.2 60.1  37.3\n",
       "[5,] 27.8    24  184.25 71.25  25.6      34.4  97.3 100.0   101.9 63.2  42.2\n",
       "[6,] 20.6    24  210.25 74.75  26.5      39.0 104.5  94.4   107.8 66.0  42.0\n",
       "     ANKLE BICEPS FOREARM WRIST\n",
       "[1,] 21.9  32.0   27.4    17.1 \n",
       "[2,] 23.4  30.5   28.9    18.2 \n",
       "[3,] 24.0  28.8   25.2    16.6 \n",
       "[4,] 22.8  32.4   29.4    18.2 \n",
       "[5,] 24.0  32.2   27.7    17.7 \n",
       "[6,] 25.6  35.7   30.6    18.8 "
      ]
     },
     "metadata": {},
     "output_type": "display_data"
    }
   ],
   "source": [
    "rm(list=ls())\n",
    "library(\"BeSS\")\n",
    "library(stringr)\n",
    "setwd(paste0(strsplit(getwd(),split = \"/code\"), \"/dataset\"))\n",
    "total=read.csv(\"clean dataset.csv\")\n",
    "total = total[,-c(1,3)]\n",
    "head(as.matrix(total))"
   ]
  },
  {
   "cell_type": "code",
   "execution_count": 2,
   "metadata": {
    "scrolled": true
   },
   "outputs": [
    {
     "data": {
      "text/html": [
       "<ol class=list-inline>\n",
       "\t<li>14</li>\n",
       "\t<li>6</li>\n",
       "\t<li>5</li>\n",
       "\t<li>5</li>\n",
       "</ol>\n"
      ],
      "text/latex": [
       "\\begin{enumerate*}\n",
       "\\item 14\n",
       "\\item 6\n",
       "\\item 5\n",
       "\\item 5\n",
       "\\end{enumerate*}\n"
      ],
      "text/markdown": [
       "1. 14\n",
       "2. 6\n",
       "3. 5\n",
       "4. 5\n",
       "\n",
       "\n"
      ],
      "text/plain": [
       "[1] 14  6  5  5"
      ]
     },
     "metadata": {},
     "output_type": "display_data"
    }
   ],
   "source": [
    "aic_bess = c()\n",
    "bic_bess = c()\n",
    "gic_bess = c()\n",
    "mse_bess = c()\n",
    "aic_bess[1] = Inf\n",
    "bic_bess[1] = Inf\n",
    "gic_bess[1] = Inf\n",
    "mse_bess[1] = Inf\n",
    "for ( i in 2:(length(total[1,])-1)){\n",
    "  model_bic <- bess.one(x = total[,-1],y = total[,1],s = i)\n",
    "  mse_bess[i] = model_bic$mse\n",
    "  aic_bess[i] = model_bic$AIC\n",
    "  bic_bess[i] = model_bic$BIC\n",
    "  gic_bess[i] = model_bic$GIC\n",
    "}\n",
    "c(which(mse_bess[] == min(mse_bess)), which(aic_bess[] == min(aic_bess)),which(bic_bess[] == min(bic_bess)),which(gic_bess[] == min(gic_bess)))\n"
   ]
  },
  {
   "cell_type": "code",
   "execution_count": 3,
   "metadata": {
    "scrolled": true
   },
   "outputs": [
    {
     "data": {
      "image/png": "[encoded data removed]",
      "text/plain": [
       "plot without title"
      ]
     },
     "metadata": {},
     "output_type": "display_data"
    }
   ],
   "source": [
    "layout(matrix(1:4,ncol = 2))\n",
    "plot(x = 2:length(total[1,])-1, y = mse_bess,xlab = \"number of variables\",ylab = \"mse\")\n",
    "plot(x = 2:length(total[1,])-1, y =aic_bess,xlab = \"number of variables\",ylab = \"AIC\")\n",
    "plot(x = 2:length(total[1,])-1, y =bic_bess,xlab = \"number of variables\",ylab = \"BIC\")\n",
    "plot(x = 2:length(total[1,])-1, y =gic_bess,xlab = \"number of variables\",ylab = \"GIC\")"
   ]
  },
  {
   "cell_type": "markdown",
   "metadata": {},
   "source": [
    "thus based on the BIC creterion, the best choice of variables are the weight, adiposity, chest, abdomen and wrist.\n",
    "\n",
    "Since from our experience, the wrist will not change too much from a slim person to the fat one, we try to leave it out and see how does bic change."
   ]
  },
  {
   "cell_type": "markdown",
   "metadata": {},
   "source": [
    "### the optimal choice, keep 5 variables included"
   ]
  },
  {
   "cell_type": "code",
   "execution_count": 13,
   "metadata": {},
   "outputs": [
    {
     "name": "stdout",
     "output_type": "stream",
     "text": [
      "----------------------------------------------------------------------\n",
      "    Primal-dual active algorithm with maximum iteration being 20 \n",
      "\n",
      "    Best model with k = 5 includes predictors: \n",
      "\n",
      "     WEIGHT   ADIPOSITY       CHEST     ABDOMEN       WRIST \n",
      "-0.08553549  0.32860993 -0.10629224  0.85750192 -1.27843665 \n",
      "\n",
      "    log-likelihood:   -335.5116 \n",
      "    deviance:          671.0233 \n",
      "    AIC:               681.0233 \n",
      "    BIC:               698.5904 \n",
      "    GIC:               693.5501 \n",
      "----------------------------------------------------------------------\n"
     ]
    }
   ],
   "source": [
    "summary(model_bess_5 <- bess.one(y = total[,1], x = total[,-1],s = 5))"
   ]
  },
  {
   "cell_type": "markdown",
   "metadata": {},
   "source": [
    "### leave WRIST out"
   ]
  },
  {
   "cell_type": "code",
   "execution_count": 6,
   "metadata": {
    "scrolled": true
   },
   "outputs": [
    {
     "name": "stdout",
     "output_type": "stream",
     "text": [
      "----------------------------------------------------------------------\n",
      "    Primal-dual active algorithm with maximum iteration being 20 \n",
      "\n",
      "    Best model with k = 4 includes predictors: \n",
      "\n",
      " ADIPOSITY      CHEST    ABDOMEN        HIP \n",
      " 0.4093457 -0.3021311  0.8802117 -0.3180236 \n",
      "\n",
      "    log-likelihood:   -347.2795 \n",
      "    deviance:          694.559 \n",
      "    AIC:               702.559 \n",
      "    BIC:               716.6127 \n",
      "    GIC:               712.5805 \n",
      "----------------------------------------------------------------------\n"
     ]
    }
   ],
   "source": [
    "summary(model_bess_4 <- bess.one(y = total[,1], x = total[,-1],s = 4))"
   ]
  },
  {
   "cell_type": "markdown",
   "metadata": {},
   "source": [
    "#### try 3 variables"
   ]
  },
  {
   "cell_type": "code",
   "execution_count": 7,
   "metadata": {},
   "outputs": [
    {
     "name": "stdout",
     "output_type": "stream",
     "text": [
      "----------------------------------------------------------------------\n",
      "    Primal-dual active algorithm with maximum iteration being 20 \n",
      "\n",
      "    Best model with k = 3 includes predictors: \n",
      "\n",
      "    HEIGHT      CHEST    ABDOMEN \n",
      "-0.4797692 -0.2350179  0.8042798 \n",
      "\n",
      "    log-likelihood:   -343.7206 \n",
      "    deviance:          687.4412 \n",
      "    AIC:               693.4412 \n",
      "    BIC:               703.9815 \n",
      "    GIC:               700.9573 \n",
      "----------------------------------------------------------------------\n"
     ]
    }
   ],
   "source": [
    "summary(model_bess_3 <- bess.one(y = total[,1], x = total[,-1],s = 3))"
   ]
  },
  {
   "cell_type": "markdown",
   "metadata": {},
   "source": [
    "Adjust R square only changes from 0.7226 to 0.7118, and it is too small to keep WRIST as one independent variable."
   ]
  },
  {
   "cell_type": "markdown",
   "metadata": {},
   "source": [
    "# Cross Validation"
   ]
  },
  {
   "cell_type": "code",
   "execution_count": 8,
   "metadata": {},
   "outputs": [
    {
     "data": {
      "text/html": [
       "<table>\n",
       "<caption>A matrix: 6 × 15 of type dbl</caption>\n",
       "<thead>\n",
       "\t<tr><th scope=col>BODYFAT</th><th scope=col>AGE</th><th scope=col>WEIGHT</th><th scope=col>HEIGHT</th><th scope=col>ADIPOSITY</th><th scope=col>NECK</th><th scope=col>CHEST</th><th scope=col>ABDOMEN</th><th scope=col>HIP</th><th scope=col>THIGH</th><th scope=col>KNEE</th><th scope=col>ANKLE</th><th scope=col>BICEPS</th><th scope=col>FOREARM</th><th scope=col>WRIST</th></tr>\n",
       "</thead>\n",
       "<tbody>\n",
       "\t<tr><td>12.6</td><td>23</td><td>154.25</td><td>67.75</td><td>23.7</td><td>36.2</td><td> 93.1</td><td> 85.2</td><td> 94.5</td><td>59.0</td><td>37.3</td><td>21.9</td><td>32.0</td><td>27.4</td><td>17.1</td></tr>\n",
       "\t<tr><td> 6.9</td><td>22</td><td>173.25</td><td>72.25</td><td>23.4</td><td>38.5</td><td> 93.6</td><td> 83.0</td><td> 98.7</td><td>58.7</td><td>37.3</td><td>23.4</td><td>30.5</td><td>28.9</td><td>18.2</td></tr>\n",
       "\t<tr><td>24.6</td><td>22</td><td>154.00</td><td>66.25</td><td>24.7</td><td>34.0</td><td> 95.8</td><td> 87.9</td><td> 99.2</td><td>59.6</td><td>38.9</td><td>24.0</td><td>28.8</td><td>25.2</td><td>16.6</td></tr>\n",
       "\t<tr><td>10.9</td><td>26</td><td>184.75</td><td>72.25</td><td>24.9</td><td>37.4</td><td>101.8</td><td> 86.4</td><td>101.2</td><td>60.1</td><td>37.3</td><td>22.8</td><td>32.4</td><td>29.4</td><td>18.2</td></tr>\n",
       "\t<tr><td>27.8</td><td>24</td><td>184.25</td><td>71.25</td><td>25.6</td><td>34.4</td><td> 97.3</td><td>100.0</td><td>101.9</td><td>63.2</td><td>42.2</td><td>24.0</td><td>32.2</td><td>27.7</td><td>17.7</td></tr>\n",
       "\t<tr><td>20.6</td><td>24</td><td>210.25</td><td>74.75</td><td>26.5</td><td>39.0</td><td>104.5</td><td> 94.4</td><td>107.8</td><td>66.0</td><td>42.0</td><td>25.6</td><td>35.7</td><td>30.6</td><td>18.8</td></tr>\n",
       "</tbody>\n",
       "</table>\n"
      ],
      "text/latex": [
       "A matrix: 6 × 15 of type dbl\n",
       "\\begin{tabular}{lllllllllllllll}\n",
       " BODYFAT & AGE & WEIGHT & HEIGHT & ADIPOSITY & NECK & CHEST & ABDOMEN & HIP & THIGH & KNEE & ANKLE & BICEPS & FOREARM & WRIST\\\\\n",
       "\\hline\n",
       "\t 12.6 & 23 & 154.25 & 67.75 & 23.7 & 36.2 &  93.1 &  85.2 &  94.5 & 59.0 & 37.3 & 21.9 & 32.0 & 27.4 & 17.1\\\\\n",
       "\t  6.9 & 22 & 173.25 & 72.25 & 23.4 & 38.5 &  93.6 &  83.0 &  98.7 & 58.7 & 37.3 & 23.4 & 30.5 & 28.9 & 18.2\\\\\n",
       "\t 24.6 & 22 & 154.00 & 66.25 & 24.7 & 34.0 &  95.8 &  87.9 &  99.2 & 59.6 & 38.9 & 24.0 & 28.8 & 25.2 & 16.6\\\\\n",
       "\t 10.9 & 26 & 184.75 & 72.25 & 24.9 & 37.4 & 101.8 &  86.4 & 101.2 & 60.1 & 37.3 & 22.8 & 32.4 & 29.4 & 18.2\\\\\n",
       "\t 27.8 & 24 & 184.25 & 71.25 & 25.6 & 34.4 &  97.3 & 100.0 & 101.9 & 63.2 & 42.2 & 24.0 & 32.2 & 27.7 & 17.7\\\\\n",
       "\t 20.6 & 24 & 210.25 & 74.75 & 26.5 & 39.0 & 104.5 &  94.4 & 107.8 & 66.0 & 42.0 & 25.6 & 35.7 & 30.6 & 18.8\\\\\n",
       "\\end{tabular}\n"
      ],
      "text/markdown": [
       "\n",
       "A matrix: 6 × 15 of type dbl\n",
       "\n",
       "| BODYFAT | AGE | WEIGHT | HEIGHT | ADIPOSITY | NECK | CHEST | ABDOMEN | HIP | THIGH | KNEE | ANKLE | BICEPS | FOREARM | WRIST |\n",
       "|---|---|---|---|---|---|---|---|---|---|---|---|---|---|---|\n",
       "| 12.6 | 23 | 154.25 | 67.75 | 23.7 | 36.2 |  93.1 |  85.2 |  94.5 | 59.0 | 37.3 | 21.9 | 32.0 | 27.4 | 17.1 |\n",
       "|  6.9 | 22 | 173.25 | 72.25 | 23.4 | 38.5 |  93.6 |  83.0 |  98.7 | 58.7 | 37.3 | 23.4 | 30.5 | 28.9 | 18.2 |\n",
       "| 24.6 | 22 | 154.00 | 66.25 | 24.7 | 34.0 |  95.8 |  87.9 |  99.2 | 59.6 | 38.9 | 24.0 | 28.8 | 25.2 | 16.6 |\n",
       "| 10.9 | 26 | 184.75 | 72.25 | 24.9 | 37.4 | 101.8 |  86.4 | 101.2 | 60.1 | 37.3 | 22.8 | 32.4 | 29.4 | 18.2 |\n",
       "| 27.8 | 24 | 184.25 | 71.25 | 25.6 | 34.4 |  97.3 | 100.0 | 101.9 | 63.2 | 42.2 | 24.0 | 32.2 | 27.7 | 17.7 |\n",
       "| 20.6 | 24 | 210.25 | 74.75 | 26.5 | 39.0 | 104.5 |  94.4 | 107.8 | 66.0 | 42.0 | 25.6 | 35.7 | 30.6 | 18.8 |\n",
       "\n"
      ],
      "text/plain": [
       "     BODYFAT AGE WEIGHT HEIGHT ADIPOSITY NECK CHEST ABDOMEN HIP   THIGH KNEE\n",
       "[1,] 12.6    23  154.25 67.75  23.7      36.2  93.1  85.2    94.5 59.0  37.3\n",
       "[2,]  6.9    22  173.25 72.25  23.4      38.5  93.6  83.0    98.7 58.7  37.3\n",
       "[3,] 24.6    22  154.00 66.25  24.7      34.0  95.8  87.9    99.2 59.6  38.9\n",
       "[4,] 10.9    26  184.75 72.25  24.9      37.4 101.8  86.4   101.2 60.1  37.3\n",
       "[5,] 27.8    24  184.25 71.25  25.6      34.4  97.3 100.0   101.9 63.2  42.2\n",
       "[6,] 20.6    24  210.25 74.75  26.5      39.0 104.5  94.4   107.8 66.0  42.0\n",
       "     ANKLE BICEPS FOREARM WRIST\n",
       "[1,] 21.9  32.0   27.4    17.1 \n",
       "[2,] 23.4  30.5   28.9    18.2 \n",
       "[3,] 24.0  28.8   25.2    16.6 \n",
       "[4,] 22.8  32.4   29.4    18.2 \n",
       "[5,] 24.0  32.2   27.7    17.7 \n",
       "[6,] 25.6  35.7   30.6    18.8 "
      ]
     },
     "metadata": {},
     "output_type": "display_data"
    },
    {
     "name": "stdout",
     "output_type": "stream",
     "text": [
      "----------------------------------------------------------------------\n",
      "    Primal-dual active algorithm with maximum iteration being 20 \n",
      "\n",
      "    Best model with k = 3 includes predictors: \n",
      "\n",
      "    HEIGHT      CHEST    ABDOMEN \n",
      "-0.4797692 -0.2350179  0.8042798 \n",
      "\n",
      "    log-likelihood:   -343.7206 \n",
      "    deviance:          687.4412 \n",
      "    AIC:               693.4412 \n",
      "    BIC:               703.9815 \n",
      "    GIC:               700.9573 \n",
      "----------------------------------------------------------------------\n"
     ]
    }
   ],
   "source": [
    "rm(list=ls())\n",
    "library(\"BeSS\")\n",
    "setwd('C:/Users/Tansu/Documents/GitHub/UW-STAT628-M2/dataset')\n",
    "total=read.csv(\"clean dataset.csv\")\n",
    "total = total[,-c(1,3)]\n",
    "head(as.matrix(total))\n",
    "\n",
    "summary(model_bess <- bess.one(y = total[,1], x = total[,-1],s = 3))\n",
    "times = 1000\n",
    "mse_bess_5 <- rep(0,times)\n",
    "mse_bess_4 <- rep(0,times)\n",
    "mse_bess_3 <- rep(0,times)\n",
    "total_bess_5 <- rep(0,times)\n",
    "total_bess_4 <- rep(0,times)\n",
    "total_bess_3 <- rep(0,times)"
   ]
  },
  {
   "cell_type": "code",
   "execution_count": 9,
   "metadata": {},
   "outputs": [],
   "source": [
    "for (g in 1:times){\n",
    "  choices = sample(1: length(total[,1]),82*2)\n",
    "  test <- total[as.vector(choices),]\n",
    "  val <- total[-as.vector(choices),]\n",
    "  \n",
    "  model_bess_3 <- bess.one(y = test[,1], x = test[,c(4,7,8)],s = 3)\n",
    "  pre_bess_3 <-predict(model_bess_3,val,type = \"BIC\")\n",
    "  \n",
    "  model_bess_5 <- bess.one(y = test[,1], x = test[,c(3,5,7,8,15)],s = 5)\n",
    "  pre_bess_5 <-predict(model_bess_5,val,type = \"BIC\")\n",
    "  \n",
    "  model_bess_4 <- bess.one(y = test[,1], x = test[,c(3,5,7,8)],s = 4)\n",
    "  pre_bess_4 <-predict(model_bess_4,val,type = \"BIC\")\n",
    "    \n",
    "  ave <- ave(val[,1])\n",
    "  for( i in 1:length(val[,1])){\n",
    "    mse_bess_5[g] = as.numeric((pre_bess_5[i] - val[i,1])^2) + mse_bess_5[g]\n",
    "    mse_bess_4[g] = as.numeric((pre_bess_4[i] - val[i,1])^2) + mse_bess_4[g]\n",
    "    mse_bess_3[g] = as.numeric((pre_bess_3[i] - val[i,1])^2) + mse_bess_3[g]\n",
    "    total_bess_5[g] = as.numeric((val[i,1] - ave[i])^2) + total_bess_5[g]\n",
    "    total_bess_4[g] = as.numeric((val[i,1] - ave[i])^2) + total_bess_4[g]\n",
    "    total_bess_3[g] = as.numeric((val[i,1] - ave[i])^2) + total_bess_3[g]\n",
    "  }\n",
    "}"
   ]
  },
  {
   "cell_type": "code",
   "execution_count": 10,
   "metadata": {
    "scrolled": true
   },
   "outputs": [
    {
     "name": "stdout",
     "output_type": "stream",
     "text": [
      "the R square of 5 variables model is  0.7064114 \n",
      "the R square of 4 variables model is  0.6968335 \n",
      "the R square of 3 variables model is  0.6920139 \n",
      "the MSE of 5 variables model is 15.92482 \n",
      "the MSE of 4 variables model is 16.43817 \n",
      "the MSE of 3 variables model is 16.6985 \n"
     ]
    }
   ],
   "source": [
    "R2_5 = 1 - mse_bess_5/total_bess_5\n",
    "R2_4 = 1 - mse_bess_4/total_bess_4\n",
    "R2_3 = 1 - mse_bess_3/total_bess_3\n",
    "cat(\"the R square of 5 variables model is \",mean(R2_5),\"\\n\")\n",
    "cat(\"the R square of 4 variables model is \",mean(R2_4),\"\\n\")\n",
    "cat(\"the R square of 3 variables model is \",mean(R2_3),\"\\n\")\n",
    " \n",
    "cat(\"the MSE of 5 variables model is\",mean(mse_bess_5/(length(total[,1])-82*2)),\"\\n\")\n",
    "cat(\"the MSE of 4 variables model is\",mean(mse_bess_4/(length(total[,1])-82*2)),\"\\n\")\n",
    "cat(\"the MSE of 3 variables model is\",mean(mse_bess_3/(length(total[,1])-82*2)),\"\\n\")"
   ]
  }
 ],
 "metadata": {
  "kernelspec": {
   "display_name": "R",
   "language": "R",
   "name": "ir"
  },
  "language_info": {
   "codemirror_mode": "r",
   "file_extension": ".r",
   "mimetype": "text/x-r-source",
   "name": "R",
   "pygments_lexer": "r",
   "version": "3.6.1"
  }
 },
 "nbformat": 4,
 "nbformat_minor": 2
}
